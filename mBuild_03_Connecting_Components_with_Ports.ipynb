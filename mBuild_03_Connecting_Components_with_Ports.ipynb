{
 "cells": [
  {
   "cell_type": "markdown",
   "metadata": {
    "collapsed": true
   },
   "source": [
    "# mBuild Tutorial 03: Connecting Components with Ports\n",
    "\n",
    "This tutorial demonstrates how to create `Ports` on `Compounds`, which aids in connecting them together by both creating bonds and moving the `Compounds` in space."
   ]
  },
  {
   "cell_type": "markdown",
   "metadata": {},
   "source": [
    "As in the prior tutorials, we need to first import mbuild (here as `mb`)."
   ]
  },
  {
   "cell_type": "code",
   "execution_count": 1,
   "metadata": {},
   "outputs": [],
   "source": [
    "import warnings\n",
    "warnings.filterwarnings('ignore')\n",
    "\n",
    "import mbuild as mb"
   ]
  },
  {
   "cell_type": "markdown",
   "metadata": {},
   "source": [
    "We've already shown that `Particles` can be connected (i.e. bonded) by using the `add_bond` routine; however, this does not actually move the atoms in space, and it would become burdensome to need to manually update the position of each atom when connecting them together. Additionally, having to create fixed bonds for all connections would make mBuild less flexible; again, a key function of mBuild is the ability to exchange and swap `Compounds`, allowing arbitrary molecules to be constructed.  \n",
    "\n",
    "This is where [mBuild's `Port` class](http://mosdef-hub.github.io/mbuild/data_structures.html#mbuild.port.Port) comes into play. `Ports`, in the most general sense, define a location (and direction) in space; however, in most cases these can be thought of as dangling bonds.\n",
    "\n",
    "Let's test this functionality by using `Ports` instead of `add_bond` to create a ch2 moiety. First, we'll create an empty `Compound` for CH2 that we will add three `Particles` to at unrealistic locations."
   ]
  },
  {
   "cell_type": "code",
   "execution_count": 2,
   "metadata": {},
   "outputs": [
    {
     "data": {
      "application/3dmoljs_load.v0": "<div id=\"3dmolviewer_1623442247276355\"  style=\"position: relative; width: 640px; height: 480px\">\n        <p id=\"3dmolwarning_1623442247276355\" style=\"background-color:#ffcccc;color:black\">You appear to be running in JupyterLab (or JavaScript failed to load for some other reason).  You need to install the 3dmol extension: <br>\n        <tt>jupyter labextension install jupyterlab_3dmol</tt></p>\n        </div>\n<script>\n\nvar loadScriptAsync = function(uri){\n  return new Promise((resolve, reject) => {\n    var tag = document.createElement('script');\n    tag.src = uri;\n    tag.async = true;\n    tag.onload = () => {\n      resolve();\n    };\n  var firstScriptTag = document.getElementsByTagName('script')[0];\n  firstScriptTag.parentNode.insertBefore(tag, firstScriptTag);\n});\n};\n\nif(typeof $3Dmolpromise === 'undefined') {\n$3Dmolpromise = null;\n  $3Dmolpromise = loadScriptAsync('https://3dmol.org/build/3Dmol.js');\n}\n\nvar viewer_1623442247276355 = null;\nvar warn = document.getElementById(\"3dmolwarning_1623442247276355\");\nif(warn) {\n    warn.parentNode.removeChild(warn);\n}\n$3Dmolpromise.then(function() {\nviewer_1623442247276355 = $3Dmol.createViewer($(\"#3dmolviewer_1623442247276355\"),{backgroundColor:\"white\"});\nviewer_1623442247276355.zoomTo();\n\tviewer_1623442247276355.addModel(\"@<TRIPOS>MOLECULE\\nRES\\n3 0 1 0 1\\nSMALL\\nNO_CHARGES\\n@<TRIPOS>CRYSIN\\n   25.0000    15.0000    15.0000    90.0000    90.0000    90.0000  1  1\\n@<TRIPOS>ATOM\\n       1 C            0.0000     0.0000     0.0000 C             1 RES     \\n       2 H           10.0000     0.0000     0.0000 H             1 RES     \\n       3 H           20.0000     0.0000     0.0000 H             1 RES     \\n@<TRIPOS>BOND\\n@<TRIPOS>SUBSTRUCTURE\\n       1 RES             1 RESIDUE    0 **** ROOT      0\\n\",\"mol2\");\n\tviewer_1623442247276355.setStyle({\"stick\": {\"radius\": 0.2, \"color\": \"grey\"}, \"sphere\": {\"scale\": 0.3, \"colorscheme\": {}}});\n\tviewer_1623442247276355.zoomTo();\nviewer_1623442247276355.render();\n});\n</script>",
      "text/html": [
       "<div id=\"3dmolviewer_1623442247276355\"  style=\"position: relative; width: 640px; height: 480px\">\n",
       "        <p id=\"3dmolwarning_1623442247276355\" style=\"background-color:#ffcccc;color:black\">You appear to be running in JupyterLab (or JavaScript failed to load for some other reason).  You need to install the 3dmol extension: <br>\n",
       "        <tt>jupyter labextension install jupyterlab_3dmol</tt></p>\n",
       "        </div>\n",
       "<script>\n",
       "\n",
       "var loadScriptAsync = function(uri){\n",
       "  return new Promise((resolve, reject) => {\n",
       "    var tag = document.createElement('script');\n",
       "    tag.src = uri;\n",
       "    tag.async = true;\n",
       "    tag.onload = () => {\n",
       "      resolve();\n",
       "    };\n",
       "  var firstScriptTag = document.getElementsByTagName('script')[0];\n",
       "  firstScriptTag.parentNode.insertBefore(tag, firstScriptTag);\n",
       "});\n",
       "};\n",
       "\n",
       "if(typeof $3Dmolpromise === 'undefined') {\n",
       "$3Dmolpromise = null;\n",
       "  $3Dmolpromise = loadScriptAsync('https://3dmol.org/build/3Dmol.js');\n",
       "}\n",
       "\n",
       "var viewer_1623442247276355 = null;\n",
       "var warn = document.getElementById(\"3dmolwarning_1623442247276355\");\n",
       "if(warn) {\n",
       "    warn.parentNode.removeChild(warn);\n",
       "}\n",
       "$3Dmolpromise.then(function() {\n",
       "viewer_1623442247276355 = $3Dmol.createViewer($(\"#3dmolviewer_1623442247276355\"),{backgroundColor:\"white\"});\n",
       "viewer_1623442247276355.zoomTo();\n",
       "\tviewer_1623442247276355.addModel(\"@<TRIPOS>MOLECULE\\nRES\\n3 0 1 0 1\\nSMALL\\nNO_CHARGES\\n@<TRIPOS>CRYSIN\\n   25.0000    15.0000    15.0000    90.0000    90.0000    90.0000  1  1\\n@<TRIPOS>ATOM\\n       1 C            0.0000     0.0000     0.0000 C             1 RES     \\n       2 H           10.0000     0.0000     0.0000 H             1 RES     \\n       3 H           20.0000     0.0000     0.0000 H             1 RES     \\n@<TRIPOS>BOND\\n@<TRIPOS>SUBSTRUCTURE\\n       1 RES             1 RESIDUE    0 **** ROOT      0\\n\",\"mol2\");\n",
       "\tviewer_1623442247276355.setStyle({\"stick\": {\"radius\": 0.2, \"color\": \"grey\"}, \"sphere\": {\"scale\": 0.3, \"colorscheme\": {}}});\n",
       "\tviewer_1623442247276355.zoomTo();\n",
       "viewer_1623442247276355.render();\n",
       "});\n",
       "</script>"
      ]
     },
     "metadata": {},
     "output_type": "display_data"
    },
    {
     "data": {
      "text/plain": [
       "<py3Dmol.view at 0x7fbc26c28790>"
      ]
     },
     "execution_count": 2,
     "metadata": {},
     "output_type": "execute_result"
    }
   ],
   "source": [
    "ch2 = mb.Compound()\n",
    "carbon = mb.Particle(pos=[0.0, 0.0, 0.0], name='C')\n",
    "hydrogen = mb.Particle(pos=[1.0, 0.0, 0.0], name='H')\n",
    "hydrogen2 = mb.Particle(pos=[2.0, 0.0, 0.0], name='H')\n",
    "ch2.add([carbon, hydrogen, hydrogen2])\n",
    "ch2.visualize()"
   ]
  },
  {
   "cell_type": "markdown",
   "metadata": {},
   "source": [
    "Now we'll create a `Port` instance and attach it to the carbon atom by using the `anchor` attribute. This allows mBuild to know which atoms to create bonds between when two `Ports` are connected (as well as providing a reference for any geometric transformations). We can also provide an `orientation` vector to give our `Port` a desired direction, and can use the `separation` argument to shift our `Port` from the position of the anchor `Particle`. Since we're going to be connecting to a hydrogen, we will shift our `Port` roughly half of a C-H bond length."
   ]
  },
  {
   "cell_type": "code",
   "execution_count": 3,
   "metadata": {},
   "outputs": [
    {
     "data": {
      "text/plain": [
       "<Port, anchor: 'C', labels: , id: 140446081080048>"
      ]
     },
     "execution_count": 3,
     "metadata": {},
     "output_type": "execute_result"
    }
   ],
   "source": [
    "port_C = mb.Port(anchor=carbon, orientation=[1, 0, 0], separation=0.05)\n",
    "port_C"
   ]
  },
  {
   "cell_type": "markdown",
   "metadata": {},
   "source": [
    "We now need to add this `Port` to the containment hierarchy of our ch2 `Compound`, again using the `add` method. We can also provide a descriptive label for our `Port` that we can use for easy access; here we will name this port `right`."
   ]
  },
  {
   "cell_type": "code",
   "execution_count": 4,
   "metadata": {},
   "outputs": [
    {
     "data": {
      "text/plain": [
       "<Port, anchor: 'C', labels: ['right'], id: 140446081080048>"
      ]
     },
     "execution_count": 4,
     "metadata": {},
     "output_type": "execute_result"
    }
   ],
   "source": [
    "ch2.add(port_C, label='right')\n",
    "ch2['right']"
   ]
  },
  {
   "cell_type": "markdown",
   "metadata": {},
   "source": [
    "Now we need to add another `Port` to the carbon `Particle` and one `Port` to each hydrogen `Particle`, giving each of these distinct labels. We'll first add another `Port` to carbon (labeled `left`) and a `Port` on each of the hydrogens (labeled `H1` and `H2`).  "
   ]
  },
  {
   "cell_type": "code",
   "execution_count": 5,
   "metadata": {},
   "outputs": [
    {
     "data": {
      "application/3dmoljs_load.v0": "<div id=\"3dmolviewer_16234422475315928\"  style=\"position: relative; width: 640px; height: 480px\">\n        <p id=\"3dmolwarning_16234422475315928\" style=\"background-color:#ffcccc;color:black\">You appear to be running in JupyterLab (or JavaScript failed to load for some other reason).  You need to install the 3dmol extension: <br>\n        <tt>jupyter labextension install jupyterlab_3dmol</tt></p>\n        </div>\n<script>\n\nvar loadScriptAsync = function(uri){\n  return new Promise((resolve, reject) => {\n    var tag = document.createElement('script');\n    tag.src = uri;\n    tag.async = true;\n    tag.onload = () => {\n      resolve();\n    };\n  var firstScriptTag = document.getElementsByTagName('script')[0];\n  firstScriptTag.parentNode.insertBefore(tag, firstScriptTag);\n});\n};\n\nif(typeof $3Dmolpromise === 'undefined') {\n$3Dmolpromise = null;\n  $3Dmolpromise = loadScriptAsync('https://3dmol.org/build/3Dmol.js');\n}\n\nvar viewer_16234422475315928 = null;\nvar warn = document.getElementById(\"3dmolwarning_16234422475315928\");\nif(warn) {\n    warn.parentNode.removeChild(warn);\n}\n$3Dmolpromise.then(function() {\nviewer_16234422475315928 = $3Dmol.createViewer($(\"#3dmolviewer_16234422475315928\"),{backgroundColor:\"white\"});\nviewer_16234422475315928.zoomTo();\n\tviewer_16234422475315928.addModel(\"@<TRIPOS>MOLECULE\\nRES\\n35 0 2 0 1\\nBIOPOLYMER\\nNO_CHARGES\\n@<TRIPOS>CRYSIN\\n   25.0000    15.0000    15.0000    90.0000    90.0000    90.0000  1  1\\n@<TRIPOS>ATOM\\n       1 C            0.0000     0.0000     0.0000 C             1 RES     \\n       2 H           10.0000     0.0000     0.0000 H             1 RES     \\n       3 H           20.0000     0.0000     0.0000 H             1 RES     \\n       4 VS           0.5250    -0.0500    -0.0250 VS            2 PRT     \\n       5 VS           0.7250    -0.0500    -0.0250 VS            2 PRT     \\n       6 VS           0.4250     0.1500    -0.0250 VS            2 PRT     \\n       7 VS           0.3250    -0.0500     0.0750 VS            2 PRT     \\n       8 VS           0.4750     0.0500    -0.0250 VS            2 PRT     \\n       9 VS           0.2750     0.0500    -0.0250 VS            2 PRT     \\n      10 VS           0.5750    -0.1500    -0.0250 VS            2 PRT     \\n      11 VS           0.6750     0.0500     0.0750 VS            2 PRT     \\n      12 VS          -0.5250     0.0500    -0.0250 VS            2 PRT     \\n      13 VS          -0.7250     0.0500    -0.0250 VS            2 PRT     \\n      14 VS          -0.4250    -0.1500    -0.0250 VS            2 PRT     \\n      15 VS          -0.3250     0.0500     0.0750 VS            2 PRT     \\n      16 VS          -0.4750    -0.0500    -0.0250 VS            2 PRT     \\n      17 VS          -0.2750    -0.0500    -0.0250 VS            2 PRT     \\n      18 VS          -0.5750     0.1500    -0.0250 VS            2 PRT     \\n      19 VS          -0.6750    -0.0500     0.0750 VS            2 PRT     \\n      20 VS          10.5250    -0.0500    -0.0250 VS            2 PRT     \\n      21 VS          10.7250    -0.0500    -0.0250 VS            2 PRT     \\n      22 VS          10.4250     0.1500    -0.0250 VS            2 PRT     \\n      23 VS          10.3250    -0.0500     0.0750 VS            2 PRT     \\n      24 VS          10.4750     0.0500    -0.0250 VS            2 PRT     \\n      25 VS          10.2750     0.0500    -0.0250 VS            2 PRT     \\n      26 VS          10.5750    -0.1500    -0.0250 VS            2 PRT     \\n      27 VS          10.6750     0.0500     0.0750 VS            2 PRT     \\n      28 VS          20.5250    -0.0500    -0.0250 VS            2 PRT     \\n      29 VS          20.7250    -0.0500    -0.0250 VS            2 PRT     \\n      30 VS          20.4250     0.1500    -0.0250 VS            2 PRT     \\n      31 VS          20.3250    -0.0500     0.0750 VS            2 PRT     \\n      32 VS          20.4750     0.0500    -0.0250 VS            2 PRT     \\n      33 VS          20.2750     0.0500    -0.0250 VS            2 PRT     \\n      34 VS          20.5750    -0.1500    -0.0250 VS            2 PRT     \\n      35 VS          20.6750     0.0500     0.0750 VS            2 PRT     \\n@<TRIPOS>BOND\\n@<TRIPOS>SUBSTRUCTURE\\n       1 RES             1 RESIDUE    0 **** ROOT      0\\n       2 PRT             4 RESIDUE    0 **** ROOT      0\\n\",\"mol2\");\n\tviewer_16234422475315928.setStyle({\"stick\": {\"radius\": 0.2, \"color\": \"grey\"}, \"sphere\": {\"scale\": 0.3, \"colorscheme\": {}}});\n\tviewer_16234422475315928.zoomTo();\nviewer_16234422475315928.render();\n});\n</script>",
      "text/html": [
       "<div id=\"3dmolviewer_16234422475315928\"  style=\"position: relative; width: 640px; height: 480px\">\n",
       "        <p id=\"3dmolwarning_16234422475315928\" style=\"background-color:#ffcccc;color:black\">You appear to be running in JupyterLab (or JavaScript failed to load for some other reason).  You need to install the 3dmol extension: <br>\n",
       "        <tt>jupyter labextension install jupyterlab_3dmol</tt></p>\n",
       "        </div>\n",
       "<script>\n",
       "\n",
       "var loadScriptAsync = function(uri){\n",
       "  return new Promise((resolve, reject) => {\n",
       "    var tag = document.createElement('script');\n",
       "    tag.src = uri;\n",
       "    tag.async = true;\n",
       "    tag.onload = () => {\n",
       "      resolve();\n",
       "    };\n",
       "  var firstScriptTag = document.getElementsByTagName('script')[0];\n",
       "  firstScriptTag.parentNode.insertBefore(tag, firstScriptTag);\n",
       "});\n",
       "};\n",
       "\n",
       "if(typeof $3Dmolpromise === 'undefined') {\n",
       "$3Dmolpromise = null;\n",
       "  $3Dmolpromise = loadScriptAsync('https://3dmol.org/build/3Dmol.js');\n",
       "}\n",
       "\n",
       "var viewer_16234422475315928 = null;\n",
       "var warn = document.getElementById(\"3dmolwarning_16234422475315928\");\n",
       "if(warn) {\n",
       "    warn.parentNode.removeChild(warn);\n",
       "}\n",
       "$3Dmolpromise.then(function() {\n",
       "viewer_16234422475315928 = $3Dmol.createViewer($(\"#3dmolviewer_16234422475315928\"),{backgroundColor:\"white\"});\n",
       "viewer_16234422475315928.zoomTo();\n",
       "\tviewer_16234422475315928.addModel(\"@<TRIPOS>MOLECULE\\nRES\\n35 0 2 0 1\\nBIOPOLYMER\\nNO_CHARGES\\n@<TRIPOS>CRYSIN\\n   25.0000    15.0000    15.0000    90.0000    90.0000    90.0000  1  1\\n@<TRIPOS>ATOM\\n       1 C            0.0000     0.0000     0.0000 C             1 RES     \\n       2 H           10.0000     0.0000     0.0000 H             1 RES     \\n       3 H           20.0000     0.0000     0.0000 H             1 RES     \\n       4 VS           0.5250    -0.0500    -0.0250 VS            2 PRT     \\n       5 VS           0.7250    -0.0500    -0.0250 VS            2 PRT     \\n       6 VS           0.4250     0.1500    -0.0250 VS            2 PRT     \\n       7 VS           0.3250    -0.0500     0.0750 VS            2 PRT     \\n       8 VS           0.4750     0.0500    -0.0250 VS            2 PRT     \\n       9 VS           0.2750     0.0500    -0.0250 VS            2 PRT     \\n      10 VS           0.5750    -0.1500    -0.0250 VS            2 PRT     \\n      11 VS           0.6750     0.0500     0.0750 VS            2 PRT     \\n      12 VS          -0.5250     0.0500    -0.0250 VS            2 PRT     \\n      13 VS          -0.7250     0.0500    -0.0250 VS            2 PRT     \\n      14 VS          -0.4250    -0.1500    -0.0250 VS            2 PRT     \\n      15 VS          -0.3250     0.0500     0.0750 VS            2 PRT     \\n      16 VS          -0.4750    -0.0500    -0.0250 VS            2 PRT     \\n      17 VS          -0.2750    -0.0500    -0.0250 VS            2 PRT     \\n      18 VS          -0.5750     0.1500    -0.0250 VS            2 PRT     \\n      19 VS          -0.6750    -0.0500     0.0750 VS            2 PRT     \\n      20 VS          10.5250    -0.0500    -0.0250 VS            2 PRT     \\n      21 VS          10.7250    -0.0500    -0.0250 VS            2 PRT     \\n      22 VS          10.4250     0.1500    -0.0250 VS            2 PRT     \\n      23 VS          10.3250    -0.0500     0.0750 VS            2 PRT     \\n      24 VS          10.4750     0.0500    -0.0250 VS            2 PRT     \\n      25 VS          10.2750     0.0500    -0.0250 VS            2 PRT     \\n      26 VS          10.5750    -0.1500    -0.0250 VS            2 PRT     \\n      27 VS          10.6750     0.0500     0.0750 VS            2 PRT     \\n      28 VS          20.5250    -0.0500    -0.0250 VS            2 PRT     \\n      29 VS          20.7250    -0.0500    -0.0250 VS            2 PRT     \\n      30 VS          20.4250     0.1500    -0.0250 VS            2 PRT     \\n      31 VS          20.3250    -0.0500     0.0750 VS            2 PRT     \\n      32 VS          20.4750     0.0500    -0.0250 VS            2 PRT     \\n      33 VS          20.2750     0.0500    -0.0250 VS            2 PRT     \\n      34 VS          20.5750    -0.1500    -0.0250 VS            2 PRT     \\n      35 VS          20.6750     0.0500     0.0750 VS            2 PRT     \\n@<TRIPOS>BOND\\n@<TRIPOS>SUBSTRUCTURE\\n       1 RES             1 RESIDUE    0 **** ROOT      0\\n       2 PRT             4 RESIDUE    0 **** ROOT      0\\n\",\"mol2\");\n",
       "\tviewer_16234422475315928.setStyle({\"stick\": {\"radius\": 0.2, \"color\": \"grey\"}, \"sphere\": {\"scale\": 0.3, \"colorscheme\": {}}});\n",
       "\tviewer_16234422475315928.zoomTo();\n",
       "viewer_16234422475315928.render();\n",
       "});\n",
       "</script>"
      ]
     },
     "metadata": {},
     "output_type": "display_data"
    },
    {
     "data": {
      "text/plain": [
       "<py3Dmol.view at 0x7fbc2c7eabe0>"
      ]
     },
     "execution_count": 5,
     "metadata": {},
     "output_type": "execute_result"
    }
   ],
   "source": [
    "port2_C = mb.Port(anchor=carbon, orientation=[-1, 0, 0], separation=0.05)\n",
    "ch2.add(port2_C, label='left')\n",
    "\n",
    "port_H = mb.Port(anchor=hydrogen, orientation=[1, 0, 0], separation=0.05)\n",
    "ch2.add(port_H, label='H1')\n",
    "\n",
    "port2_H = mb.Port(anchor=hydrogen2, orientation=[1, 0, 0], separation=0.05)\n",
    "ch2.add(port2_H, label='H2')\n",
    "\n",
    "ch2.visualize(show_ports=True)"
   ]
  },
  {
   "cell_type": "markdown",
   "metadata": {},
   "source": [
    "The `force_overlap` function is then used to force the overlap of two `Ports` by performing a coordinate transform on one of the two `Compounds` that are to be connected. This will also create a bond between the anchor `Particles` of each `Port`. We'll use this function here to connect each hydrogen to the carbon `Particle`."
   ]
  },
  {
   "cell_type": "code",
   "execution_count": 6,
   "metadata": {},
   "outputs": [
    {
     "data": {
      "application/3dmoljs_load.v0": "<div id=\"3dmolviewer_1623442247608006\"  style=\"position: relative; width: 640px; height: 480px\">\n        <p id=\"3dmolwarning_1623442247608006\" style=\"background-color:#ffcccc;color:black\">You appear to be running in JupyterLab (or JavaScript failed to load for some other reason).  You need to install the 3dmol extension: <br>\n        <tt>jupyter labextension install jupyterlab_3dmol</tt></p>\n        </div>\n<script>\n\nvar loadScriptAsync = function(uri){\n  return new Promise((resolve, reject) => {\n    var tag = document.createElement('script');\n    tag.src = uri;\n    tag.async = true;\n    tag.onload = () => {\n      resolve();\n    };\n  var firstScriptTag = document.getElementsByTagName('script')[0];\n  firstScriptTag.parentNode.insertBefore(tag, firstScriptTag);\n});\n};\n\nif(typeof $3Dmolpromise === 'undefined') {\n$3Dmolpromise = null;\n  $3Dmolpromise = loadScriptAsync('https://3dmol.org/build/3Dmol.js');\n}\n\nvar viewer_1623442247608006 = null;\nvar warn = document.getElementById(\"3dmolwarning_1623442247608006\");\nif(warn) {\n    warn.parentNode.removeChild(warn);\n}\n$3Dmolpromise.then(function() {\nviewer_1623442247608006 = $3Dmol.createViewer($(\"#3dmolviewer_1623442247608006\"),{backgroundColor:\"white\"});\nviewer_1623442247608006.zoomTo();\n\tviewer_1623442247608006.addModel(\"@<TRIPOS>MOLECULE\\nRES\\n3 2 1 0 1\\nSMALL\\nNO_CHARGES\\n@<TRIPOS>CRYSIN\\n    7.0000    15.0000    15.0000    90.0000    90.0000    90.0000  1  1\\n@<TRIPOS>ATOM\\n       1 C            0.0000     0.0000     0.0000 C             1 RES     \\n       2 H            1.0000    -0.0000    -0.0000 H             1 RES     \\n       3 H           -1.0000    -0.0000    -0.0000 H             1 RES     \\n@<TRIPOS>BOND\\n       1        2        1 1\\n       2        3        1 1\\n@<TRIPOS>SUBSTRUCTURE\\n       1 RES             1 RESIDUE    0 **** ROOT      0\\n\",\"mol2\");\n\tviewer_1623442247608006.setStyle({\"stick\": {\"radius\": 0.2, \"color\": \"grey\"}, \"sphere\": {\"scale\": 0.3, \"colorscheme\": {}}});\n\tviewer_1623442247608006.zoomTo();\nviewer_1623442247608006.render();\n});\n</script>",
      "text/html": [
       "<div id=\"3dmolviewer_1623442247608006\"  style=\"position: relative; width: 640px; height: 480px\">\n",
       "        <p id=\"3dmolwarning_1623442247608006\" style=\"background-color:#ffcccc;color:black\">You appear to be running in JupyterLab (or JavaScript failed to load for some other reason).  You need to install the 3dmol extension: <br>\n",
       "        <tt>jupyter labextension install jupyterlab_3dmol</tt></p>\n",
       "        </div>\n",
       "<script>\n",
       "\n",
       "var loadScriptAsync = function(uri){\n",
       "  return new Promise((resolve, reject) => {\n",
       "    var tag = document.createElement('script');\n",
       "    tag.src = uri;\n",
       "    tag.async = true;\n",
       "    tag.onload = () => {\n",
       "      resolve();\n",
       "    };\n",
       "  var firstScriptTag = document.getElementsByTagName('script')[0];\n",
       "  firstScriptTag.parentNode.insertBefore(tag, firstScriptTag);\n",
       "});\n",
       "};\n",
       "\n",
       "if(typeof $3Dmolpromise === 'undefined') {\n",
       "$3Dmolpromise = null;\n",
       "  $3Dmolpromise = loadScriptAsync('https://3dmol.org/build/3Dmol.js');\n",
       "}\n",
       "\n",
       "var viewer_1623442247608006 = null;\n",
       "var warn = document.getElementById(\"3dmolwarning_1623442247608006\");\n",
       "if(warn) {\n",
       "    warn.parentNode.removeChild(warn);\n",
       "}\n",
       "$3Dmolpromise.then(function() {\n",
       "viewer_1623442247608006 = $3Dmol.createViewer($(\"#3dmolviewer_1623442247608006\"),{backgroundColor:\"white\"});\n",
       "viewer_1623442247608006.zoomTo();\n",
       "\tviewer_1623442247608006.addModel(\"@<TRIPOS>MOLECULE\\nRES\\n3 2 1 0 1\\nSMALL\\nNO_CHARGES\\n@<TRIPOS>CRYSIN\\n    7.0000    15.0000    15.0000    90.0000    90.0000    90.0000  1  1\\n@<TRIPOS>ATOM\\n       1 C            0.0000     0.0000     0.0000 C             1 RES     \\n       2 H            1.0000    -0.0000    -0.0000 H             1 RES     \\n       3 H           -1.0000    -0.0000    -0.0000 H             1 RES     \\n@<TRIPOS>BOND\\n       1        2        1 1\\n       2        3        1 1\\n@<TRIPOS>SUBSTRUCTURE\\n       1 RES             1 RESIDUE    0 **** ROOT      0\\n\",\"mol2\");\n",
       "\tviewer_1623442247608006.setStyle({\"stick\": {\"radius\": 0.2, \"color\": \"grey\"}, \"sphere\": {\"scale\": 0.3, \"colorscheme\": {}}});\n",
       "\tviewer_1623442247608006.zoomTo();\n",
       "viewer_1623442247608006.render();\n",
       "});\n",
       "</script>"
      ]
     },
     "metadata": {},
     "output_type": "display_data"
    },
    {
     "data": {
      "text/plain": [
       "<py3Dmol.view at 0x7fbc2c7eae80>"
      ]
     },
     "execution_count": 6,
     "metadata": {},
     "output_type": "execute_result"
    }
   ],
   "source": [
    "mb.force_overlap(move_this=hydrogen,\n",
    "                 from_positions=ch2['H1'],\n",
    "                 to_positions=ch2['right'])\n",
    "\n",
    "mb.force_overlap(move_this=hydrogen2,\n",
    "                 from_positions=ch2['H2'],\n",
    "                 to_positions=ch2['left'])\n",
    "\n",
    "ch2.visualize(show_ports=True)"
   ]
  },
  {
   "cell_type": "markdown",
   "metadata": {},
   "source": [
    "As can be seen above, the hydrogen atoms were appropriately translated and oriented to create the expected ch2 structure.\n",
    "\n",
    "Note that once two `Particles` are connected using `force_overlap` the `Ports` used to connect these `Particles` are removed. However, if we were to remove the bond between one of the hydrogen atoms and the carbon atoms, two new `Ports` will be created, one attached to each `Particle`, along the bond vector."
   ]
  },
  {
   "cell_type": "code",
   "execution_count": 7,
   "metadata": {},
   "outputs": [
    {
     "data": {
      "application/3dmoljs_load.v0": "<div id=\"3dmolviewer_1623442247669868\"  style=\"position: relative; width: 640px; height: 480px\">\n        <p id=\"3dmolwarning_1623442247669868\" style=\"background-color:#ffcccc;color:black\">You appear to be running in JupyterLab (or JavaScript failed to load for some other reason).  You need to install the 3dmol extension: <br>\n        <tt>jupyter labextension install jupyterlab_3dmol</tt></p>\n        </div>\n<script>\n\nvar loadScriptAsync = function(uri){\n  return new Promise((resolve, reject) => {\n    var tag = document.createElement('script');\n    tag.src = uri;\n    tag.async = true;\n    tag.onload = () => {\n      resolve();\n    };\n  var firstScriptTag = document.getElementsByTagName('script')[0];\n  firstScriptTag.parentNode.insertBefore(tag, firstScriptTag);\n});\n};\n\nif(typeof $3Dmolpromise === 'undefined') {\n$3Dmolpromise = null;\n  $3Dmolpromise = loadScriptAsync('https://3dmol.org/build/3Dmol.js');\n}\n\nvar viewer_1623442247669868 = null;\nvar warn = document.getElementById(\"3dmolwarning_1623442247669868\");\nif(warn) {\n    warn.parentNode.removeChild(warn);\n}\n$3Dmolpromise.then(function() {\nviewer_1623442247669868 = $3Dmol.createViewer($(\"#3dmolviewer_1623442247669868\"),{backgroundColor:\"white\"});\nviewer_1623442247669868.zoomTo();\n\tviewer_1623442247669868.addModel(\"@<TRIPOS>MOLECULE\\nRES\\n19 1 2 0 1\\nBIOPOLYMER\\nNO_CHARGES\\n@<TRIPOS>CRYSIN\\n    7.0000    15.0000    15.0000    90.0000    90.0000    90.0000  1  1\\n@<TRIPOS>ATOM\\n       1 C            0.0000     0.0000     0.0000 C             1 RES     \\n       2 H            1.0000    -0.0000    -0.0000 H             1 RES     \\n       3 H           -1.0000    -0.0000    -0.0000 H             1 RES     \\n       4 VS           0.5250    -0.0500    -0.0250 VS            2 PRT     \\n       5 VS           0.7250    -0.0500    -0.0250 VS            2 PRT     \\n       6 VS           0.4250     0.1500    -0.0250 VS            2 PRT     \\n       7 VS           0.3250    -0.0500     0.0750 VS            2 PRT     \\n       8 VS           0.4750     0.0500    -0.0250 VS            2 PRT     \\n       9 VS           0.2750     0.0500    -0.0250 VS            2 PRT     \\n      10 VS           0.5750    -0.1500    -0.0250 VS            2 PRT     \\n      11 VS           0.6750     0.0500     0.0750 VS            2 PRT     \\n      12 VS           0.4750     0.0500    -0.0250 VS            2 PRT     \\n      13 VS           0.2750     0.0500    -0.0250 VS            2 PRT     \\n      14 VS           0.5750    -0.1500    -0.0250 VS            2 PRT     \\n      15 VS           0.6750     0.0500     0.0750 VS            2 PRT     \\n      16 VS           0.5250    -0.0500    -0.0250 VS            2 PRT     \\n      17 VS           0.7250    -0.0500    -0.0250 VS            2 PRT     \\n      18 VS           0.4250     0.1500    -0.0250 VS            2 PRT     \\n      19 VS           0.3250    -0.0500     0.0750 VS            2 PRT     \\n@<TRIPOS>BOND\\n       1        1        3 1\\n@<TRIPOS>SUBSTRUCTURE\\n       1 RES             1 RESIDUE    0 **** ROOT      0\\n       2 PRT             4 RESIDUE    0 **** ROOT      0\\n\",\"mol2\");\n\tviewer_1623442247669868.setStyle({\"stick\": {\"radius\": 0.2, \"color\": \"grey\"}, \"sphere\": {\"scale\": 0.3, \"colorscheme\": {}}});\n\tviewer_1623442247669868.zoomTo();\nviewer_1623442247669868.render();\n});\n</script>",
      "text/html": [
       "<div id=\"3dmolviewer_1623442247669868\"  style=\"position: relative; width: 640px; height: 480px\">\n",
       "        <p id=\"3dmolwarning_1623442247669868\" style=\"background-color:#ffcccc;color:black\">You appear to be running in JupyterLab (or JavaScript failed to load for some other reason).  You need to install the 3dmol extension: <br>\n",
       "        <tt>jupyter labextension install jupyterlab_3dmol</tt></p>\n",
       "        </div>\n",
       "<script>\n",
       "\n",
       "var loadScriptAsync = function(uri){\n",
       "  return new Promise((resolve, reject) => {\n",
       "    var tag = document.createElement('script');\n",
       "    tag.src = uri;\n",
       "    tag.async = true;\n",
       "    tag.onload = () => {\n",
       "      resolve();\n",
       "    };\n",
       "  var firstScriptTag = document.getElementsByTagName('script')[0];\n",
       "  firstScriptTag.parentNode.insertBefore(tag, firstScriptTag);\n",
       "});\n",
       "};\n",
       "\n",
       "if(typeof $3Dmolpromise === 'undefined') {\n",
       "$3Dmolpromise = null;\n",
       "  $3Dmolpromise = loadScriptAsync('https://3dmol.org/build/3Dmol.js');\n",
       "}\n",
       "\n",
       "var viewer_1623442247669868 = null;\n",
       "var warn = document.getElementById(\"3dmolwarning_1623442247669868\");\n",
       "if(warn) {\n",
       "    warn.parentNode.removeChild(warn);\n",
       "}\n",
       "$3Dmolpromise.then(function() {\n",
       "viewer_1623442247669868 = $3Dmol.createViewer($(\"#3dmolviewer_1623442247669868\"),{backgroundColor:\"white\"});\n",
       "viewer_1623442247669868.zoomTo();\n",
       "\tviewer_1623442247669868.addModel(\"@<TRIPOS>MOLECULE\\nRES\\n19 1 2 0 1\\nBIOPOLYMER\\nNO_CHARGES\\n@<TRIPOS>CRYSIN\\n    7.0000    15.0000    15.0000    90.0000    90.0000    90.0000  1  1\\n@<TRIPOS>ATOM\\n       1 C            0.0000     0.0000     0.0000 C             1 RES     \\n       2 H            1.0000    -0.0000    -0.0000 H             1 RES     \\n       3 H           -1.0000    -0.0000    -0.0000 H             1 RES     \\n       4 VS           0.5250    -0.0500    -0.0250 VS            2 PRT     \\n       5 VS           0.7250    -0.0500    -0.0250 VS            2 PRT     \\n       6 VS           0.4250     0.1500    -0.0250 VS            2 PRT     \\n       7 VS           0.3250    -0.0500     0.0750 VS            2 PRT     \\n       8 VS           0.4750     0.0500    -0.0250 VS            2 PRT     \\n       9 VS           0.2750     0.0500    -0.0250 VS            2 PRT     \\n      10 VS           0.5750    -0.1500    -0.0250 VS            2 PRT     \\n      11 VS           0.6750     0.0500     0.0750 VS            2 PRT     \\n      12 VS           0.4750     0.0500    -0.0250 VS            2 PRT     \\n      13 VS           0.2750     0.0500    -0.0250 VS            2 PRT     \\n      14 VS           0.5750    -0.1500    -0.0250 VS            2 PRT     \\n      15 VS           0.6750     0.0500     0.0750 VS            2 PRT     \\n      16 VS           0.5250    -0.0500    -0.0250 VS            2 PRT     \\n      17 VS           0.7250    -0.0500    -0.0250 VS            2 PRT     \\n      18 VS           0.4250     0.1500    -0.0250 VS            2 PRT     \\n      19 VS           0.3250    -0.0500     0.0750 VS            2 PRT     \\n@<TRIPOS>BOND\\n       1        1        3 1\\n@<TRIPOS>SUBSTRUCTURE\\n       1 RES             1 RESIDUE    0 **** ROOT      0\\n       2 PRT             4 RESIDUE    0 **** ROOT      0\\n\",\"mol2\");\n",
       "\tviewer_1623442247669868.setStyle({\"stick\": {\"radius\": 0.2, \"color\": \"grey\"}, \"sphere\": {\"scale\": 0.3, \"colorscheme\": {}}});\n",
       "\tviewer_1623442247669868.zoomTo();\n",
       "viewer_1623442247669868.render();\n",
       "});\n",
       "</script>"
      ]
     },
     "metadata": {},
     "output_type": "display_data"
    },
    {
     "data": {
      "text/plain": [
       "<py3Dmol.view at 0x7fbc2c804b50>"
      ]
     },
     "execution_count": 7,
     "metadata": {},
     "output_type": "execute_result"
    }
   ],
   "source": [
    "ch2.remove_bond(particle_pair=(carbon, hydrogen))\n",
    "ch2.visualize(show_ports=True)"
   ]
  },
  {
   "cell_type": "markdown",
   "metadata": {},
   "source": [
    "We could now remove the hydrogen we disconnected and connect something else to our CH moiety. To achieve this, we will need to use the `remove` method to remove both the hydrogen atom *and* the `Port` connected to this atom from our molecule hierarchy.\n",
    "\n",
    "First, however, we'll use the `available_ports` method to query the `Ports` present in our molecule, so that we can fine out the name of the `Port` we want to remove."
   ]
  },
  {
   "cell_type": "code",
   "execution_count": 8,
   "metadata": {},
   "outputs": [
    {
     "data": {
      "text/plain": [
       "[<Port, anchor: 'C', labels: ['port[0]'], id: 140446176742080>,\n",
       " <Port, anchor: 'H', labels: ['port[1]'], id: 140446177078384>]"
      ]
     },
     "execution_count": 8,
     "metadata": {},
     "output_type": "execute_result"
    }
   ],
   "source": [
    "ch2.available_ports()"
   ]
  },
  {
   "cell_type": "markdown",
   "metadata": {},
   "source": [
    "Now we'll use `remove` to remove `port[1]` and the hydrogen atom from our molecule."
   ]
  },
  {
   "cell_type": "code",
   "execution_count": 9,
   "metadata": {},
   "outputs": [
    {
     "data": {
      "application/3dmoljs_load.v0": "<div id=\"3dmolviewer_1623442247712009\"  style=\"position: relative; width: 640px; height: 480px\">\n        <p id=\"3dmolwarning_1623442247712009\" style=\"background-color:#ffcccc;color:black\">You appear to be running in JupyterLab (or JavaScript failed to load for some other reason).  You need to install the 3dmol extension: <br>\n        <tt>jupyter labextension install jupyterlab_3dmol</tt></p>\n        </div>\n<script>\n\nvar loadScriptAsync = function(uri){\n  return new Promise((resolve, reject) => {\n    var tag = document.createElement('script');\n    tag.src = uri;\n    tag.async = true;\n    tag.onload = () => {\n      resolve();\n    };\n  var firstScriptTag = document.getElementsByTagName('script')[0];\n  firstScriptTag.parentNode.insertBefore(tag, firstScriptTag);\n});\n};\n\nif(typeof $3Dmolpromise === 'undefined') {\n$3Dmolpromise = null;\n  $3Dmolpromise = loadScriptAsync('https://3dmol.org/build/3Dmol.js');\n}\n\nvar viewer_1623442247712009 = null;\nvar warn = document.getElementById(\"3dmolwarning_1623442247712009\");\nif(warn) {\n    warn.parentNode.removeChild(warn);\n}\n$3Dmolpromise.then(function() {\nviewer_1623442247712009 = $3Dmol.createViewer($(\"#3dmolviewer_1623442247712009\"),{backgroundColor:\"white\"});\nviewer_1623442247712009.zoomTo();\n\tviewer_1623442247712009.addModel(\"@<TRIPOS>MOLECULE\\nRES\\n10 1 2 0 1\\nBIOPOLYMER\\nNO_CHARGES\\n@<TRIPOS>CRYSIN\\n    6.0000    15.0000    15.0000    90.0000    90.0000    90.0000  1  1\\n@<TRIPOS>ATOM\\n       1 C            0.0000     0.0000     0.0000 C             1 RES     \\n       2 H           -1.0000    -0.0000    -0.0000 H             1 RES     \\n       3 VS           0.5250    -0.0500    -0.0250 VS            2 PRT     \\n       4 VS           0.7250    -0.0500    -0.0250 VS            2 PRT     \\n       5 VS           0.4250     0.1500    -0.0250 VS            2 PRT     \\n       6 VS           0.3250    -0.0500     0.0750 VS            2 PRT     \\n       7 VS           0.4750     0.0500    -0.0250 VS            2 PRT     \\n       8 VS           0.2750     0.0500    -0.0250 VS            2 PRT     \\n       9 VS           0.5750    -0.1500    -0.0250 VS            2 PRT     \\n      10 VS           0.6750     0.0500     0.0750 VS            2 PRT     \\n@<TRIPOS>BOND\\n       1        1        2 1\\n@<TRIPOS>SUBSTRUCTURE\\n       1 RES             1 RESIDUE    0 **** ROOT      0\\n       2 PRT             3 RESIDUE    0 **** ROOT      0\\n\",\"mol2\");\n\tviewer_1623442247712009.setStyle({\"stick\": {\"radius\": 0.2, \"color\": \"grey\"}, \"sphere\": {\"scale\": 0.3, \"colorscheme\": {}}});\n\tviewer_1623442247712009.zoomTo();\nviewer_1623442247712009.render();\n});\n</script>",
      "text/html": [
       "<div id=\"3dmolviewer_1623442247712009\"  style=\"position: relative; width: 640px; height: 480px\">\n",
       "        <p id=\"3dmolwarning_1623442247712009\" style=\"background-color:#ffcccc;color:black\">You appear to be running in JupyterLab (or JavaScript failed to load for some other reason).  You need to install the 3dmol extension: <br>\n",
       "        <tt>jupyter labextension install jupyterlab_3dmol</tt></p>\n",
       "        </div>\n",
       "<script>\n",
       "\n",
       "var loadScriptAsync = function(uri){\n",
       "  return new Promise((resolve, reject) => {\n",
       "    var tag = document.createElement('script');\n",
       "    tag.src = uri;\n",
       "    tag.async = true;\n",
       "    tag.onload = () => {\n",
       "      resolve();\n",
       "    };\n",
       "  var firstScriptTag = document.getElementsByTagName('script')[0];\n",
       "  firstScriptTag.parentNode.insertBefore(tag, firstScriptTag);\n",
       "});\n",
       "};\n",
       "\n",
       "if(typeof $3Dmolpromise === 'undefined') {\n",
       "$3Dmolpromise = null;\n",
       "  $3Dmolpromise = loadScriptAsync('https://3dmol.org/build/3Dmol.js');\n",
       "}\n",
       "\n",
       "var viewer_1623442247712009 = null;\n",
       "var warn = document.getElementById(\"3dmolwarning_1623442247712009\");\n",
       "if(warn) {\n",
       "    warn.parentNode.removeChild(warn);\n",
       "}\n",
       "$3Dmolpromise.then(function() {\n",
       "viewer_1623442247712009 = $3Dmol.createViewer($(\"#3dmolviewer_1623442247712009\"),{backgroundColor:\"white\"});\n",
       "viewer_1623442247712009.zoomTo();\n",
       "\tviewer_1623442247712009.addModel(\"@<TRIPOS>MOLECULE\\nRES\\n10 1 2 0 1\\nBIOPOLYMER\\nNO_CHARGES\\n@<TRIPOS>CRYSIN\\n    6.0000    15.0000    15.0000    90.0000    90.0000    90.0000  1  1\\n@<TRIPOS>ATOM\\n       1 C            0.0000     0.0000     0.0000 C             1 RES     \\n       2 H           -1.0000    -0.0000    -0.0000 H             1 RES     \\n       3 VS           0.5250    -0.0500    -0.0250 VS            2 PRT     \\n       4 VS           0.7250    -0.0500    -0.0250 VS            2 PRT     \\n       5 VS           0.4250     0.1500    -0.0250 VS            2 PRT     \\n       6 VS           0.3250    -0.0500     0.0750 VS            2 PRT     \\n       7 VS           0.4750     0.0500    -0.0250 VS            2 PRT     \\n       8 VS           0.2750     0.0500    -0.0250 VS            2 PRT     \\n       9 VS           0.5750    -0.1500    -0.0250 VS            2 PRT     \\n      10 VS           0.6750     0.0500     0.0750 VS            2 PRT     \\n@<TRIPOS>BOND\\n       1        1        2 1\\n@<TRIPOS>SUBSTRUCTURE\\n       1 RES             1 RESIDUE    0 **** ROOT      0\\n       2 PRT             3 RESIDUE    0 **** ROOT      0\\n\",\"mol2\");\n",
       "\tviewer_1623442247712009.setStyle({\"stick\": {\"radius\": 0.2, \"color\": \"grey\"}, \"sphere\": {\"scale\": 0.3, \"colorscheme\": {}}});\n",
       "\tviewer_1623442247712009.zoomTo();\n",
       "viewer_1623442247712009.render();\n",
       "});\n",
       "</script>"
      ]
     },
     "metadata": {},
     "output_type": "display_data"
    },
    {
     "data": {
      "text/plain": [
       "<py3Dmol.view at 0x7fbc26c16ac0>"
      ]
     },
     "execution_count": 9,
     "metadata": {},
     "output_type": "execute_result"
    }
   ],
   "source": [
    "ch2.remove([ch2['port[1]'], hydrogen])\n",
    "ch2.visualize(show_ports=True)"
   ]
  },
  {
   "cell_type": "markdown",
   "metadata": {},
   "source": [
    "Now, we'll use the `clone` function to create a deep copy of the CH moiety and, again using `force_overlap` will connect the two CH's together. We'll then add both of these CH moieties to a parent `Compound` and visualize."
   ]
  },
  {
   "cell_type": "code",
   "execution_count": 10,
   "metadata": {},
   "outputs": [
    {
     "data": {
      "application/3dmoljs_load.v0": "<div id=\"3dmolviewer_1623442247757195\"  style=\"position: relative; width: 640px; height: 480px\">\n        <p id=\"3dmolwarning_1623442247757195\" style=\"background-color:#ffcccc;color:black\">You appear to be running in JupyterLab (or JavaScript failed to load for some other reason).  You need to install the 3dmol extension: <br>\n        <tt>jupyter labextension install jupyterlab_3dmol</tt></p>\n        </div>\n<script>\n\nvar loadScriptAsync = function(uri){\n  return new Promise((resolve, reject) => {\n    var tag = document.createElement('script');\n    tag.src = uri;\n    tag.async = true;\n    tag.onload = () => {\n      resolve();\n    };\n  var firstScriptTag = document.getElementsByTagName('script')[0];\n  firstScriptTag.parentNode.insertBefore(tag, firstScriptTag);\n});\n};\n\nif(typeof $3Dmolpromise === 'undefined') {\n$3Dmolpromise = null;\n  $3Dmolpromise = loadScriptAsync('https://3dmol.org/build/3Dmol.js');\n}\n\nvar viewer_1623442247757195 = null;\nvar warn = document.getElementById(\"3dmolwarning_1623442247757195\");\nif(warn) {\n    warn.parentNode.removeChild(warn);\n}\n$3Dmolpromise.then(function() {\nviewer_1623442247757195 = $3Dmol.createViewer($(\"#3dmolviewer_1623442247757195\"),{backgroundColor:\"white\"});\nviewer_1623442247757195.zoomTo();\n\tviewer_1623442247757195.addModel(\"@<TRIPOS>MOLECULE\\nRES\\n4 3 1 0 1\\nSMALL\\nNO_CHARGES\\n@<TRIPOS>CRYSIN\\n    8.0000    15.0000    15.0000    90.0000    90.0000    90.0000  1  1\\n@<TRIPOS>ATOM\\n       1 C            0.0000     0.0000     0.0000 C             1 RES     \\n       2 H           -1.0000    -0.0000    -0.0000 H             1 RES     \\n       3 C            1.0000    -0.0000    -0.0000 C             1 RES     \\n       4 H            2.0000     0.0000    -0.0000 H             1 RES     \\n@<TRIPOS>BOND\\n       1        1        2 1\\n       2        3        1 1\\n       3        4        3 1\\n@<TRIPOS>SUBSTRUCTURE\\n       1 RES             1 RESIDUE    0 **** ROOT      0\\n\",\"mol2\");\n\tviewer_1623442247757195.setStyle({\"stick\": {\"radius\": 0.2, \"color\": \"grey\"}, \"sphere\": {\"scale\": 0.3, \"colorscheme\": {}}});\n\tviewer_1623442247757195.zoomTo();\nviewer_1623442247757195.render();\n});\n</script>",
      "text/html": [
       "<div id=\"3dmolviewer_1623442247757195\"  style=\"position: relative; width: 640px; height: 480px\">\n",
       "        <p id=\"3dmolwarning_1623442247757195\" style=\"background-color:#ffcccc;color:black\">You appear to be running in JupyterLab (or JavaScript failed to load for some other reason).  You need to install the 3dmol extension: <br>\n",
       "        <tt>jupyter labextension install jupyterlab_3dmol</tt></p>\n",
       "        </div>\n",
       "<script>\n",
       "\n",
       "var loadScriptAsync = function(uri){\n",
       "  return new Promise((resolve, reject) => {\n",
       "    var tag = document.createElement('script');\n",
       "    tag.src = uri;\n",
       "    tag.async = true;\n",
       "    tag.onload = () => {\n",
       "      resolve();\n",
       "    };\n",
       "  var firstScriptTag = document.getElementsByTagName('script')[0];\n",
       "  firstScriptTag.parentNode.insertBefore(tag, firstScriptTag);\n",
       "});\n",
       "};\n",
       "\n",
       "if(typeof $3Dmolpromise === 'undefined') {\n",
       "$3Dmolpromise = null;\n",
       "  $3Dmolpromise = loadScriptAsync('https://3dmol.org/build/3Dmol.js');\n",
       "}\n",
       "\n",
       "var viewer_1623442247757195 = null;\n",
       "var warn = document.getElementById(\"3dmolwarning_1623442247757195\");\n",
       "if(warn) {\n",
       "    warn.parentNode.removeChild(warn);\n",
       "}\n",
       "$3Dmolpromise.then(function() {\n",
       "viewer_1623442247757195 = $3Dmol.createViewer($(\"#3dmolviewer_1623442247757195\"),{backgroundColor:\"white\"});\n",
       "viewer_1623442247757195.zoomTo();\n",
       "\tviewer_1623442247757195.addModel(\"@<TRIPOS>MOLECULE\\nRES\\n4 3 1 0 1\\nSMALL\\nNO_CHARGES\\n@<TRIPOS>CRYSIN\\n    8.0000    15.0000    15.0000    90.0000    90.0000    90.0000  1  1\\n@<TRIPOS>ATOM\\n       1 C            0.0000     0.0000     0.0000 C             1 RES     \\n       2 H           -1.0000    -0.0000    -0.0000 H             1 RES     \\n       3 C            1.0000    -0.0000    -0.0000 C             1 RES     \\n       4 H            2.0000     0.0000    -0.0000 H             1 RES     \\n@<TRIPOS>BOND\\n       1        1        2 1\\n       2        3        1 1\\n       3        4        3 1\\n@<TRIPOS>SUBSTRUCTURE\\n       1 RES             1 RESIDUE    0 **** ROOT      0\\n\",\"mol2\");\n",
       "\tviewer_1623442247757195.setStyle({\"stick\": {\"radius\": 0.2, \"color\": \"grey\"}, \"sphere\": {\"scale\": 0.3, \"colorscheme\": {}}});\n",
       "\tviewer_1623442247757195.zoomTo();\n",
       "viewer_1623442247757195.render();\n",
       "});\n",
       "</script>"
      ]
     },
     "metadata": {},
     "output_type": "display_data"
    },
    {
     "data": {
      "text/plain": [
       "<py3Dmol.view at 0x7fbc2c81f640>"
      ]
     },
     "execution_count": 10,
     "metadata": {},
     "output_type": "execute_result"
    }
   ],
   "source": [
    "ch2_copy = mb.clone(ch2)\n",
    "mb.force_overlap(move_this=ch2_copy,\n",
    "                 from_positions=ch2_copy['port[0]'],\n",
    "                 to_positions=ch2['port[0]'])\n",
    "parent = mb.Compound(subcompounds=[ch2, ch2_copy])\n",
    "parent.visualize(show_ports=True)"
   ]
  },
  {
   "cell_type": "markdown",
   "metadata": {},
   "source": [
    "We now see that we have two CH's connected! However, because our `Ports` were based off of the `C-H` bond distance, the two carbon atoms are unrealistically close to one another. While mBuild does feature an `energy_minimization` function that could remedy this, we could also manually shift our CH2 copy a bit to the left using the `translate` method."
   ]
  },
  {
   "cell_type": "code",
   "execution_count": 11,
   "metadata": {},
   "outputs": [
    {
     "data": {
      "application/3dmoljs_load.v0": "<div id=\"3dmolviewer_16234422478066828\"  style=\"position: relative; width: 640px; height: 480px\">\n        <p id=\"3dmolwarning_16234422478066828\" style=\"background-color:#ffcccc;color:black\">You appear to be running in JupyterLab (or JavaScript failed to load for some other reason).  You need to install the 3dmol extension: <br>\n        <tt>jupyter labextension install jupyterlab_3dmol</tt></p>\n        </div>\n<script>\n\nvar loadScriptAsync = function(uri){\n  return new Promise((resolve, reject) => {\n    var tag = document.createElement('script');\n    tag.src = uri;\n    tag.async = true;\n    tag.onload = () => {\n      resolve();\n    };\n  var firstScriptTag = document.getElementsByTagName('script')[0];\n  firstScriptTag.parentNode.insertBefore(tag, firstScriptTag);\n});\n};\n\nif(typeof $3Dmolpromise === 'undefined') {\n$3Dmolpromise = null;\n  $3Dmolpromise = loadScriptAsync('https://3dmol.org/build/3Dmol.js');\n}\n\nvar viewer_16234422478066828 = null;\nvar warn = document.getElementById(\"3dmolwarning_16234422478066828\");\nif(warn) {\n    warn.parentNode.removeChild(warn);\n}\n$3Dmolpromise.then(function() {\nviewer_16234422478066828 = $3Dmol.createViewer($(\"#3dmolviewer_16234422478066828\"),{backgroundColor:\"white\"});\nviewer_16234422478066828.zoomTo();\n\tviewer_16234422478066828.addModel(\"@<TRIPOS>MOLECULE\\nRES\\n4 3 1 0 1\\nSMALL\\nNO_CHARGES\\n@<TRIPOS>CRYSIN\\n    8.5000    15.0000    15.0000    90.0000    90.0000    90.0000  1  1\\n@<TRIPOS>ATOM\\n       1 C            0.0000     0.0000     0.0000 C             1 RES     \\n       2 H           -1.0000    -0.0000    -0.0000 H             1 RES     \\n       3 C            1.5000    -0.0000    -0.0000 C             1 RES     \\n       4 H            2.5000     0.0000    -0.0000 H             1 RES     \\n@<TRIPOS>BOND\\n       1        1        2 1\\n       2        3        1 1\\n       3        4        3 1\\n@<TRIPOS>SUBSTRUCTURE\\n       1 RES             1 RESIDUE    0 **** ROOT      0\\n\",\"mol2\");\n\tviewer_16234422478066828.setStyle({\"stick\": {\"radius\": 0.2, \"color\": \"grey\"}, \"sphere\": {\"scale\": 0.3, \"colorscheme\": {}}});\n\tviewer_16234422478066828.zoomTo();\nviewer_16234422478066828.render();\n});\n</script>",
      "text/html": [
       "<div id=\"3dmolviewer_16234422478066828\"  style=\"position: relative; width: 640px; height: 480px\">\n",
       "        <p id=\"3dmolwarning_16234422478066828\" style=\"background-color:#ffcccc;color:black\">You appear to be running in JupyterLab (or JavaScript failed to load for some other reason).  You need to install the 3dmol extension: <br>\n",
       "        <tt>jupyter labextension install jupyterlab_3dmol</tt></p>\n",
       "        </div>\n",
       "<script>\n",
       "\n",
       "var loadScriptAsync = function(uri){\n",
       "  return new Promise((resolve, reject) => {\n",
       "    var tag = document.createElement('script');\n",
       "    tag.src = uri;\n",
       "    tag.async = true;\n",
       "    tag.onload = () => {\n",
       "      resolve();\n",
       "    };\n",
       "  var firstScriptTag = document.getElementsByTagName('script')[0];\n",
       "  firstScriptTag.parentNode.insertBefore(tag, firstScriptTag);\n",
       "});\n",
       "};\n",
       "\n",
       "if(typeof $3Dmolpromise === 'undefined') {\n",
       "$3Dmolpromise = null;\n",
       "  $3Dmolpromise = loadScriptAsync('https://3dmol.org/build/3Dmol.js');\n",
       "}\n",
       "\n",
       "var viewer_16234422478066828 = null;\n",
       "var warn = document.getElementById(\"3dmolwarning_16234422478066828\");\n",
       "if(warn) {\n",
       "    warn.parentNode.removeChild(warn);\n",
       "}\n",
       "$3Dmolpromise.then(function() {\n",
       "viewer_16234422478066828 = $3Dmol.createViewer($(\"#3dmolviewer_16234422478066828\"),{backgroundColor:\"white\"});\n",
       "viewer_16234422478066828.zoomTo();\n",
       "\tviewer_16234422478066828.addModel(\"@<TRIPOS>MOLECULE\\nRES\\n4 3 1 0 1\\nSMALL\\nNO_CHARGES\\n@<TRIPOS>CRYSIN\\n    8.5000    15.0000    15.0000    90.0000    90.0000    90.0000  1  1\\n@<TRIPOS>ATOM\\n       1 C            0.0000     0.0000     0.0000 C             1 RES     \\n       2 H           -1.0000    -0.0000    -0.0000 H             1 RES     \\n       3 C            1.5000    -0.0000    -0.0000 C             1 RES     \\n       4 H            2.5000     0.0000    -0.0000 H             1 RES     \\n@<TRIPOS>BOND\\n       1        1        2 1\\n       2        3        1 1\\n       3        4        3 1\\n@<TRIPOS>SUBSTRUCTURE\\n       1 RES             1 RESIDUE    0 **** ROOT      0\\n\",\"mol2\");\n",
       "\tviewer_16234422478066828.setStyle({\"stick\": {\"radius\": 0.2, \"color\": \"grey\"}, \"sphere\": {\"scale\": 0.3, \"colorscheme\": {}}});\n",
       "\tviewer_16234422478066828.zoomTo();\n",
       "viewer_16234422478066828.render();\n",
       "});\n",
       "</script>"
      ]
     },
     "metadata": {},
     "output_type": "display_data"
    },
    {
     "data": {
      "text/plain": [
       "<py3Dmol.view at 0x7fbc2c83c490>"
      ]
     },
     "execution_count": 11,
     "metadata": {},
     "output_type": "execute_result"
    }
   ],
   "source": [
    "ch2_copy.translate([0.05, 0, 0])\n",
    "parent.visualize(show_ports=True)"
   ]
  },
  {
   "cell_type": "markdown",
   "metadata": {},
   "source": [
    "## Recap\n",
    "\n",
    "The goal of this tutorial was to demonstrate the use of mBuild's `Port` class to aid in connecting particles and molecules as well as moving them around in space. We also explored several additional methods of `Compound` including `translate`, `available_ports`, and `remove_bond`.\n",
    "\n",
    "The next tutorial will take the routines we've learned and use them to create a more complex molecule, an alkane chain."
   ]
  }
 ],
 "metadata": {
  "kernelspec": {
   "display_name": "Python 3",
   "language": "python",
   "name": "python3"
  },
  "language_info": {
   "codemirror_mode": {
    "name": "ipython",
    "version": 3
   },
   "file_extension": ".py",
   "mimetype": "text/x-python",
   "name": "python",
   "nbconvert_exporter": "python",
   "pygments_lexer": "ipython3",
   "version": "3.8.10"
  }
 },
 "nbformat": 4,
 "nbformat_minor": 2
}
