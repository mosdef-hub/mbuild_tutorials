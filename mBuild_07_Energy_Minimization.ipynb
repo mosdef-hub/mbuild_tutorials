{
 "cells": [
  {
   "cell_type": "markdown",
   "metadata": {
    "collapsed": true
   },
   "source": [
    "# mBuild Tutorial 07: Energy Minimization\n",
    "\n",
    "This tutorial demonstrates how to perform energy minimization of mBuild `Compounds` through use of the `energy_minimization` function."
   ]
  },
  {
   "cell_type": "markdown",
   "metadata": {},
   "source": [
    "As in the prior tutorials, we need to first import mbuild (here as `mb`).\n",
    "\n",
    "We also introduce a filter for some warnings to provide cleaner output."
   ]
  },
  {
   "cell_type": "code",
   "execution_count": 1,
   "metadata": {},
   "outputs": [],
   "source": [
    "import warnings\n",
    "warnings.filterwarnings('ignore')\n",
    "\n",
    "import mbuild as mb"
   ]
  },
  {
   "cell_type": "markdown",
   "metadata": {},
   "source": [
    "Many of geometries of the molecules we've created in the prior tutorials tend to not look entirely realistic (e.g. all backbone atoms featuring 180&deg; angles in the alkane molecules, all hydrogen atoms in plane, etc.). This can be addressed by placing `Particles` and `Ports` in more realistic locations, either manually or by using energy minimized inputs. \n",
    "\n",
    "Alternatively, a `Compound` can be constructed and then energy minimized, either through a simulation engine or using the `energy_minimization` function in mBuild (which uses the [Open Babel](http://openbabel.org/dev-api/) toolkit) to yield more realistic geometries for your prototypes.\n",
    "\n",
    "**Note:** In many cases it is easier to create systems with unrealistic configurations (e.g., creating dense monolayer films) to help avoid overlapping atoms.\n",
    "\n",
    "Here, we will consider energy minimizing a `Compound`.  First, we will employ the help command to see the doc string associated with the command."
   ]
  },
  {
   "cell_type": "code",
   "execution_count": 2,
   "metadata": {},
   "outputs": [
    {
     "name": "stdout",
     "output_type": "stream",
     "text": [
      "Help on function energy_minimize in module mbuild.compound:\n",
      "\n",
      "energy_minimize(self, forcefield='UFF', steps=1000, **kwargs)\n",
      "    Perform an energy minimization on a Compound.\n",
      "    \n",
      "    Default behavior utilizes `Open Babel <http://openbabel.org/docs/dev/>`_\n",
      "    to perform an energy minimization/geometry optimization on a Compound by\n",
      "    applying a generic force field\n",
      "    \n",
      "    Can also utilize `OpenMM <http://openmm.org/>`_ to energy minimize after\n",
      "    atomtyping a Compound using\n",
      "    `Foyer <https://github.com/mosdef-hub/foyer>`_ to apply a forcefield XML\n",
      "    file that contains valid SMARTS strings.\n",
      "    \n",
      "    This function is primarily intended to be used on smaller components,\n",
      "    with sizes on the order of 10's to 100's of particles, as the energy\n",
      "    minimization scales poorly with the number of particles.\n",
      "    \n",
      "    Parameters\n",
      "    ----------\n",
      "    steps : int, optional, default=1000\n",
      "        The number of optimization iterations\n",
      "    forcefield : str, optional, default='UFF'\n",
      "        The generic force field to apply to the Compound for minimization.\n",
      "        Valid options are 'MMFF94', 'MMFF94s', ''UFF', 'GAFF', 'Ghemical'.\n",
      "        Please refer to the `Open Babel documentation\n",
      "        <http://open-babel.readthedocs.io/en/latest/Forcefields/Overview.html>`_\n",
      "        when considering your choice of force field.\n",
      "        Utilizing OpenMM for energy minimization requires a forcefield\n",
      "        XML file with valid SMARTS strings. Please refer to `OpenMM docs\n",
      "        <http://docs.openmm.org/7.0.0/userguide/application.html#creating-force-fields>`_\n",
      "        for more information.\n",
      "    \n",
      "    \n",
      "    Other Parameters\n",
      "    ----------------\n",
      "    algorithm : str, optional, default='cg'\n",
      "        The energy minimization algorithm.  Valid options are 'steep', 'cg',\n",
      "        and 'md', corresponding to steepest descent, conjugate gradient, and\n",
      "        equilibrium molecular dynamics respectively.\n",
      "        For _energy_minimize_openbabel\n",
      "    scale_bonds : float, optional, default=1\n",
      "        Scales the bond force constant (1 is completely on).\n",
      "        For _energy_minimize_openmm\n",
      "    scale_angles : float, optional, default=1\n",
      "        Scales the angle force constant (1 is completely on)\n",
      "        For _energy_minimize_openmm\n",
      "    scale_torsions : float, optional, default=1\n",
      "        Scales the torsional force constants (1 is completely on)\n",
      "        For _energy_minimize_openmm\n",
      "        Note: Only Ryckaert-Bellemans style torsions are currently supported\n",
      "    scale_nonbonded : float, optional, default=1\n",
      "        Scales epsilon (1 is completely on)\n",
      "        For _energy_minimize_openmm\n",
      "    \n",
      "    References\n",
      "    ----------\n",
      "    If using _energy_minimize_openmm(), please cite:\n",
      "    \n",
      "    .. [Eastman2013] P. Eastman, M. S. Friedrichs, J. D. Chodera,\n",
      "       R. J. Radmer, C. M. Bruns, J. P. Ku, K. A. Beauchamp, T. J. Lane,\n",
      "       L.-P. Wang, D. Shukla, T. Tye, M. Houston, T. Stich, C. Klein,\n",
      "       M. R. Shirts, and V. S. Pande. \"OpenMM 4: A Reusable, Extensible,\n",
      "       Hardware Independent Library for High Performance Molecular\n",
      "       Simulation.\" J. Chem. Theor. Comput. 9(1): 461-469. (2013).\n",
      "    \n",
      "    If using _energy_minimize_openbabel(), please cite:\n",
      "    \n",
      "    .. [OBoyle2011] O'Boyle, N.M.; Banck, M.; James, C.A.; Morley, C.;\n",
      "       Vandermeersch, T.; Hutchison, G.R. \"Open Babel: An open chemical\n",
      "       toolbox.\" (2011) J. Cheminf. 3, 33\n",
      "    \n",
      "    .. [OpenBabel] Open Babel, version X.X.X http://openbabel.org,\n",
      "       (installed Month Year)\n",
      "    \n",
      "    If using the 'MMFF94' force field please also cite the following:\n",
      "    \n",
      "    .. [Halgren1996a] T.A. Halgren, \"Merck molecular force field. I. Basis,\n",
      "       form, scope, parameterization, and performance of MMFF94.\" (1996)\n",
      "       J. Comput. Chem. 17, 490-519\n",
      "    \n",
      "    .. [Halgren1996b] T.A. Halgren, \"Merck molecular force field. II. MMFF94\n",
      "       van der Waals and electrostatic parameters for intermolecular\n",
      "       interactions.\" (1996) J. Comput. Chem. 17, 520-552\n",
      "    \n",
      "    .. [Halgren1996c] T.A. Halgren, \"Merck molecular force field. III.\n",
      "       Molecular geometries and vibrational frequencies for MMFF94.\" (1996)\n",
      "       J. Comput. Chem. 17, 553-586\n",
      "    \n",
      "    .. [Halgren1996d] T.A. Halgren and R.B. Nachbar, \"Merck molecular force\n",
      "       field. IV. Conformational energies and geometries for MMFF94.\" (1996)\n",
      "       J. Comput. Chem. 17, 587-615\n",
      "    \n",
      "    .. [Halgren1996e] T.A. Halgren, \"Merck molecular force field. V.\n",
      "       Extension of MMFF94 using experimental data, additional computational\n",
      "       data, and empirical rules.\" (1996) J. Comput. Chem. 17, 616-641\n",
      "    \n",
      "    If using the 'MMFF94s' force field please cite the above along with:\n",
      "    \n",
      "    .. [Halgren1999] T.A. Halgren, \"MMFF VI. MMFF94s option for energy minimization\n",
      "       studies.\" (1999) J. Comput. Chem. 20, 720-729\n",
      "    \n",
      "    If using the 'UFF' force field please cite the following:\n",
      "    \n",
      "    .. [Rappe1992] Rappe, A.K., Casewit, C.J., Colwell, K.S., Goddard, W.A.\n",
      "       III, Skiff, W.M. \"UFF, a full periodic table force field for\n",
      "       molecular mechanics and molecular dynamics simulations.\" (1992)\n",
      "       J. Am. Chem. Soc. 114, 10024-10039\n",
      "    \n",
      "    If using the 'GAFF' force field please cite the following:\n",
      "    \n",
      "    .. [Wang2004] Wang, J., Wolf, R.M., Caldwell, J.W., Kollman, P.A.,\n",
      "       Case, D.A. \"Development and testing of a general AMBER force field\"\n",
      "       (2004) J. Comput. Chem. 25, 1157-1174\n",
      "    \n",
      "    If using the 'Ghemical' force field please cite the following:\n",
      "    \n",
      "    .. [Hassinen2001] T. Hassinen and M. Perakyla, \"New energy terms for\n",
      "       reduced protein models implemented in an off-lattice force field\"\n",
      "       (2001) J. Comput. Chem. 22, 1229-1242\n",
      "\n"
     ]
    }
   ],
   "source": [
    "help(mb.Compound.energy_minimize)"
   ]
  },
  {
   "cell_type": "markdown",
   "metadata": {},
   "source": [
    "As an example, we will consider hexane."
   ]
  },
  {
   "cell_type": "code",
   "execution_count": 3,
   "metadata": {},
   "outputs": [
    {
     "data": {
      "application/3dmoljs_load.v0": "<div id=\"3dmolviewer_1623442403451095\"  style=\"position: relative; width: 640px; height: 480px\">\n        <p id=\"3dmolwarning_1623442403451095\" style=\"background-color:#ffcccc;color:black\">You appear to be running in JupyterLab (or JavaScript failed to load for some other reason).  You need to install the 3dmol extension: <br>\n        <tt>jupyter labextension install jupyterlab_3dmol</tt></p>\n        </div>\n<script>\n\nvar loadScriptAsync = function(uri){\n  return new Promise((resolve, reject) => {\n    var tag = document.createElement('script');\n    tag.src = uri;\n    tag.async = true;\n    tag.onload = () => {\n      resolve();\n    };\n  var firstScriptTag = document.getElementsByTagName('script')[0];\n  firstScriptTag.parentNode.insertBefore(tag, firstScriptTag);\n});\n};\n\nif(typeof $3Dmolpromise === 'undefined') {\n$3Dmolpromise = null;\n  $3Dmolpromise = loadScriptAsync('https://3dmol.org/build/3Dmol.js');\n}\n\nvar viewer_1623442403451095 = null;\nvar warn = document.getElementById(\"3dmolwarning_1623442403451095\");\nif(warn) {\n    warn.parentNode.removeChild(warn);\n}\n$3Dmolpromise.then(function() {\nviewer_1623442403451095 = $3Dmol.createViewer($(\"#3dmolviewer_1623442403451095\"),{backgroundColor:\"white\"});\nviewer_1623442403451095.zoomTo();\n\tviewer_1623442403451095.addModel(\"@<TRIPOS>MOLECULE\\nRES\\n20 19 1 0 1\\nSMALL\\nNO_CHARGES\\n@<TRIPOS>CRYSIN\\n    7.2000    13.5380     6.6460    90.0000    90.0000    90.0000  1  1\\n@<TRIPOS>ATOM\\n       1 C            0.0000     0.0000     0.0000 C             1 RES     \\n       2 H           -1.1000     0.0000     0.0000 H             1 RES     \\n       3 H            1.1000     0.0000     0.0000 H             1 RES     \\n       4 C            0.0000    -1.4000     0.0000 C             1 RES     \\n       5 H           -1.1000    -1.4000    -0.0000 H             1 RES     \\n       6 H            1.1000    -1.4000     0.0000 H             1 RES     \\n       7 C            0.0000    -2.8000     0.0000 C             1 RES     \\n       8 H           -1.1000    -2.8000     0.0000 H             1 RES     \\n       9 H            1.1000    -2.8000     0.0000 H             1 RES     \\n      10 C            0.0000    -4.2000     0.0000 C             1 RES     \\n      11 H           -1.1000    -4.2000     0.0000 H             1 RES     \\n      12 H            1.1000    -4.2000     0.0000 H             1 RES     \\n      13 C            0.0000     1.4000     0.0000 C             1 RES     \\n      14 H            1.0700     1.4000    -0.0000 H             1 RES     \\n      15 H           -0.3570     2.1690     0.6530 H             1 RES     \\n      16 H           -0.3570     1.5810    -0.9930 H             1 RES     \\n      17 C           -0.0000    -5.6000     0.0000 C             1 RES     \\n      18 H           -1.0700    -5.6000     0.0000 H             1 RES     \\n      19 H            0.3570    -6.3690     0.6530 H             1 RES     \\n      20 H            0.3570    -5.7810    -0.9930 H             1 RES     \\n@<TRIPOS>BOND\\n       1        2        1 1\\n       2        3        1 1\\n       3        4        1 1\\n       4       13        1 1\\n       5        5        4 1\\n       6        6        4 1\\n       7        7        4 1\\n       8       14       13 1\\n       9       15       13 1\\n      10       16       13 1\\n      11        8        7 1\\n      12        9        7 1\\n      13       10        7 1\\n      14       11       10 1\\n      15       12       10 1\\n      16       17       10 1\\n      17       18       17 1\\n      18       19       17 1\\n      19       20       17 1\\n@<TRIPOS>SUBSTRUCTURE\\n       1 RES             1 RESIDUE    0 **** ROOT      0\\n\",\"mol2\");\n\tviewer_1623442403451095.setStyle({\"stick\": {\"radius\": 0.2, \"color\": \"grey\"}, \"sphere\": {\"scale\": 0.3, \"colorscheme\": {}}});\n\tviewer_1623442403451095.zoomTo();\nviewer_1623442403451095.render();\n});\n</script>",
      "text/html": [
       "<div id=\"3dmolviewer_1623442403451095\"  style=\"position: relative; width: 640px; height: 480px\">\n",
       "        <p id=\"3dmolwarning_1623442403451095\" style=\"background-color:#ffcccc;color:black\">You appear to be running in JupyterLab (or JavaScript failed to load for some other reason).  You need to install the 3dmol extension: <br>\n",
       "        <tt>jupyter labextension install jupyterlab_3dmol</tt></p>\n",
       "        </div>\n",
       "<script>\n",
       "\n",
       "var loadScriptAsync = function(uri){\n",
       "  return new Promise((resolve, reject) => {\n",
       "    var tag = document.createElement('script');\n",
       "    tag.src = uri;\n",
       "    tag.async = true;\n",
       "    tag.onload = () => {\n",
       "      resolve();\n",
       "    };\n",
       "  var firstScriptTag = document.getElementsByTagName('script')[0];\n",
       "  firstScriptTag.parentNode.insertBefore(tag, firstScriptTag);\n",
       "});\n",
       "};\n",
       "\n",
       "if(typeof $3Dmolpromise === 'undefined') {\n",
       "$3Dmolpromise = null;\n",
       "  $3Dmolpromise = loadScriptAsync('https://3dmol.org/build/3Dmol.js');\n",
       "}\n",
       "\n",
       "var viewer_1623442403451095 = null;\n",
       "var warn = document.getElementById(\"3dmolwarning_1623442403451095\");\n",
       "if(warn) {\n",
       "    warn.parentNode.removeChild(warn);\n",
       "}\n",
       "$3Dmolpromise.then(function() {\n",
       "viewer_1623442403451095 = $3Dmol.createViewer($(\"#3dmolviewer_1623442403451095\"),{backgroundColor:\"white\"});\n",
       "viewer_1623442403451095.zoomTo();\n",
       "\tviewer_1623442403451095.addModel(\"@<TRIPOS>MOLECULE\\nRES\\n20 19 1 0 1\\nSMALL\\nNO_CHARGES\\n@<TRIPOS>CRYSIN\\n    7.2000    13.5380     6.6460    90.0000    90.0000    90.0000  1  1\\n@<TRIPOS>ATOM\\n       1 C            0.0000     0.0000     0.0000 C             1 RES     \\n       2 H           -1.1000     0.0000     0.0000 H             1 RES     \\n       3 H            1.1000     0.0000     0.0000 H             1 RES     \\n       4 C            0.0000    -1.4000     0.0000 C             1 RES     \\n       5 H           -1.1000    -1.4000    -0.0000 H             1 RES     \\n       6 H            1.1000    -1.4000     0.0000 H             1 RES     \\n       7 C            0.0000    -2.8000     0.0000 C             1 RES     \\n       8 H           -1.1000    -2.8000     0.0000 H             1 RES     \\n       9 H            1.1000    -2.8000     0.0000 H             1 RES     \\n      10 C            0.0000    -4.2000     0.0000 C             1 RES     \\n      11 H           -1.1000    -4.2000     0.0000 H             1 RES     \\n      12 H            1.1000    -4.2000     0.0000 H             1 RES     \\n      13 C            0.0000     1.4000     0.0000 C             1 RES     \\n      14 H            1.0700     1.4000    -0.0000 H             1 RES     \\n      15 H           -0.3570     2.1690     0.6530 H             1 RES     \\n      16 H           -0.3570     1.5810    -0.9930 H             1 RES     \\n      17 C           -0.0000    -5.6000     0.0000 C             1 RES     \\n      18 H           -1.0700    -5.6000     0.0000 H             1 RES     \\n      19 H            0.3570    -6.3690     0.6530 H             1 RES     \\n      20 H            0.3570    -5.7810    -0.9930 H             1 RES     \\n@<TRIPOS>BOND\\n       1        2        1 1\\n       2        3        1 1\\n       3        4        1 1\\n       4       13        1 1\\n       5        5        4 1\\n       6        6        4 1\\n       7        7        4 1\\n       8       14       13 1\\n       9       15       13 1\\n      10       16       13 1\\n      11        8        7 1\\n      12        9        7 1\\n      13       10        7 1\\n      14       11       10 1\\n      15       12       10 1\\n      16       17       10 1\\n      17       18       17 1\\n      18       19       17 1\\n      19       20       17 1\\n@<TRIPOS>SUBSTRUCTURE\\n       1 RES             1 RESIDUE    0 **** ROOT      0\\n\",\"mol2\");\n",
       "\tviewer_1623442403451095.setStyle({\"stick\": {\"radius\": 0.2, \"color\": \"grey\"}, \"sphere\": {\"scale\": 0.3, \"colorscheme\": {}}});\n",
       "\tviewer_1623442403451095.zoomTo();\n",
       "viewer_1623442403451095.render();\n",
       "});\n",
       "</script>"
      ]
     },
     "metadata": {},
     "output_type": "display_data"
    },
    {
     "data": {
      "text/plain": [
       "<py3Dmol.view at 0x7ff9660a9ee0>"
      ]
     },
     "execution_count": 3,
     "metadata": {},
     "output_type": "execute_result"
    }
   ],
   "source": [
    "hexane = mb.recipes.Alkane(6)\n",
    "hexane.visualize()"
   ]
  },
  {
   "cell_type": "code",
   "execution_count": 4,
   "metadata": {},
   "outputs": [
    {
     "data": {
      "application/3dmoljs_load.v0": "<div id=\"3dmolviewer_1623442404878538\"  style=\"position: relative; width: 640px; height: 480px\">\n        <p id=\"3dmolwarning_1623442404878538\" style=\"background-color:#ffcccc;color:black\">You appear to be running in JupyterLab (or JavaScript failed to load for some other reason).  You need to install the 3dmol extension: <br>\n        <tt>jupyter labextension install jupyterlab_3dmol</tt></p>\n        </div>\n<script>\n\nvar loadScriptAsync = function(uri){\n  return new Promise((resolve, reject) => {\n    var tag = document.createElement('script');\n    tag.src = uri;\n    tag.async = true;\n    tag.onload = () => {\n      resolve();\n    };\n  var firstScriptTag = document.getElementsByTagName('script')[0];\n  firstScriptTag.parentNode.insertBefore(tag, firstScriptTag);\n});\n};\n\nif(typeof $3Dmolpromise === 'undefined') {\n$3Dmolpromise = null;\n  $3Dmolpromise = loadScriptAsync('https://3dmol.org/build/3Dmol.js');\n}\n\nvar viewer_1623442404878538 = null;\nvar warn = document.getElementById(\"3dmolwarning_1623442404878538\");\nif(warn) {\n    warn.parentNode.removeChild(warn);\n}\n$3Dmolpromise.then(function() {\nviewer_1623442404878538 = $3Dmol.createViewer($(\"#3dmolviewer_1623442404878538\"),{backgroundColor:\"white\"});\nviewer_1623442404878538.zoomTo();\n\tviewer_1623442404878538.addModel(\"@<TRIPOS>MOLECULE\\nRES\\n20 19 1 0 1\\nSMALL\\nNO_CHARGES\\n@<TRIPOS>CRYSIN\\n    7.9140    12.1020     8.0930    90.0000    90.0000    90.0000  1  1\\n@<TRIPOS>ATOM\\n       1 C            0.2460    -0.6210     0.4530 C             1 RES     \\n       2 H           -0.2830    -1.0040     1.3500 H             1 RES     \\n       3 H            1.3420    -0.6940     0.6220 H             1 RES     \\n       4 C           -0.1400    -1.4400    -0.7880 C             1 RES     \\n       5 H           -1.2370    -1.3740    -0.9570 H             1 RES     \\n       6 H            0.3740    -1.0030    -1.6720 H             1 RES     \\n       7 C            0.2750    -2.9180    -0.6950 C             1 RES     \\n       8 H            0.0150    -3.4000    -1.6630 H             1 RES     \\n       9 H            1.3770    -2.9860    -0.5600 H             1 RES     \\n      10 C           -0.4360    -3.6800     0.4330 C             1 RES     \\n      11 H           -1.5370    -3.6030     0.2980 H             1 RES     \\n      12 H           -0.1630    -3.2530     1.4210 H             1 RES     \\n      13 C           -0.1270     0.8480     0.2740 C             1 RES     \\n      14 H            0.4070     1.2780    -0.6010 H             1 RES     \\n      15 H            0.1620     1.4190     1.1810 H             1 RES     \\n      16 H           -1.2220     0.9530     0.1210 H             1 RES     \\n      17 C           -0.0440    -5.1550     0.4280 C             1 RES     \\n      18 H           -0.3290    -5.6270    -0.5370 H             1 RES     \\n      19 H           -0.5710    -5.6830     1.2500 H             1 RES     \\n      20 H            1.0510    -5.2640     0.5780 H             1 RES     \\n@<TRIPOS>BOND\\n       1        2        1 1\\n       2        3        1 1\\n       3        4        1 1\\n       4       13        1 1\\n       5        5        4 1\\n       6        6        4 1\\n       7        7        4 1\\n       8       14       13 1\\n       9       15       13 1\\n      10       16       13 1\\n      11        8        7 1\\n      12        9        7 1\\n      13       10        7 1\\n      14       11       10 1\\n      15       12       10 1\\n      16       17       10 1\\n      17       18       17 1\\n      18       19       17 1\\n      19       20       17 1\\n@<TRIPOS>SUBSTRUCTURE\\n       1 RES             1 RESIDUE    0 **** ROOT      0\\n\",\"mol2\");\n\tviewer_1623442404878538.setStyle({\"stick\": {\"radius\": 0.2, \"color\": \"grey\"}, \"sphere\": {\"scale\": 0.3, \"colorscheme\": {}}});\n\tviewer_1623442404878538.zoomTo();\nviewer_1623442404878538.render();\n});\n</script>",
      "text/html": [
       "<div id=\"3dmolviewer_1623442404878538\"  style=\"position: relative; width: 640px; height: 480px\">\n",
       "        <p id=\"3dmolwarning_1623442404878538\" style=\"background-color:#ffcccc;color:black\">You appear to be running in JupyterLab (or JavaScript failed to load for some other reason).  You need to install the 3dmol extension: <br>\n",
       "        <tt>jupyter labextension install jupyterlab_3dmol</tt></p>\n",
       "        </div>\n",
       "<script>\n",
       "\n",
       "var loadScriptAsync = function(uri){\n",
       "  return new Promise((resolve, reject) => {\n",
       "    var tag = document.createElement('script');\n",
       "    tag.src = uri;\n",
       "    tag.async = true;\n",
       "    tag.onload = () => {\n",
       "      resolve();\n",
       "    };\n",
       "  var firstScriptTag = document.getElementsByTagName('script')[0];\n",
       "  firstScriptTag.parentNode.insertBefore(tag, firstScriptTag);\n",
       "});\n",
       "};\n",
       "\n",
       "if(typeof $3Dmolpromise === 'undefined') {\n",
       "$3Dmolpromise = null;\n",
       "  $3Dmolpromise = loadScriptAsync('https://3dmol.org/build/3Dmol.js');\n",
       "}\n",
       "\n",
       "var viewer_1623442404878538 = null;\n",
       "var warn = document.getElementById(\"3dmolwarning_1623442404878538\");\n",
       "if(warn) {\n",
       "    warn.parentNode.removeChild(warn);\n",
       "}\n",
       "$3Dmolpromise.then(function() {\n",
       "viewer_1623442404878538 = $3Dmol.createViewer($(\"#3dmolviewer_1623442404878538\"),{backgroundColor:\"white\"});\n",
       "viewer_1623442404878538.zoomTo();\n",
       "\tviewer_1623442404878538.addModel(\"@<TRIPOS>MOLECULE\\nRES\\n20 19 1 0 1\\nSMALL\\nNO_CHARGES\\n@<TRIPOS>CRYSIN\\n    7.9140    12.1020     8.0930    90.0000    90.0000    90.0000  1  1\\n@<TRIPOS>ATOM\\n       1 C            0.2460    -0.6210     0.4530 C             1 RES     \\n       2 H           -0.2830    -1.0040     1.3500 H             1 RES     \\n       3 H            1.3420    -0.6940     0.6220 H             1 RES     \\n       4 C           -0.1400    -1.4400    -0.7880 C             1 RES     \\n       5 H           -1.2370    -1.3740    -0.9570 H             1 RES     \\n       6 H            0.3740    -1.0030    -1.6720 H             1 RES     \\n       7 C            0.2750    -2.9180    -0.6950 C             1 RES     \\n       8 H            0.0150    -3.4000    -1.6630 H             1 RES     \\n       9 H            1.3770    -2.9860    -0.5600 H             1 RES     \\n      10 C           -0.4360    -3.6800     0.4330 C             1 RES     \\n      11 H           -1.5370    -3.6030     0.2980 H             1 RES     \\n      12 H           -0.1630    -3.2530     1.4210 H             1 RES     \\n      13 C           -0.1270     0.8480     0.2740 C             1 RES     \\n      14 H            0.4070     1.2780    -0.6010 H             1 RES     \\n      15 H            0.1620     1.4190     1.1810 H             1 RES     \\n      16 H           -1.2220     0.9530     0.1210 H             1 RES     \\n      17 C           -0.0440    -5.1550     0.4280 C             1 RES     \\n      18 H           -0.3290    -5.6270    -0.5370 H             1 RES     \\n      19 H           -0.5710    -5.6830     1.2500 H             1 RES     \\n      20 H            1.0510    -5.2640     0.5780 H             1 RES     \\n@<TRIPOS>BOND\\n       1        2        1 1\\n       2        3        1 1\\n       3        4        1 1\\n       4       13        1 1\\n       5        5        4 1\\n       6        6        4 1\\n       7        7        4 1\\n       8       14       13 1\\n       9       15       13 1\\n      10       16       13 1\\n      11        8        7 1\\n      12        9        7 1\\n      13       10        7 1\\n      14       11       10 1\\n      15       12       10 1\\n      16       17       10 1\\n      17       18       17 1\\n      18       19       17 1\\n      19       20       17 1\\n@<TRIPOS>SUBSTRUCTURE\\n       1 RES             1 RESIDUE    0 **** ROOT      0\\n\",\"mol2\");\n",
       "\tviewer_1623442404878538.setStyle({\"stick\": {\"radius\": 0.2, \"color\": \"grey\"}, \"sphere\": {\"scale\": 0.3, \"colorscheme\": {}}});\n",
       "\tviewer_1623442404878538.zoomTo();\n",
       "viewer_1623442404878538.render();\n",
       "});\n",
       "</script>"
      ]
     },
     "metadata": {},
     "output_type": "display_data"
    },
    {
     "data": {
      "text/plain": [
       "<py3Dmol.view at 0x7ff966047580>"
      ]
     },
     "execution_count": 4,
     "metadata": {},
     "output_type": "execute_result"
    }
   ],
   "source": [
    "hexane.energy_minimize()\n",
    "hexane.visualize()"
   ]
  },
  {
   "cell_type": "markdown",
   "metadata": {},
   "source": [
    "The maximum number of iterations, the algorithm, and forcefield can all be easily toggled (see the help above)."
   ]
  },
  {
   "cell_type": "code",
   "execution_count": 5,
   "metadata": {},
   "outputs": [
    {
     "data": {
      "application/3dmoljs_load.v0": "<div id=\"3dmolviewer_1623442405486204\"  style=\"position: relative; width: 640px; height: 480px\">\n        <p id=\"3dmolwarning_1623442405486204\" style=\"background-color:#ffcccc;color:black\">You appear to be running in JupyterLab (or JavaScript failed to load for some other reason).  You need to install the 3dmol extension: <br>\n        <tt>jupyter labextension install jupyterlab_3dmol</tt></p>\n        </div>\n<script>\n\nvar loadScriptAsync = function(uri){\n  return new Promise((resolve, reject) => {\n    var tag = document.createElement('script');\n    tag.src = uri;\n    tag.async = true;\n    tag.onload = () => {\n      resolve();\n    };\n  var firstScriptTag = document.getElementsByTagName('script')[0];\n  firstScriptTag.parentNode.insertBefore(tag, firstScriptTag);\n});\n};\n\nif(typeof $3Dmolpromise === 'undefined') {\n$3Dmolpromise = null;\n  $3Dmolpromise = loadScriptAsync('https://3dmol.org/build/3Dmol.js');\n}\n\nvar viewer_1623442405486204 = null;\nvar warn = document.getElementById(\"3dmolwarning_1623442405486204\");\nif(warn) {\n    warn.parentNode.removeChild(warn);\n}\n$3Dmolpromise.then(function() {\nviewer_1623442405486204 = $3Dmol.createViewer($(\"#3dmolviewer_1623442405486204\"),{backgroundColor:\"white\"});\nviewer_1623442405486204.zoomTo();\n\tviewer_1623442405486204.addModel(\"@<TRIPOS>MOLECULE\\nRES\\n20 19 1 0 1\\nSMALL\\nNO_CHARGES\\n@<TRIPOS>CRYSIN\\n    7.9370    13.2110     7.9970    90.0000    90.0000    90.0000  1  1\\n@<TRIPOS>ATOM\\n       1 C            0.2740    -0.1200    -0.5400 C             1 RES     \\n       2 H            0.0760     0.0720    -1.6020 H             1 RES     \\n       3 H            1.3630    -0.2000    -0.4380 H             1 RES     \\n       4 C           -0.4280    -1.4320    -0.0510 C             1 RES     \\n       5 H           -0.1400    -1.7540    -1.0540 H             1 RES     \\n       6 H            0.0680    -1.1430     0.8780 H             1 RES     \\n       7 C            0.2260    -2.8090     0.3110 C             1 RES     \\n       8 H            0.2150    -2.9820     1.3950 H             1 RES     \\n       9 H            1.2780    -2.8270     0.0050 H             1 RES     \\n      10 C           -0.5230    -4.0060    -0.3300 C             1 RES     \\n      11 H           -1.5740    -3.9820    -0.0320 H             1 RES     \\n      12 H           -0.4890    -3.9370    -1.4200 H             1 RES     \\n      13 C           -0.2200     1.1350     0.2180 C             1 RES     \\n      14 H            0.0320     1.0840     1.2800 H             1 RES     \\n      15 H           -1.3030     1.2380     0.1220 H             1 RES     \\n      16 H            0.2470     2.0320    -0.1960 H             1 RES     \\n      17 C            0.0940    -5.3500     0.1020 C             1 RES     \\n      18 H            0.0370    -5.4710     1.1860 H             1 RES     \\n      19 H            1.1430    -5.4070    -0.2000 H             1 RES     \\n      20 H           -0.4430    -6.1790    -0.3640 H             1 RES     \\n@<TRIPOS>BOND\\n       1        2        1 1\\n       2        3        1 1\\n       3        4        1 1\\n       4       13        1 1\\n       5        5        4 1\\n       6        6        4 1\\n       7        7        4 1\\n       8       14       13 1\\n       9       15       13 1\\n      10       16       13 1\\n      11        8        7 1\\n      12        9        7 1\\n      13       10        7 1\\n      14       11       10 1\\n      15       12       10 1\\n      16       17       10 1\\n      17       18       17 1\\n      18       19       17 1\\n      19       20       17 1\\n@<TRIPOS>SUBSTRUCTURE\\n       1 RES             1 RESIDUE    0 **** ROOT      0\\n\",\"mol2\");\n\tviewer_1623442405486204.setStyle({\"stick\": {\"radius\": 0.2, \"color\": \"grey\"}, \"sphere\": {\"scale\": 0.3, \"colorscheme\": {}}});\n\tviewer_1623442405486204.zoomTo();\nviewer_1623442405486204.render();\n});\n</script>",
      "text/html": [
       "<div id=\"3dmolviewer_1623442405486204\"  style=\"position: relative; width: 640px; height: 480px\">\n",
       "        <p id=\"3dmolwarning_1623442405486204\" style=\"background-color:#ffcccc;color:black\">You appear to be running in JupyterLab (or JavaScript failed to load for some other reason).  You need to install the 3dmol extension: <br>\n",
       "        <tt>jupyter labextension install jupyterlab_3dmol</tt></p>\n",
       "        </div>\n",
       "<script>\n",
       "\n",
       "var loadScriptAsync = function(uri){\n",
       "  return new Promise((resolve, reject) => {\n",
       "    var tag = document.createElement('script');\n",
       "    tag.src = uri;\n",
       "    tag.async = true;\n",
       "    tag.onload = () => {\n",
       "      resolve();\n",
       "    };\n",
       "  var firstScriptTag = document.getElementsByTagName('script')[0];\n",
       "  firstScriptTag.parentNode.insertBefore(tag, firstScriptTag);\n",
       "});\n",
       "};\n",
       "\n",
       "if(typeof $3Dmolpromise === 'undefined') {\n",
       "$3Dmolpromise = null;\n",
       "  $3Dmolpromise = loadScriptAsync('https://3dmol.org/build/3Dmol.js');\n",
       "}\n",
       "\n",
       "var viewer_1623442405486204 = null;\n",
       "var warn = document.getElementById(\"3dmolwarning_1623442405486204\");\n",
       "if(warn) {\n",
       "    warn.parentNode.removeChild(warn);\n",
       "}\n",
       "$3Dmolpromise.then(function() {\n",
       "viewer_1623442405486204 = $3Dmol.createViewer($(\"#3dmolviewer_1623442405486204\"),{backgroundColor:\"white\"});\n",
       "viewer_1623442405486204.zoomTo();\n",
       "\tviewer_1623442405486204.addModel(\"@<TRIPOS>MOLECULE\\nRES\\n20 19 1 0 1\\nSMALL\\nNO_CHARGES\\n@<TRIPOS>CRYSIN\\n    7.9370    13.2110     7.9970    90.0000    90.0000    90.0000  1  1\\n@<TRIPOS>ATOM\\n       1 C            0.2740    -0.1200    -0.5400 C             1 RES     \\n       2 H            0.0760     0.0720    -1.6020 H             1 RES     \\n       3 H            1.3630    -0.2000    -0.4380 H             1 RES     \\n       4 C           -0.4280    -1.4320    -0.0510 C             1 RES     \\n       5 H           -0.1400    -1.7540    -1.0540 H             1 RES     \\n       6 H            0.0680    -1.1430     0.8780 H             1 RES     \\n       7 C            0.2260    -2.8090     0.3110 C             1 RES     \\n       8 H            0.2150    -2.9820     1.3950 H             1 RES     \\n       9 H            1.2780    -2.8270     0.0050 H             1 RES     \\n      10 C           -0.5230    -4.0060    -0.3300 C             1 RES     \\n      11 H           -1.5740    -3.9820    -0.0320 H             1 RES     \\n      12 H           -0.4890    -3.9370    -1.4200 H             1 RES     \\n      13 C           -0.2200     1.1350     0.2180 C             1 RES     \\n      14 H            0.0320     1.0840     1.2800 H             1 RES     \\n      15 H           -1.3030     1.2380     0.1220 H             1 RES     \\n      16 H            0.2470     2.0320    -0.1960 H             1 RES     \\n      17 C            0.0940    -5.3500     0.1020 C             1 RES     \\n      18 H            0.0370    -5.4710     1.1860 H             1 RES     \\n      19 H            1.1430    -5.4070    -0.2000 H             1 RES     \\n      20 H           -0.4430    -6.1790    -0.3640 H             1 RES     \\n@<TRIPOS>BOND\\n       1        2        1 1\\n       2        3        1 1\\n       3        4        1 1\\n       4       13        1 1\\n       5        5        4 1\\n       6        6        4 1\\n       7        7        4 1\\n       8       14       13 1\\n       9       15       13 1\\n      10       16       13 1\\n      11        8        7 1\\n      12        9        7 1\\n      13       10        7 1\\n      14       11       10 1\\n      15       12       10 1\\n      16       17       10 1\\n      17       18       17 1\\n      18       19       17 1\\n      19       20       17 1\\n@<TRIPOS>SUBSTRUCTURE\\n       1 RES             1 RESIDUE    0 **** ROOT      0\\n\",\"mol2\");\n",
       "\tviewer_1623442405486204.setStyle({\"stick\": {\"radius\": 0.2, \"color\": \"grey\"}, \"sphere\": {\"scale\": 0.3, \"colorscheme\": {}}});\n",
       "\tviewer_1623442405486204.zoomTo();\n",
       "viewer_1623442405486204.render();\n",
       "});\n",
       "</script>"
      ]
     },
     "metadata": {},
     "output_type": "display_data"
    },
    {
     "data": {
      "text/plain": [
       "<py3Dmol.view at 0x7ff966160970>"
      ]
     },
     "execution_count": 5,
     "metadata": {},
     "output_type": "execute_result"
    }
   ],
   "source": [
    "hexane = mb.recipes.Alkane(6)\n",
    "hexane.energy_minimize(steps=4000, algorithm='steep', forcefield='GAFF')\n",
    "hexane.visualize()"
   ]
  },
  {
   "cell_type": "markdown",
   "metadata": {
    "collapsed": true
   },
   "source": [
    "A system can then be constructed, as in the last tutorial, using the energy minimized configuration as input. "
   ]
  },
  {
   "cell_type": "code",
   "execution_count": 6,
   "metadata": {},
   "outputs": [
    {
     "data": {
      "application/3dmoljs_load.v0": "<div id=\"3dmolviewer_1623442405741984\"  style=\"position: relative; width: 640px; height: 480px\">\n        <p id=\"3dmolwarning_1623442405741984\" style=\"background-color:#ffcccc;color:black\">You appear to be running in JupyterLab (or JavaScript failed to load for some other reason).  You need to install the 3dmol extension: <br>\n        <tt>jupyter labextension install jupyterlab_3dmol</tt></p>\n        </div>\n<script>\n\nvar loadScriptAsync = function(uri){\n  return new Promise((resolve, reject) => {\n    var tag = document.createElement('script');\n    tag.src = uri;\n    tag.async = true;\n    tag.onload = () => {\n      resolve();\n    };\n  var firstScriptTag = document.getElementsByTagName('script')[0];\n  firstScriptTag.parentNode.insertBefore(tag, firstScriptTag);\n});\n};\n\nif(typeof $3Dmolpromise === 'undefined') {\n$3Dmolpromise = null;\n  $3Dmolpromise = loadScriptAsync('https://3dmol.org/build/3Dmol.js');\n}\n\nvar viewer_1623442405741984 = null;\nvar warn = document.getElementById(\"3dmolwarning_1623442405741984\");\nif(warn) {\n    warn.parentNode.removeChild(warn);\n}\n$3Dmolpromise.then(function() {\nviewer_1623442405741984 = $3Dmol.createViewer($(\"#3dmolviewer_1623442405741984\"),{backgroundColor:\"white\"});\nviewer_1623442405741984.zoomTo();\n\tviewer_1623442405741984.addModel(\"@<TRIPOS>MOLECULE\\nRES\\n200 190 1 0 1\\nSMALL\\nNO_CHARGES\\n@<TRIPOS>CRYSIN\\n   50.0000    50.0000    50.0000    90.0000    90.0000    90.0000  1  1\\n@<TRIPOS>ATOM\\n       1 C           23.1020    17.9373    13.8932 C             1 RES     \\n       2 H           24.1527    18.0119    14.2002 H             1 RES     \\n       3 H           22.9457    18.7133    13.1341 H             1 RES     \\n       4 C           22.1316    18.1421    15.1054 C             1 RES     \\n       5 H           22.9015    18.8676    15.3764 H             1 RES     \\n       6 H           21.3934    18.0060    14.3123 H             1 RES     \\n       7 C           21.2119    19.3712    15.4193 C             1 RES     \\n       8 H           20.1549    19.1322    15.2443 H             1 RES     \\n       9 H           21.4534    20.2106    14.7576 H             1 RES     \\n      10 C           21.3179    19.8267    16.8978 C             1 RES     \\n      11 H           21.0862    18.9866    17.5570 H             1 RES     \\n      12 H           22.3365    20.1508    17.1244 H             1 RES     \\n      13 C           22.9483    16.5437    13.2391 C             1 RES     \\n      14 H           21.9546    16.4155    12.8030 H             1 RES     \\n      15 H           23.1084    15.7551    13.9775 H             1 RES     \\n      16 H           23.6845    16.4199    12.4412 H             1 RES     \\n      17 C           20.3494    20.9866    17.1981 C             1 RES     \\n      18 H           19.3152    20.6820    17.0229 H             1 RES     \\n      19 H           20.5711    21.8479    16.5625 H             1 RES     \\n      20 H           20.4433    21.2964    18.2411 H             1 RES     \\n      21 C           19.4029     7.8359    17.9057 C             1 RES     \\n      22 H           20.1773     8.2634    17.2565 H             1 RES     \\n      23 H           19.3847     6.7592    17.6976 H             1 RES     \\n      24 C           18.0013     8.4789    17.6311 C             1 RES     \\n      25 H           18.3814     8.4500    16.6077 H             1 RES     \\n      26 H           17.7167     7.7655    18.4073 H             1 RES     \\n      27 C           16.7580     7.8383    16.9249 C             1 RES     \\n      28 H           15.9648     7.6075    17.6479 H             1 RES     \\n      29 H           17.0318     6.8886    16.4518 H             1 RES     \\n      30 C           16.1259     8.7823    15.8695 C             1 RES     \\n      31 H           15.8617     9.7325    16.3400 H             1 RES     \\n      32 H           16.8427     8.9980    15.0735 H             1 RES     \\n      33 C           19.8883     8.0685    19.3561 C             1 RES     \\n      34 H           19.2307     7.5805    20.0795 H             1 RES     \\n      35 H           19.9217     9.1365    19.5815 H             1 RES     \\n      36 H           20.8935     7.6599    19.4860 H             1 RES     \\n      37 C           14.8627     8.1595    15.2449 C             1 RES     \\n      38 H           14.1061     7.9705    16.0096 H             1 RES     \\n      39 H           15.1030     7.2141    14.7517 H             1 RES     \\n      40 H           14.4365     8.8362    14.5011 H             1 RES     \\n      41 C           16.7969    18.4369    39.7239 C             1 RES     \\n      42 H           16.5357    19.2901    40.3624 H             1 RES     \\n      43 H           15.9340    18.2650    39.0692 H             1 RES     \\n      44 C           17.1148    17.1588    40.5716 C             1 RES     \\n      45 H           16.3011    17.5677    41.1745 H             1 RES     \\n      46 H           17.2479    16.7419    39.5711 H             1 RES     \\n      47 C           16.2533    15.8604    40.7354 C             1 RES     \\n      48 H           16.7006    15.0154    40.1959 H             1 RES     \\n      49 H           15.2542    16.0059    40.3096 H             1 RES     \\n      50 C           16.1284    15.4165    42.2159 C             1 RES     \\n      51 H           17.1252    15.2807    42.6426 H             1 RES     \\n      52 H           15.6220    16.1864    42.8030 H             1 RES     \\n      53 C           18.0025    18.8979    38.8709 C             1 RES     \\n      54 H           18.2712    18.1482    38.1227 H             1 RES     \\n      55 H           18.8717    19.0828    39.5058 H             1 RES     \\n      56 H           17.7588    19.8248    38.3460 H             1 RES     \\n      57 C           15.3412    14.0981    42.3417 C             1 RES     \\n      58 H           15.8447    13.2940    41.8004 H             1 RES     \\n      59 H           14.3323    14.2118    41.9368 H             1 RES     \\n      60 H           15.2593    13.8059    43.3908 H             1 RES     \\n      61 C            9.9105    23.1643    34.1525 C             1 RES     \\n      62 H            9.8622    23.1581    33.0564 H             1 RES     \\n      63 H           10.9738    23.1113    34.4156 H             1 RES     \\n      64 C            9.1242    21.9589    34.7707 C             1 RES     \\n      65 H            9.5397    21.4613    33.8919 H             1 RES     \\n      66 H            9.4946    22.4157    35.6909 H             1 RES     \\n      67 C            9.6971    20.6753    35.4628 C             1 RES     \\n      68 H            9.5357    20.7028    36.5483 H             1 RES     \\n      69 H           10.7804    20.6086    35.3122 H             1 RES     \\n      70 C            9.0200    19.3766    34.9533 C             1 RES     \\n      71 H            7.9389    19.4477    35.0951 H             1 RES     \\n      72 H            9.2031    19.2459    33.8840 H             1 RES     \\n      73 C            9.3415    24.5332    34.5952 C             1 RES     \\n      74 H            9.4459    24.6784    35.6731 H             1 RES     \\n      75 H            8.2837    24.6099    34.3346 H             1 RES     \\n      76 H            9.8771    25.3427    34.0932 H             1 RES     \\n      77 C            9.5474    18.1380    35.7025 C             1 RES     \\n      78 H            9.3413    18.2164    36.7722 H             1 RES     \\n      79 H           10.6264    18.0337    35.5625 H             1 RES     \\n      80 H            9.0633    17.2344    35.3256 H             1 RES     \\n      81 C            6.3795    34.6215    36.8022 C             1 RES     \\n      82 H            5.3229    34.3257    36.8107 H             1 RES     \\n      83 H            6.7282    34.4933    35.7703 H             1 RES     \\n      84 C            7.2296    33.7510    37.7885 C             1 RES     \\n      85 H            6.5465    32.9810    37.4236 H             1 RES     \\n      86 H            8.0235    34.3832    37.3853 H             1 RES     \\n      87 C            8.2758    32.6355    37.4480 C             1 RES     \\n      88 H            9.3004    32.9781    37.6427 H             1 RES     \\n      89 H            8.2317    32.3795    36.3835 H             1 RES     \\n      90 C            8.0739    31.3556    38.2999 C             1 RES     \\n      91 H            8.1085    31.6132    39.3612 H             1 RES     \\n      92 H            7.0935    30.9161    38.1004 H             1 RES     \\n      93 C            6.4028    36.1249    37.1669 C             1 RES     \\n      94 H            7.4098    36.5403    37.0807 H             1 RES     \\n      95 H            6.0507    36.2757    38.1896 H             1 RES     \\n      96 H            5.7490    36.6849    36.4939 H             1 RES     \\n      97 C            9.1597    30.3048    37.9994 C             1 RES     \\n      98 H           10.1524    30.6978    38.2297 H             1 RES     \\n      99 H            9.1353    30.0163    36.9453 H             1 RES     \\n     100 H            8.9967    29.4100    38.6041 H             1 RES     \\n     101 C           42.6497    18.1337    42.6284 C             1 RES     \\n     102 H           43.2248    18.4742    41.7582 H             1 RES     \\n     103 H           41.7661    18.7805    42.6874 H             1 RES     \\n     104 C           43.4920    18.2216    43.9460 C             1 RES     \\n     105 H           43.8523    19.1255    43.4503 H             1 RES     \\n     106 H           42.5542    17.8484    44.3631 H             1 RES     \\n     107 C           43.3382    19.2316    45.1340 C             1 RES     \\n     108 H           42.9120    18.7424    46.0195 H             1 RES     \\n     109 H           42.6489    20.0396    44.8645 H             1 RES     \\n     110 C           44.6967    19.8328    45.5785 C             1 RES     \\n     111 H           45.3865    19.0261    45.8380 H             1 RES     \\n     112 H           45.1477    20.4004    44.7609 H             1 RES     \\n     113 C           42.2046    16.6878    42.3043 C             1 RES     \\n     114 H           41.5317    16.2967    43.0712 H             1 RES     \\n     115 H           43.0717    16.0278    42.2328 H             1 RES     \\n     116 H           41.6760    16.6629    41.3482 H             1 RES     \\n     117 C           44.5271    20.7633    46.7947 C             1 RES     \\n     118 H           44.1173    20.2158    47.6463 H             1 RES     \\n     119 H           43.8536    21.5904    46.5558 H             1 RES     \\n     120 H           45.4927    21.1807    47.0882 H             1 RES     \\n     121 C           27.1809    41.6174    42.1778 C             1 RES     \\n     122 H           26.6583    41.1778    41.3190 H             1 RES     \\n     123 H           27.6208    40.7805    42.7335 H             1 RES     \\n     124 C           26.2051    42.4374    43.0881 C             1 RES     \\n     125 H           25.5366    41.6193    42.8117 H             1 RES     \\n     126 H           27.1274    42.5695    43.6578 H             1 RES     \\n     127 C           25.6630    42.0711    44.5117 C             1 RES     \\n     128 H           26.1267    42.6952    45.2868 H             1 RES     \\n     129 H           25.9093    41.0330    44.7613 H             1 RES     \\n     130 C           24.1323    42.2869    44.6351 C             1 RES     \\n     131 H           23.8864    43.3198    44.3769 H             1 RES     \\n     132 H           23.5987    41.6378    43.9366 H             1 RES     \\n     133 C           28.3132    42.4894    41.5853 C             1 RES     \\n     134 H           28.9608    42.8884    42.3697 H             1 RES     \\n     135 H           27.8959    43.3254    41.0199 H             1 RES     \\n     136 H           28.9314    41.8938    40.9091 H             1 RES     \\n     137 C           23.6377    41.9919    46.0641 C             1 RES     \\n     138 H           24.1207    42.6550    46.7851 H             1 RES     \\n     139 H           23.8565    40.9574    46.3415 H             1 RES     \\n     140 H           22.5581    42.1436    46.1287 H             1 RES     \\n     141 C           16.0640    41.8938    40.9164 C             1 RES     \\n     142 H           16.5867    42.0318    41.8711 H             1 RES     \\n     143 H           16.8244    41.5836    40.1895 H             1 RES     \\n     144 C           15.3555    43.2111    40.4517 C             1 RES     \\n     145 H           16.2589    43.6450    40.8855 H             1 RES     \\n     146 H           15.0929    42.5659    39.6106 H             1 RES     \\n     147 C           15.7556    44.1699    39.2788 C             1 RES     \\n     148 H           15.0594    44.0783    38.4349 H             1 RES     \\n     149 H           16.7474    43.9106    38.8919 H             1 RES     \\n     150 C           15.7356    45.6617    39.7017 C             1 RES     \\n     151 H           14.7491    45.9170    40.0961 H             1 RES     \\n     152 H           16.4638    45.8422    40.4961 H             1 RES     \\n     153 C           15.0675    40.7320    41.1416 C             1 RES     \\n     154 H           14.5706    40.4471    40.2111 H             1 RES     \\n     155 H           14.3053    41.0177    41.8697 H             1 RES     \\n     156 H           15.5941    39.8542    41.5242 H             1 RES     \\n     157 C           16.0589    46.5861    38.5123 C             1 RES     \\n     158 H           15.3227    46.4622    37.7150 H             1 RES     \\n     159 H           17.0499    46.3625    38.1089 H             1 RES     \\n     160 H           16.0457    47.6305    38.8315 H             1 RES     \\n     161 C            7.0797    16.0829    17.3604 C             1 RES     \\n     162 H            7.2483    16.1588    16.2789 H             1 RES     \\n     163 H            8.0065    15.6845    17.7906 H             1 RES     \\n     164 C            5.8670    15.1481    17.6904 C             1 RES     \\n     165 H            6.2813    14.6000    16.8415 H             1 RES     \\n     166 H            6.1675    15.4095    18.7073 H             1 RES     \\n     167 C            5.8875    13.7101    18.3123 C             1 RES     \\n     168 H            5.5313    13.7206    19.3506 H             1 RES     \\n     169 H            6.9102    13.3178    18.3395 H             1 RES     \\n     170 C            4.9710    12.7215    17.5460 C             1 RES     \\n     171 H            3.9533    13.1179    17.5112 H             1 RES     \\n     172 H            5.3137    12.6054    16.5150 H             1 RES     \\n     173 C            6.8652    17.5314    17.8597 C             1 RES     \\n     174 H            6.7937    17.5708    18.9494 H             1 RES     \\n     175 H            5.9501    17.9504    17.4357 H             1 RES     \\n     176 H            7.7037    18.1621    17.5544 H             1 RES     \\n     177 C            4.9509    11.3369    18.2215 C             1 RES     \\n     178 H            4.5712    11.4104    19.2429 H             1 RES     \\n     179 H            5.9565    10.9095    18.2538 H             1 RES     \\n     180 H            4.3056    10.6544    17.6643 H             1 RES     \\n     181 C           38.8635    20.0074    33.4874 C             1 RES     \\n     182 H           37.7995    20.1038    33.7377 H             1 RES     \\n     183 H           39.4168    20.5093    34.2903 H             1 RES     \\n     184 C           39.1896    20.6546    32.0989 C             1 RES     \\n     185 H           38.4491    21.3740    32.4548 H             1 RES     \\n     186 H           40.1925    20.3235    32.3767 H             1 RES     \\n     187 C           39.9714    21.9797    31.8022 C             1 RES     \\n     188 H           40.9661    21.7704    31.3875 H             1 RES     \\n     189 H           40.1337    22.5452    32.7265 H             1 RES     \\n     190 C           39.2453    22.8750    30.7650 C             1 RES     \\n     191 H           39.0754    22.3074    29.8469 H             1 RES     \\n     192 H           38.2687    23.1837    31.1457 H             1 RES     \\n     193 C           39.1727    18.4919    33.5228 C             1 RES     \\n     194 H           40.2400    18.2998    33.3891 H             1 RES     \\n     195 H           38.6242    17.9713    32.7348 H             1 RES     \\n     196 H           38.8726    18.0696    34.4849 H             1 RES     \\n     197 C           40.0703    24.1337    30.4353 C             1 RES     \\n     198 H           41.0390    23.8609    30.0108 H             1 RES     \\n     199 H           40.2402    24.7295    31.3358 H             1 RES     \\n     200 H           39.5400    24.7530    29.7088 H             1 RES     \\n@<TRIPOS>BOND\\n       1        1        2 1\\n       2        3        1 1\\n       3        4        1 1\\n       4       13        1 1\\n       5        5        4 1\\n       6        6        4 1\\n       7        7        4 1\\n       8       14       13 1\\n       9       15       13 1\\n      10       16       13 1\\n      11        8        7 1\\n      12        9        7 1\\n      13       10        7 1\\n      14       11       10 1\\n      15       12       10 1\\n      16       17       10 1\\n      17       18       17 1\\n      18       19       17 1\\n      19       20       17 1\\n      20       21       22 1\\n      21       23       21 1\\n      22       24       21 1\\n      23       33       21 1\\n      24       25       24 1\\n      25       26       24 1\\n      26       27       24 1\\n      27       34       33 1\\n      28       35       33 1\\n      29       36       33 1\\n      30       28       27 1\\n      31       29       27 1\\n      32       30       27 1\\n      33       31       30 1\\n      34       32       30 1\\n      35       37       30 1\\n      36       38       37 1\\n      37       39       37 1\\n      38       40       37 1\\n      39       41       42 1\\n      40       43       41 1\\n      41       44       41 1\\n      42       53       41 1\\n      43       45       44 1\\n      44       46       44 1\\n      45       47       44 1\\n      46       54       53 1\\n      47       55       53 1\\n      48       56       53 1\\n      49       48       47 1\\n      50       49       47 1\\n      51       50       47 1\\n      52       51       50 1\\n      53       52       50 1\\n      54       57       50 1\\n      55       58       57 1\\n      56       59       57 1\\n      57       60       57 1\\n      58       61       62 1\\n      59       63       61 1\\n      60       64       61 1\\n      61       73       61 1\\n      62       65       64 1\\n      63       66       64 1\\n      64       67       64 1\\n      65       74       73 1\\n      66       75       73 1\\n      67       76       73 1\\n      68       68       67 1\\n      69       69       67 1\\n      70       70       67 1\\n      71       71       70 1\\n      72       72       70 1\\n      73       77       70 1\\n      74       78       77 1\\n      75       79       77 1\\n      76       80       77 1\\n      77       81       82 1\\n      78       83       81 1\\n      79       84       81 1\\n      80       93       81 1\\n      81       85       84 1\\n      82       86       84 1\\n      83       87       84 1\\n      84       94       93 1\\n      85       95       93 1\\n      86       96       93 1\\n      87       88       87 1\\n      88       89       87 1\\n      89       90       87 1\\n      90       91       90 1\\n      91       92       90 1\\n      92       97       90 1\\n      93       98       97 1\\n      94       99       97 1\\n      95      100       97 1\\n      96      101      102 1\\n      97      103      101 1\\n      98      104      101 1\\n      99      113      101 1\\n     100      105      104 1\\n     101      106      104 1\\n     102      107      104 1\\n     103      114      113 1\\n     104      115      113 1\\n     105      116      113 1\\n     106      108      107 1\\n     107      109      107 1\\n     108      110      107 1\\n     109      111      110 1\\n     110      112      110 1\\n     111      117      110 1\\n     112      118      117 1\\n     113      119      117 1\\n     114      120      117 1\\n     115      121      122 1\\n     116      123      121 1\\n     117      124      121 1\\n     118      133      121 1\\n     119      125      124 1\\n     120      126      124 1\\n     121      127      124 1\\n     122      134      133 1\\n     123      135      133 1\\n     124      136      133 1\\n     125      128      127 1\\n     126      129      127 1\\n     127      130      127 1\\n     128      131      130 1\\n     129      132      130 1\\n     130      137      130 1\\n     131      138      137 1\\n     132      139      137 1\\n     133      140      137 1\\n     134      141      142 1\\n     135      143      141 1\\n     136      144      141 1\\n     137      153      141 1\\n     138      145      144 1\\n     139      146      144 1\\n     140      147      144 1\\n     141      154      153 1\\n     142      155      153 1\\n     143      156      153 1\\n     144      148      147 1\\n     145      149      147 1\\n     146      150      147 1\\n     147      151      150 1\\n     148      152      150 1\\n     149      157      150 1\\n     150      158      157 1\\n     151      159      157 1\\n     152      160      157 1\\n     153      161      162 1\\n     154      163      161 1\\n     155      164      161 1\\n     156      173      161 1\\n     157      165      164 1\\n     158      166      164 1\\n     159      167      164 1\\n     160      174      173 1\\n     161      175      173 1\\n     162      176      173 1\\n     163      168      167 1\\n     164      169      167 1\\n     165      170      167 1\\n     166      171      170 1\\n     167      172      170 1\\n     168      177      170 1\\n     169      178      177 1\\n     170      179      177 1\\n     171      180      177 1\\n     172      181      182 1\\n     173      183      181 1\\n     174      184      181 1\\n     175      193      181 1\\n     176      185      184 1\\n     177      186      184 1\\n     178      187      184 1\\n     179      194      193 1\\n     180      195      193 1\\n     181      196      193 1\\n     182      188      187 1\\n     183      189      187 1\\n     184      190      187 1\\n     185      191      190 1\\n     186      192      190 1\\n     187      197      190 1\\n     188      198      197 1\\n     189      199      197 1\\n     190      200      197 1\\n@<TRIPOS>SUBSTRUCTURE\\n       1 RES             1 RESIDUE    0 **** ROOT      0\\n\",\"mol2\");\n\tviewer_1623442405741984.setStyle({\"stick\": {\"radius\": 0.2, \"color\": \"grey\"}, \"sphere\": {\"scale\": 0.3, \"colorscheme\": {}}});\n\tviewer_1623442405741984.zoomTo();\nviewer_1623442405741984.render();\n});\n</script>",
      "text/html": [
       "<div id=\"3dmolviewer_1623442405741984\"  style=\"position: relative; width: 640px; height: 480px\">\n",
       "        <p id=\"3dmolwarning_1623442405741984\" style=\"background-color:#ffcccc;color:black\">You appear to be running in JupyterLab (or JavaScript failed to load for some other reason).  You need to install the 3dmol extension: <br>\n",
       "        <tt>jupyter labextension install jupyterlab_3dmol</tt></p>\n",
       "        </div>\n",
       "<script>\n",
       "\n",
       "var loadScriptAsync = function(uri){\n",
       "  return new Promise((resolve, reject) => {\n",
       "    var tag = document.createElement('script');\n",
       "    tag.src = uri;\n",
       "    tag.async = true;\n",
       "    tag.onload = () => {\n",
       "      resolve();\n",
       "    };\n",
       "  var firstScriptTag = document.getElementsByTagName('script')[0];\n",
       "  firstScriptTag.parentNode.insertBefore(tag, firstScriptTag);\n",
       "});\n",
       "};\n",
       "\n",
       "if(typeof $3Dmolpromise === 'undefined') {\n",
       "$3Dmolpromise = null;\n",
       "  $3Dmolpromise = loadScriptAsync('https://3dmol.org/build/3Dmol.js');\n",
       "}\n",
       "\n",
       "var viewer_1623442405741984 = null;\n",
       "var warn = document.getElementById(\"3dmolwarning_1623442405741984\");\n",
       "if(warn) {\n",
       "    warn.parentNode.removeChild(warn);\n",
       "}\n",
       "$3Dmolpromise.then(function() {\n",
       "viewer_1623442405741984 = $3Dmol.createViewer($(\"#3dmolviewer_1623442405741984\"),{backgroundColor:\"white\"});\n",
       "viewer_1623442405741984.zoomTo();\n",
       "\tviewer_1623442405741984.addModel(\"@<TRIPOS>MOLECULE\\nRES\\n200 190 1 0 1\\nSMALL\\nNO_CHARGES\\n@<TRIPOS>CRYSIN\\n   50.0000    50.0000    50.0000    90.0000    90.0000    90.0000  1  1\\n@<TRIPOS>ATOM\\n       1 C           23.1020    17.9373    13.8932 C             1 RES     \\n       2 H           24.1527    18.0119    14.2002 H             1 RES     \\n       3 H           22.9457    18.7133    13.1341 H             1 RES     \\n       4 C           22.1316    18.1421    15.1054 C             1 RES     \\n       5 H           22.9015    18.8676    15.3764 H             1 RES     \\n       6 H           21.3934    18.0060    14.3123 H             1 RES     \\n       7 C           21.2119    19.3712    15.4193 C             1 RES     \\n       8 H           20.1549    19.1322    15.2443 H             1 RES     \\n       9 H           21.4534    20.2106    14.7576 H             1 RES     \\n      10 C           21.3179    19.8267    16.8978 C             1 RES     \\n      11 H           21.0862    18.9866    17.5570 H             1 RES     \\n      12 H           22.3365    20.1508    17.1244 H             1 RES     \\n      13 C           22.9483    16.5437    13.2391 C             1 RES     \\n      14 H           21.9546    16.4155    12.8030 H             1 RES     \\n      15 H           23.1084    15.7551    13.9775 H             1 RES     \\n      16 H           23.6845    16.4199    12.4412 H             1 RES     \\n      17 C           20.3494    20.9866    17.1981 C             1 RES     \\n      18 H           19.3152    20.6820    17.0229 H             1 RES     \\n      19 H           20.5711    21.8479    16.5625 H             1 RES     \\n      20 H           20.4433    21.2964    18.2411 H             1 RES     \\n      21 C           19.4029     7.8359    17.9057 C             1 RES     \\n      22 H           20.1773     8.2634    17.2565 H             1 RES     \\n      23 H           19.3847     6.7592    17.6976 H             1 RES     \\n      24 C           18.0013     8.4789    17.6311 C             1 RES     \\n      25 H           18.3814     8.4500    16.6077 H             1 RES     \\n      26 H           17.7167     7.7655    18.4073 H             1 RES     \\n      27 C           16.7580     7.8383    16.9249 C             1 RES     \\n      28 H           15.9648     7.6075    17.6479 H             1 RES     \\n      29 H           17.0318     6.8886    16.4518 H             1 RES     \\n      30 C           16.1259     8.7823    15.8695 C             1 RES     \\n      31 H           15.8617     9.7325    16.3400 H             1 RES     \\n      32 H           16.8427     8.9980    15.0735 H             1 RES     \\n      33 C           19.8883     8.0685    19.3561 C             1 RES     \\n      34 H           19.2307     7.5805    20.0795 H             1 RES     \\n      35 H           19.9217     9.1365    19.5815 H             1 RES     \\n      36 H           20.8935     7.6599    19.4860 H             1 RES     \\n      37 C           14.8627     8.1595    15.2449 C             1 RES     \\n      38 H           14.1061     7.9705    16.0096 H             1 RES     \\n      39 H           15.1030     7.2141    14.7517 H             1 RES     \\n      40 H           14.4365     8.8362    14.5011 H             1 RES     \\n      41 C           16.7969    18.4369    39.7239 C             1 RES     \\n      42 H           16.5357    19.2901    40.3624 H             1 RES     \\n      43 H           15.9340    18.2650    39.0692 H             1 RES     \\n      44 C           17.1148    17.1588    40.5716 C             1 RES     \\n      45 H           16.3011    17.5677    41.1745 H             1 RES     \\n      46 H           17.2479    16.7419    39.5711 H             1 RES     \\n      47 C           16.2533    15.8604    40.7354 C             1 RES     \\n      48 H           16.7006    15.0154    40.1959 H             1 RES     \\n      49 H           15.2542    16.0059    40.3096 H             1 RES     \\n      50 C           16.1284    15.4165    42.2159 C             1 RES     \\n      51 H           17.1252    15.2807    42.6426 H             1 RES     \\n      52 H           15.6220    16.1864    42.8030 H             1 RES     \\n      53 C           18.0025    18.8979    38.8709 C             1 RES     \\n      54 H           18.2712    18.1482    38.1227 H             1 RES     \\n      55 H           18.8717    19.0828    39.5058 H             1 RES     \\n      56 H           17.7588    19.8248    38.3460 H             1 RES     \\n      57 C           15.3412    14.0981    42.3417 C             1 RES     \\n      58 H           15.8447    13.2940    41.8004 H             1 RES     \\n      59 H           14.3323    14.2118    41.9368 H             1 RES     \\n      60 H           15.2593    13.8059    43.3908 H             1 RES     \\n      61 C            9.9105    23.1643    34.1525 C             1 RES     \\n      62 H            9.8622    23.1581    33.0564 H             1 RES     \\n      63 H           10.9738    23.1113    34.4156 H             1 RES     \\n      64 C            9.1242    21.9589    34.7707 C             1 RES     \\n      65 H            9.5397    21.4613    33.8919 H             1 RES     \\n      66 H            9.4946    22.4157    35.6909 H             1 RES     \\n      67 C            9.6971    20.6753    35.4628 C             1 RES     \\n      68 H            9.5357    20.7028    36.5483 H             1 RES     \\n      69 H           10.7804    20.6086    35.3122 H             1 RES     \\n      70 C            9.0200    19.3766    34.9533 C             1 RES     \\n      71 H            7.9389    19.4477    35.0951 H             1 RES     \\n      72 H            9.2031    19.2459    33.8840 H             1 RES     \\n      73 C            9.3415    24.5332    34.5952 C             1 RES     \\n      74 H            9.4459    24.6784    35.6731 H             1 RES     \\n      75 H            8.2837    24.6099    34.3346 H             1 RES     \\n      76 H            9.8771    25.3427    34.0932 H             1 RES     \\n      77 C            9.5474    18.1380    35.7025 C             1 RES     \\n      78 H            9.3413    18.2164    36.7722 H             1 RES     \\n      79 H           10.6264    18.0337    35.5625 H             1 RES     \\n      80 H            9.0633    17.2344    35.3256 H             1 RES     \\n      81 C            6.3795    34.6215    36.8022 C             1 RES     \\n      82 H            5.3229    34.3257    36.8107 H             1 RES     \\n      83 H            6.7282    34.4933    35.7703 H             1 RES     \\n      84 C            7.2296    33.7510    37.7885 C             1 RES     \\n      85 H            6.5465    32.9810    37.4236 H             1 RES     \\n      86 H            8.0235    34.3832    37.3853 H             1 RES     \\n      87 C            8.2758    32.6355    37.4480 C             1 RES     \\n      88 H            9.3004    32.9781    37.6427 H             1 RES     \\n      89 H            8.2317    32.3795    36.3835 H             1 RES     \\n      90 C            8.0739    31.3556    38.2999 C             1 RES     \\n      91 H            8.1085    31.6132    39.3612 H             1 RES     \\n      92 H            7.0935    30.9161    38.1004 H             1 RES     \\n      93 C            6.4028    36.1249    37.1669 C             1 RES     \\n      94 H            7.4098    36.5403    37.0807 H             1 RES     \\n      95 H            6.0507    36.2757    38.1896 H             1 RES     \\n      96 H            5.7490    36.6849    36.4939 H             1 RES     \\n      97 C            9.1597    30.3048    37.9994 C             1 RES     \\n      98 H           10.1524    30.6978    38.2297 H             1 RES     \\n      99 H            9.1353    30.0163    36.9453 H             1 RES     \\n     100 H            8.9967    29.4100    38.6041 H             1 RES     \\n     101 C           42.6497    18.1337    42.6284 C             1 RES     \\n     102 H           43.2248    18.4742    41.7582 H             1 RES     \\n     103 H           41.7661    18.7805    42.6874 H             1 RES     \\n     104 C           43.4920    18.2216    43.9460 C             1 RES     \\n     105 H           43.8523    19.1255    43.4503 H             1 RES     \\n     106 H           42.5542    17.8484    44.3631 H             1 RES     \\n     107 C           43.3382    19.2316    45.1340 C             1 RES     \\n     108 H           42.9120    18.7424    46.0195 H             1 RES     \\n     109 H           42.6489    20.0396    44.8645 H             1 RES     \\n     110 C           44.6967    19.8328    45.5785 C             1 RES     \\n     111 H           45.3865    19.0261    45.8380 H             1 RES     \\n     112 H           45.1477    20.4004    44.7609 H             1 RES     \\n     113 C           42.2046    16.6878    42.3043 C             1 RES     \\n     114 H           41.5317    16.2967    43.0712 H             1 RES     \\n     115 H           43.0717    16.0278    42.2328 H             1 RES     \\n     116 H           41.6760    16.6629    41.3482 H             1 RES     \\n     117 C           44.5271    20.7633    46.7947 C             1 RES     \\n     118 H           44.1173    20.2158    47.6463 H             1 RES     \\n     119 H           43.8536    21.5904    46.5558 H             1 RES     \\n     120 H           45.4927    21.1807    47.0882 H             1 RES     \\n     121 C           27.1809    41.6174    42.1778 C             1 RES     \\n     122 H           26.6583    41.1778    41.3190 H             1 RES     \\n     123 H           27.6208    40.7805    42.7335 H             1 RES     \\n     124 C           26.2051    42.4374    43.0881 C             1 RES     \\n     125 H           25.5366    41.6193    42.8117 H             1 RES     \\n     126 H           27.1274    42.5695    43.6578 H             1 RES     \\n     127 C           25.6630    42.0711    44.5117 C             1 RES     \\n     128 H           26.1267    42.6952    45.2868 H             1 RES     \\n     129 H           25.9093    41.0330    44.7613 H             1 RES     \\n     130 C           24.1323    42.2869    44.6351 C             1 RES     \\n     131 H           23.8864    43.3198    44.3769 H             1 RES     \\n     132 H           23.5987    41.6378    43.9366 H             1 RES     \\n     133 C           28.3132    42.4894    41.5853 C             1 RES     \\n     134 H           28.9608    42.8884    42.3697 H             1 RES     \\n     135 H           27.8959    43.3254    41.0199 H             1 RES     \\n     136 H           28.9314    41.8938    40.9091 H             1 RES     \\n     137 C           23.6377    41.9919    46.0641 C             1 RES     \\n     138 H           24.1207    42.6550    46.7851 H             1 RES     \\n     139 H           23.8565    40.9574    46.3415 H             1 RES     \\n     140 H           22.5581    42.1436    46.1287 H             1 RES     \\n     141 C           16.0640    41.8938    40.9164 C             1 RES     \\n     142 H           16.5867    42.0318    41.8711 H             1 RES     \\n     143 H           16.8244    41.5836    40.1895 H             1 RES     \\n     144 C           15.3555    43.2111    40.4517 C             1 RES     \\n     145 H           16.2589    43.6450    40.8855 H             1 RES     \\n     146 H           15.0929    42.5659    39.6106 H             1 RES     \\n     147 C           15.7556    44.1699    39.2788 C             1 RES     \\n     148 H           15.0594    44.0783    38.4349 H             1 RES     \\n     149 H           16.7474    43.9106    38.8919 H             1 RES     \\n     150 C           15.7356    45.6617    39.7017 C             1 RES     \\n     151 H           14.7491    45.9170    40.0961 H             1 RES     \\n     152 H           16.4638    45.8422    40.4961 H             1 RES     \\n     153 C           15.0675    40.7320    41.1416 C             1 RES     \\n     154 H           14.5706    40.4471    40.2111 H             1 RES     \\n     155 H           14.3053    41.0177    41.8697 H             1 RES     \\n     156 H           15.5941    39.8542    41.5242 H             1 RES     \\n     157 C           16.0589    46.5861    38.5123 C             1 RES     \\n     158 H           15.3227    46.4622    37.7150 H             1 RES     \\n     159 H           17.0499    46.3625    38.1089 H             1 RES     \\n     160 H           16.0457    47.6305    38.8315 H             1 RES     \\n     161 C            7.0797    16.0829    17.3604 C             1 RES     \\n     162 H            7.2483    16.1588    16.2789 H             1 RES     \\n     163 H            8.0065    15.6845    17.7906 H             1 RES     \\n     164 C            5.8670    15.1481    17.6904 C             1 RES     \\n     165 H            6.2813    14.6000    16.8415 H             1 RES     \\n     166 H            6.1675    15.4095    18.7073 H             1 RES     \\n     167 C            5.8875    13.7101    18.3123 C             1 RES     \\n     168 H            5.5313    13.7206    19.3506 H             1 RES     \\n     169 H            6.9102    13.3178    18.3395 H             1 RES     \\n     170 C            4.9710    12.7215    17.5460 C             1 RES     \\n     171 H            3.9533    13.1179    17.5112 H             1 RES     \\n     172 H            5.3137    12.6054    16.5150 H             1 RES     \\n     173 C            6.8652    17.5314    17.8597 C             1 RES     \\n     174 H            6.7937    17.5708    18.9494 H             1 RES     \\n     175 H            5.9501    17.9504    17.4357 H             1 RES     \\n     176 H            7.7037    18.1621    17.5544 H             1 RES     \\n     177 C            4.9509    11.3369    18.2215 C             1 RES     \\n     178 H            4.5712    11.4104    19.2429 H             1 RES     \\n     179 H            5.9565    10.9095    18.2538 H             1 RES     \\n     180 H            4.3056    10.6544    17.6643 H             1 RES     \\n     181 C           38.8635    20.0074    33.4874 C             1 RES     \\n     182 H           37.7995    20.1038    33.7377 H             1 RES     \\n     183 H           39.4168    20.5093    34.2903 H             1 RES     \\n     184 C           39.1896    20.6546    32.0989 C             1 RES     \\n     185 H           38.4491    21.3740    32.4548 H             1 RES     \\n     186 H           40.1925    20.3235    32.3767 H             1 RES     \\n     187 C           39.9714    21.9797    31.8022 C             1 RES     \\n     188 H           40.9661    21.7704    31.3875 H             1 RES     \\n     189 H           40.1337    22.5452    32.7265 H             1 RES     \\n     190 C           39.2453    22.8750    30.7650 C             1 RES     \\n     191 H           39.0754    22.3074    29.8469 H             1 RES     \\n     192 H           38.2687    23.1837    31.1457 H             1 RES     \\n     193 C           39.1727    18.4919    33.5228 C             1 RES     \\n     194 H           40.2400    18.2998    33.3891 H             1 RES     \\n     195 H           38.6242    17.9713    32.7348 H             1 RES     \\n     196 H           38.8726    18.0696    34.4849 H             1 RES     \\n     197 C           40.0703    24.1337    30.4353 C             1 RES     \\n     198 H           41.0390    23.8609    30.0108 H             1 RES     \\n     199 H           40.2402    24.7295    31.3358 H             1 RES     \\n     200 H           39.5400    24.7530    29.7088 H             1 RES     \\n@<TRIPOS>BOND\\n       1        1        2 1\\n       2        3        1 1\\n       3        4        1 1\\n       4       13        1 1\\n       5        5        4 1\\n       6        6        4 1\\n       7        7        4 1\\n       8       14       13 1\\n       9       15       13 1\\n      10       16       13 1\\n      11        8        7 1\\n      12        9        7 1\\n      13       10        7 1\\n      14       11       10 1\\n      15       12       10 1\\n      16       17       10 1\\n      17       18       17 1\\n      18       19       17 1\\n      19       20       17 1\\n      20       21       22 1\\n      21       23       21 1\\n      22       24       21 1\\n      23       33       21 1\\n      24       25       24 1\\n      25       26       24 1\\n      26       27       24 1\\n      27       34       33 1\\n      28       35       33 1\\n      29       36       33 1\\n      30       28       27 1\\n      31       29       27 1\\n      32       30       27 1\\n      33       31       30 1\\n      34       32       30 1\\n      35       37       30 1\\n      36       38       37 1\\n      37       39       37 1\\n      38       40       37 1\\n      39       41       42 1\\n      40       43       41 1\\n      41       44       41 1\\n      42       53       41 1\\n      43       45       44 1\\n      44       46       44 1\\n      45       47       44 1\\n      46       54       53 1\\n      47       55       53 1\\n      48       56       53 1\\n      49       48       47 1\\n      50       49       47 1\\n      51       50       47 1\\n      52       51       50 1\\n      53       52       50 1\\n      54       57       50 1\\n      55       58       57 1\\n      56       59       57 1\\n      57       60       57 1\\n      58       61       62 1\\n      59       63       61 1\\n      60       64       61 1\\n      61       73       61 1\\n      62       65       64 1\\n      63       66       64 1\\n      64       67       64 1\\n      65       74       73 1\\n      66       75       73 1\\n      67       76       73 1\\n      68       68       67 1\\n      69       69       67 1\\n      70       70       67 1\\n      71       71       70 1\\n      72       72       70 1\\n      73       77       70 1\\n      74       78       77 1\\n      75       79       77 1\\n      76       80       77 1\\n      77       81       82 1\\n      78       83       81 1\\n      79       84       81 1\\n      80       93       81 1\\n      81       85       84 1\\n      82       86       84 1\\n      83       87       84 1\\n      84       94       93 1\\n      85       95       93 1\\n      86       96       93 1\\n      87       88       87 1\\n      88       89       87 1\\n      89       90       87 1\\n      90       91       90 1\\n      91       92       90 1\\n      92       97       90 1\\n      93       98       97 1\\n      94       99       97 1\\n      95      100       97 1\\n      96      101      102 1\\n      97      103      101 1\\n      98      104      101 1\\n      99      113      101 1\\n     100      105      104 1\\n     101      106      104 1\\n     102      107      104 1\\n     103      114      113 1\\n     104      115      113 1\\n     105      116      113 1\\n     106      108      107 1\\n     107      109      107 1\\n     108      110      107 1\\n     109      111      110 1\\n     110      112      110 1\\n     111      117      110 1\\n     112      118      117 1\\n     113      119      117 1\\n     114      120      117 1\\n     115      121      122 1\\n     116      123      121 1\\n     117      124      121 1\\n     118      133      121 1\\n     119      125      124 1\\n     120      126      124 1\\n     121      127      124 1\\n     122      134      133 1\\n     123      135      133 1\\n     124      136      133 1\\n     125      128      127 1\\n     126      129      127 1\\n     127      130      127 1\\n     128      131      130 1\\n     129      132      130 1\\n     130      137      130 1\\n     131      138      137 1\\n     132      139      137 1\\n     133      140      137 1\\n     134      141      142 1\\n     135      143      141 1\\n     136      144      141 1\\n     137      153      141 1\\n     138      145      144 1\\n     139      146      144 1\\n     140      147      144 1\\n     141      154      153 1\\n     142      155      153 1\\n     143      156      153 1\\n     144      148      147 1\\n     145      149      147 1\\n     146      150      147 1\\n     147      151      150 1\\n     148      152      150 1\\n     149      157      150 1\\n     150      158      157 1\\n     151      159      157 1\\n     152      160      157 1\\n     153      161      162 1\\n     154      163      161 1\\n     155      164      161 1\\n     156      173      161 1\\n     157      165      164 1\\n     158      166      164 1\\n     159      167      164 1\\n     160      174      173 1\\n     161      175      173 1\\n     162      176      173 1\\n     163      168      167 1\\n     164      169      167 1\\n     165      170      167 1\\n     166      171      170 1\\n     167      172      170 1\\n     168      177      170 1\\n     169      178      177 1\\n     170      179      177 1\\n     171      180      177 1\\n     172      181      182 1\\n     173      183      181 1\\n     174      184      181 1\\n     175      193      181 1\\n     176      185      184 1\\n     177      186      184 1\\n     178      187      184 1\\n     179      194      193 1\\n     180      195      193 1\\n     181      196      193 1\\n     182      188      187 1\\n     183      189      187 1\\n     184      190      187 1\\n     185      191      190 1\\n     186      192      190 1\\n     187      197      190 1\\n     188      198      197 1\\n     189      199      197 1\\n     190      200      197 1\\n@<TRIPOS>SUBSTRUCTURE\\n       1 RES             1 RESIDUE    0 **** ROOT      0\\n\",\"mol2\");\n",
       "\tviewer_1623442405741984.setStyle({\"stick\": {\"radius\": 0.2, \"color\": \"grey\"}, \"sphere\": {\"scale\": 0.3, \"colorscheme\": {}}});\n",
       "\tviewer_1623442405741984.zoomTo();\n",
       "viewer_1623442405741984.render();\n",
       "});\n",
       "</script>"
      ]
     },
     "metadata": {},
     "output_type": "display_data"
    },
    {
     "data": {
      "text/plain": [
       "<py3Dmol.view at 0x7ff9665e91c0>"
      ]
     },
     "execution_count": 6,
     "metadata": {},
     "output_type": "execute_result"
    }
   ],
   "source": [
    "box = mb.Box(lengths=[5, 5, 5])\n",
    "\n",
    "box_of_hexanes = mb.fill_box(compound=hexane, n_compounds=10, box=box)\n",
    "box_of_hexanes.visualize()"
   ]
  },
  {
   "cell_type": "markdown",
   "metadata": {
    "collapsed": true
   },
   "source": [
    "Currently the `energy_minimization` function is limited to atomistic `Compounds` that can be atomtyped using the generic force fields provided by OpenBabel (e.g. GAFF, UFF); however, the next mBuild release will expand this functionality to support non-atomistic systems by relying on Foyer force field XMLs for atomtyping. For a sneak peek, see [this PR](https://github.com/mosdef-hub/mbuild/pull/416)."
   ]
  },
  {
   "cell_type": "markdown",
   "metadata": {
    "collapsed": true
   },
   "source": [
    "## Recap\n",
    "\n",
    "The goal of this tutorial was to demonstrate use of mBuild's `energy_minimization` function for generating compounds with more realistic geometries.\n",
    "\n",
    "The next tutorial will teach you how you can use mBuild to create polymers."
   ]
  }
 ],
 "metadata": {
  "kernelspec": {
   "display_name": "Python 3",
   "language": "python",
   "name": "python3"
  },
  "language_info": {
   "codemirror_mode": {
    "name": "ipython",
    "version": 3
   },
   "file_extension": ".py",
   "mimetype": "text/x-python",
   "name": "python",
   "nbconvert_exporter": "python",
   "pygments_lexer": "ipython3",
   "version": "3.8.10"
  }
 },
 "nbformat": 4,
 "nbformat_minor": 2
}
