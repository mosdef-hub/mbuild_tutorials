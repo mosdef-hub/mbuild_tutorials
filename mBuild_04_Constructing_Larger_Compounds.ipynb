{
 "cells": [
  {
   "cell_type": "markdown",
   "metadata": {
    "collapsed": true
   },
   "source": [
    "# mBuild Tutorial 04: Constructing Larger Compounds\n",
    "\n",
    "This tutorial demonstrates how to create larger `Compounds` by taking advantage of the `Port` class we learned about in the previous tutorial.  In particular, a linear alkane will be constructed by adding to the CH2 moiety class defined in a prior tutorial."
   ]
  },
  {
   "cell_type": "markdown",
   "metadata": {},
   "source": [
    "As in the prior tutorials, we need to first import mbuild (here as `mb`)."
   ]
  },
  {
   "cell_type": "code",
   "execution_count": 1,
   "metadata": {},
   "outputs": [],
   "source": [
    "import warnings\n",
    "warnings.filterwarnings('ignore')\n",
    "\n",
    "import mbuild as mb"
   ]
  },
  {
   "cell_type": "markdown",
   "metadata": {},
   "source": [
    "In general, connecting atoms together using `Ports` to create small moieties is unnecessary as these can be loaded from structure files; however, this functionality is important for creating larger and more complex `Compounds`. Here, we will extend the CH2 class constructed in a prior tutorial, adding two `Ports` (labeled `up` and `down`) to the central carbon atom."
   ]
  },
  {
   "cell_type": "code",
   "execution_count": 2,
   "metadata": {},
   "outputs": [],
   "source": [
    "class CH2(mb.Compound):\n",
    "    def __init__(self):\n",
    "        super(CH2, self).__init__()\n",
    "        \n",
    "        mb.load('utils/ch2.pdb', compound=self)\n",
    "        carbon = list(self.particles_by_name('C'))[0]\n",
    "        up_port = mb.Port(anchor=carbon, orientation=[0, 0, 1], separation=0.075)\n",
    "        down_port = mb.Port(anchor=carbon, orientation=[0, 0, -1], separation=0.075)\n",
    "        self.add(up_port, label='up')\n",
    "        self.add(down_port, label='down')"
   ]
  },
  {
   "cell_type": "markdown",
   "metadata": {},
   "source": [
    "Now we'll explore how `Ports` can be used to connect `Compounds` by connecting two CH2 groups to create a C2H4 group. We'll first use mBuild's `clone` function to create two deep copies of our CH2 `Compound`, similar to to what was done in the previous tutorial. \n",
    "\n",
    "We can use the `translate` function to move one copy so that they are not on top of one another. \n",
    "\n",
    "Note, in order to visualize the two compounds simultaneously, we'll again add these to a parent `Compound`. "
   ]
  },
  {
   "cell_type": "code",
   "execution_count": 3,
   "metadata": {},
   "outputs": [
    {
     "data": {
      "application/3dmoljs_load.v0": "<div id=\"3dmolviewer_1623442267194342\"  style=\"position: relative; width: 640px; height: 480px\">\n        <p id=\"3dmolwarning_1623442267194342\" style=\"background-color:#ffcccc;color:black\">You appear to be running in JupyterLab (or JavaScript failed to load for some other reason).  You need to install the 3dmol extension: <br>\n        <tt>jupyter labextension install jupyterlab_3dmol</tt></p>\n        </div>\n<script>\n\nvar loadScriptAsync = function(uri){\n  return new Promise((resolve, reject) => {\n    var tag = document.createElement('script');\n    tag.src = uri;\n    tag.async = true;\n    tag.onload = () => {\n      resolve();\n    };\n  var firstScriptTag = document.getElementsByTagName('script')[0];\n  firstScriptTag.parentNode.insertBefore(tag, firstScriptTag);\n});\n};\n\nif(typeof $3Dmolpromise === 'undefined') {\n$3Dmolpromise = null;\n  $3Dmolpromise = loadScriptAsync('https://3dmol.org/build/3Dmol.js');\n}\n\nvar viewer_1623442267194342 = null;\nvar warn = document.getElementById(\"3dmolwarning_1623442267194342\");\nif(warn) {\n    warn.parentNode.removeChild(warn);\n}\n$3Dmolpromise.then(function() {\nviewer_1623442267194342 = $3Dmol.createViewer($(\"#3dmolviewer_1623442267194342\"),{backgroundColor:\"white\"});\nviewer_1623442267194342.zoomTo();\n\tviewer_1623442267194342.addModel(\"@<TRIPOS>MOLECULE\\nRES\\n38 4 4 0 1\\nBIOPOLYMER\\nNO_CHARGES\\n@<TRIPOS>CRYSIN\\n   17.2000    15.0000    15.0000    90.0000    90.0000    90.0000  1  1\\n@<TRIPOS>ATOM\\n       1 C            0.0000     0.0000     0.0000 C             1 RES     \\n       2 H           -1.1000     0.0000     0.0000 H             1 RES     \\n       3 H            1.1000     0.0000     0.0000 H             1 RES     \\n       4 VS           0.0500     0.0250     0.7750 VS            2 PRT     \\n       5 VS           0.0500     0.0250     0.9750 VS            2 PRT     \\n       6 VS          -0.1500     0.0250     0.6750 VS            2 PRT     \\n       7 VS           0.0500    -0.0750     0.5750 VS            2 PRT     \\n       8 VS           0.0500    -0.0250     0.7250 VS            2 PRT     \\n       9 VS           0.0500    -0.0250     0.5250 VS            2 PRT     \\n      10 VS          -0.1500    -0.0250     0.8250 VS            2 PRT     \\n      11 VS           0.0500     0.0750     0.9250 VS            2 PRT     \\n      12 VS           0.0500    -0.0250    -0.7750 VS            2 PRT     \\n      13 VS           0.0500    -0.0250    -0.9750 VS            2 PRT     \\n      14 VS          -0.1500    -0.0250    -0.6750 VS            2 PRT     \\n      15 VS           0.0500     0.0750    -0.5750 VS            2 PRT     \\n      16 VS           0.0500     0.0250    -0.7250 VS            2 PRT     \\n      17 VS           0.0500     0.0250    -0.5250 VS            2 PRT     \\n      18 VS          -0.1500     0.0250    -0.8250 VS            2 PRT     \\n      19 VS           0.0500    -0.0750    -0.9250 VS            2 PRT     \\n      20 C           10.0000    10.0000    10.0000 C             3 RES     \\n      21 H            8.9000    10.0000    10.0000 H             3 RES     \\n      22 H           11.1000    10.0000    10.0000 H             3 RES     \\n      23 VS          10.0500    10.0250    10.7750 VS            4 PRT     \\n      24 VS          10.0500    10.0250    10.9750 VS            4 PRT     \\n      25 VS           9.8500    10.0250    10.6750 VS            4 PRT     \\n      26 VS          10.0500     9.9250    10.5750 VS            4 PRT     \\n      27 VS          10.0500     9.9750    10.7250 VS            4 PRT     \\n      28 VS          10.0500     9.9750    10.5250 VS            4 PRT     \\n      29 VS           9.8500     9.9750    10.8250 VS            4 PRT     \\n      30 VS          10.0500    10.0750    10.9250 VS            4 PRT     \\n      31 VS          10.0500     9.9750     9.2250 VS            4 PRT     \\n      32 VS          10.0500     9.9750     9.0250 VS            4 PRT     \\n      33 VS           9.8500     9.9750     9.3250 VS            4 PRT     \\n      34 VS          10.0500    10.0750     9.4250 VS            4 PRT     \\n      35 VS          10.0500    10.0250     9.2750 VS            4 PRT     \\n      36 VS          10.0500    10.0250     9.4750 VS            4 PRT     \\n      37 VS           9.8500    10.0250     9.1750 VS            4 PRT     \\n      38 VS          10.0500     9.9250     9.0750 VS            4 PRT     \\n@<TRIPOS>BOND\\n       1        1        2 1\\n       2        3        1 1\\n       3       20       21 1\\n       4       22       20 1\\n@<TRIPOS>SUBSTRUCTURE\\n       1 RES             1 RESIDUE    0 **** ROOT      0\\n       2 PRT             4 RESIDUE    0 **** ROOT      0\\n       3 RES            20 RESIDUE    0 **** ROOT      0\\n       4 PRT            23 RESIDUE    0 **** ROOT      0\\n\",\"mol2\");\n\tviewer_1623442267194342.setStyle({\"stick\": {\"radius\": 0.2, \"color\": \"grey\"}, \"sphere\": {\"scale\": 0.3, \"colorscheme\": {}}});\n\tviewer_1623442267194342.zoomTo();\nviewer_1623442267194342.render();\n});\n</script>",
      "text/html": [
       "<div id=\"3dmolviewer_1623442267194342\"  style=\"position: relative; width: 640px; height: 480px\">\n",
       "        <p id=\"3dmolwarning_1623442267194342\" style=\"background-color:#ffcccc;color:black\">You appear to be running in JupyterLab (or JavaScript failed to load for some other reason).  You need to install the 3dmol extension: <br>\n",
       "        <tt>jupyter labextension install jupyterlab_3dmol</tt></p>\n",
       "        </div>\n",
       "<script>\n",
       "\n",
       "var loadScriptAsync = function(uri){\n",
       "  return new Promise((resolve, reject) => {\n",
       "    var tag = document.createElement('script');\n",
       "    tag.src = uri;\n",
       "    tag.async = true;\n",
       "    tag.onload = () => {\n",
       "      resolve();\n",
       "    };\n",
       "  var firstScriptTag = document.getElementsByTagName('script')[0];\n",
       "  firstScriptTag.parentNode.insertBefore(tag, firstScriptTag);\n",
       "});\n",
       "};\n",
       "\n",
       "if(typeof $3Dmolpromise === 'undefined') {\n",
       "$3Dmolpromise = null;\n",
       "  $3Dmolpromise = loadScriptAsync('https://3dmol.org/build/3Dmol.js');\n",
       "}\n",
       "\n",
       "var viewer_1623442267194342 = null;\n",
       "var warn = document.getElementById(\"3dmolwarning_1623442267194342\");\n",
       "if(warn) {\n",
       "    warn.parentNode.removeChild(warn);\n",
       "}\n",
       "$3Dmolpromise.then(function() {\n",
       "viewer_1623442267194342 = $3Dmol.createViewer($(\"#3dmolviewer_1623442267194342\"),{backgroundColor:\"white\"});\n",
       "viewer_1623442267194342.zoomTo();\n",
       "\tviewer_1623442267194342.addModel(\"@<TRIPOS>MOLECULE\\nRES\\n38 4 4 0 1\\nBIOPOLYMER\\nNO_CHARGES\\n@<TRIPOS>CRYSIN\\n   17.2000    15.0000    15.0000    90.0000    90.0000    90.0000  1  1\\n@<TRIPOS>ATOM\\n       1 C            0.0000     0.0000     0.0000 C             1 RES     \\n       2 H           -1.1000     0.0000     0.0000 H             1 RES     \\n       3 H            1.1000     0.0000     0.0000 H             1 RES     \\n       4 VS           0.0500     0.0250     0.7750 VS            2 PRT     \\n       5 VS           0.0500     0.0250     0.9750 VS            2 PRT     \\n       6 VS          -0.1500     0.0250     0.6750 VS            2 PRT     \\n       7 VS           0.0500    -0.0750     0.5750 VS            2 PRT     \\n       8 VS           0.0500    -0.0250     0.7250 VS            2 PRT     \\n       9 VS           0.0500    -0.0250     0.5250 VS            2 PRT     \\n      10 VS          -0.1500    -0.0250     0.8250 VS            2 PRT     \\n      11 VS           0.0500     0.0750     0.9250 VS            2 PRT     \\n      12 VS           0.0500    -0.0250    -0.7750 VS            2 PRT     \\n      13 VS           0.0500    -0.0250    -0.9750 VS            2 PRT     \\n      14 VS          -0.1500    -0.0250    -0.6750 VS            2 PRT     \\n      15 VS           0.0500     0.0750    -0.5750 VS            2 PRT     \\n      16 VS           0.0500     0.0250    -0.7250 VS            2 PRT     \\n      17 VS           0.0500     0.0250    -0.5250 VS            2 PRT     \\n      18 VS          -0.1500     0.0250    -0.8250 VS            2 PRT     \\n      19 VS           0.0500    -0.0750    -0.9250 VS            2 PRT     \\n      20 C           10.0000    10.0000    10.0000 C             3 RES     \\n      21 H            8.9000    10.0000    10.0000 H             3 RES     \\n      22 H           11.1000    10.0000    10.0000 H             3 RES     \\n      23 VS          10.0500    10.0250    10.7750 VS            4 PRT     \\n      24 VS          10.0500    10.0250    10.9750 VS            4 PRT     \\n      25 VS           9.8500    10.0250    10.6750 VS            4 PRT     \\n      26 VS          10.0500     9.9250    10.5750 VS            4 PRT     \\n      27 VS          10.0500     9.9750    10.7250 VS            4 PRT     \\n      28 VS          10.0500     9.9750    10.5250 VS            4 PRT     \\n      29 VS           9.8500     9.9750    10.8250 VS            4 PRT     \\n      30 VS          10.0500    10.0750    10.9250 VS            4 PRT     \\n      31 VS          10.0500     9.9750     9.2250 VS            4 PRT     \\n      32 VS          10.0500     9.9750     9.0250 VS            4 PRT     \\n      33 VS           9.8500     9.9750     9.3250 VS            4 PRT     \\n      34 VS          10.0500    10.0750     9.4250 VS            4 PRT     \\n      35 VS          10.0500    10.0250     9.2750 VS            4 PRT     \\n      36 VS          10.0500    10.0250     9.4750 VS            4 PRT     \\n      37 VS           9.8500    10.0250     9.1750 VS            4 PRT     \\n      38 VS          10.0500     9.9250     9.0750 VS            4 PRT     \\n@<TRIPOS>BOND\\n       1        1        2 1\\n       2        3        1 1\\n       3       20       21 1\\n       4       22       20 1\\n@<TRIPOS>SUBSTRUCTURE\\n       1 RES             1 RESIDUE    0 **** ROOT      0\\n       2 PRT             4 RESIDUE    0 **** ROOT      0\\n       3 RES            20 RESIDUE    0 **** ROOT      0\\n       4 PRT            23 RESIDUE    0 **** ROOT      0\\n\",\"mol2\");\n",
       "\tviewer_1623442267194342.setStyle({\"stick\": {\"radius\": 0.2, \"color\": \"grey\"}, \"sphere\": {\"scale\": 0.3, \"colorscheme\": {}}});\n",
       "\tviewer_1623442267194342.zoomTo();\n",
       "viewer_1623442267194342.render();\n",
       "});\n",
       "</script>"
      ]
     },
     "metadata": {},
     "output_type": "display_data"
    },
    {
     "data": {
      "text/plain": [
       "<py3Dmol.view at 0x7fdee990c1c0>"
      ]
     },
     "execution_count": 3,
     "metadata": {},
     "output_type": "execute_result"
    }
   ],
   "source": [
    "first_ch2 = CH2()\n",
    "second_ch2 = CH2()\n",
    "second_ch2.translate([1, 1, 1])\n",
    "parent = mb.Compound()\n",
    "parent.add((first_ch2, second_ch2))\n",
    "parent.visualize(show_ports=True)"
   ]
  },
  {
   "cell_type": "markdown",
   "metadata": {},
   "source": [
    "These two CH2 `Compounds` can be trivially connected using the `force_overlap` command, just as was done when connecting the carbon and hydrogen atoms in the previous tutorial; mBuild is designed to be general and flexible and does not distinguish between a `Compound` that describes a single atom or a collection of atoms. "
   ]
  },
  {
   "cell_type": "code",
   "execution_count": 4,
   "metadata": {},
   "outputs": [
    {
     "data": {
      "application/3dmoljs_load.v0": "<div id=\"3dmolviewer_1623442267247325\"  style=\"position: relative; width: 640px; height: 480px\">\n        <p id=\"3dmolwarning_1623442267247325\" style=\"background-color:#ffcccc;color:black\">You appear to be running in JupyterLab (or JavaScript failed to load for some other reason).  You need to install the 3dmol extension: <br>\n        <tt>jupyter labextension install jupyterlab_3dmol</tt></p>\n        </div>\n<script>\n\nvar loadScriptAsync = function(uri){\n  return new Promise((resolve, reject) => {\n    var tag = document.createElement('script');\n    tag.src = uri;\n    tag.async = true;\n    tag.onload = () => {\n      resolve();\n    };\n  var firstScriptTag = document.getElementsByTagName('script')[0];\n  firstScriptTag.parentNode.insertBefore(tag, firstScriptTag);\n});\n};\n\nif(typeof $3Dmolpromise === 'undefined') {\n$3Dmolpromise = null;\n  $3Dmolpromise = loadScriptAsync('https://3dmol.org/build/3Dmol.js');\n}\n\nvar viewer_1623442267247325 = null;\nvar warn = document.getElementById(\"3dmolwarning_1623442267247325\");\nif(warn) {\n    warn.parentNode.removeChild(warn);\n}\n$3Dmolpromise.then(function() {\nviewer_1623442267247325 = $3Dmol.createViewer($(\"#3dmolviewer_1623442267247325\"),{backgroundColor:\"white\"});\nviewer_1623442267247325.zoomTo();\n\tviewer_1623442267247325.addModel(\"@<TRIPOS>MOLECULE\\nRES\\n22 5 4 0 1\\nBIOPOLYMER\\nNO_CHARGES\\n@<TRIPOS>CRYSIN\\n    7.2000    15.0000     6.5000    90.0000    90.0000    90.0000  1  1\\n@<TRIPOS>ATOM\\n       1 C           10.0000    10.0000     8.5000 C             1 RES     \\n       2 H            8.9000    10.0000     8.5000 H             1 RES     \\n       3 H           11.1000    10.0000     8.5000 H             1 RES     \\n       4 VS          10.0500     9.9750     7.7250 VS            2 PRT     \\n       5 VS          10.0500     9.9750     7.5250 VS            2 PRT     \\n       6 VS           9.8500     9.9750     7.8250 VS            2 PRT     \\n       7 VS          10.0500    10.0750     7.9250 VS            2 PRT     \\n       8 VS          10.0500    10.0250     7.7750 VS            2 PRT     \\n       9 VS          10.0500    10.0250     7.9750 VS            2 PRT     \\n      10 VS           9.8500    10.0250     7.6750 VS            2 PRT     \\n      11 VS          10.0500     9.9250     7.5750 VS            2 PRT     \\n      12 C           10.0000    10.0000    10.0000 C             3 RES     \\n      13 H            8.9000    10.0000    10.0000 H             3 RES     \\n      14 H           11.1000    10.0000    10.0000 H             3 RES     \\n      15 VS          10.0500    10.0250    10.7750 VS            4 PRT     \\n      16 VS          10.0500    10.0250    10.9750 VS            4 PRT     \\n      17 VS           9.8500    10.0250    10.6750 VS            4 PRT     \\n      18 VS          10.0500     9.9250    10.5750 VS            4 PRT     \\n      19 VS          10.0500     9.9750    10.7250 VS            4 PRT     \\n      20 VS          10.0500     9.9750    10.5250 VS            4 PRT     \\n      21 VS           9.8500     9.9750    10.8250 VS            4 PRT     \\n      22 VS          10.0500    10.0750    10.9250 VS            4 PRT     \\n@<TRIPOS>BOND\\n       1        1        2 1\\n       2        3        1 1\\n       3       12        1 1\\n       4       13       12 1\\n       5       14       12 1\\n@<TRIPOS>SUBSTRUCTURE\\n       1 RES             1 RESIDUE    0 **** ROOT      1\\n       2 PRT             4 RESIDUE    0 **** ROOT      0\\n       3 RES            12 RESIDUE    0 **** ROOT      1\\n       4 PRT            15 RESIDUE    0 **** ROOT      0\\n\",\"mol2\");\n\tviewer_1623442267247325.setStyle({\"stick\": {\"radius\": 0.2, \"color\": \"grey\"}, \"sphere\": {\"scale\": 0.3, \"colorscheme\": {}}});\n\tviewer_1623442267247325.zoomTo();\nviewer_1623442267247325.render();\n});\n</script>",
      "text/html": [
       "<div id=\"3dmolviewer_1623442267247325\"  style=\"position: relative; width: 640px; height: 480px\">\n",
       "        <p id=\"3dmolwarning_1623442267247325\" style=\"background-color:#ffcccc;color:black\">You appear to be running in JupyterLab (or JavaScript failed to load for some other reason).  You need to install the 3dmol extension: <br>\n",
       "        <tt>jupyter labextension install jupyterlab_3dmol</tt></p>\n",
       "        </div>\n",
       "<script>\n",
       "\n",
       "var loadScriptAsync = function(uri){\n",
       "  return new Promise((resolve, reject) => {\n",
       "    var tag = document.createElement('script');\n",
       "    tag.src = uri;\n",
       "    tag.async = true;\n",
       "    tag.onload = () => {\n",
       "      resolve();\n",
       "    };\n",
       "  var firstScriptTag = document.getElementsByTagName('script')[0];\n",
       "  firstScriptTag.parentNode.insertBefore(tag, firstScriptTag);\n",
       "});\n",
       "};\n",
       "\n",
       "if(typeof $3Dmolpromise === 'undefined') {\n",
       "$3Dmolpromise = null;\n",
       "  $3Dmolpromise = loadScriptAsync('https://3dmol.org/build/3Dmol.js');\n",
       "}\n",
       "\n",
       "var viewer_1623442267247325 = null;\n",
       "var warn = document.getElementById(\"3dmolwarning_1623442267247325\");\n",
       "if(warn) {\n",
       "    warn.parentNode.removeChild(warn);\n",
       "}\n",
       "$3Dmolpromise.then(function() {\n",
       "viewer_1623442267247325 = $3Dmol.createViewer($(\"#3dmolviewer_1623442267247325\"),{backgroundColor:\"white\"});\n",
       "viewer_1623442267247325.zoomTo();\n",
       "\tviewer_1623442267247325.addModel(\"@<TRIPOS>MOLECULE\\nRES\\n22 5 4 0 1\\nBIOPOLYMER\\nNO_CHARGES\\n@<TRIPOS>CRYSIN\\n    7.2000    15.0000     6.5000    90.0000    90.0000    90.0000  1  1\\n@<TRIPOS>ATOM\\n       1 C           10.0000    10.0000     8.5000 C             1 RES     \\n       2 H            8.9000    10.0000     8.5000 H             1 RES     \\n       3 H           11.1000    10.0000     8.5000 H             1 RES     \\n       4 VS          10.0500     9.9750     7.7250 VS            2 PRT     \\n       5 VS          10.0500     9.9750     7.5250 VS            2 PRT     \\n       6 VS           9.8500     9.9750     7.8250 VS            2 PRT     \\n       7 VS          10.0500    10.0750     7.9250 VS            2 PRT     \\n       8 VS          10.0500    10.0250     7.7750 VS            2 PRT     \\n       9 VS          10.0500    10.0250     7.9750 VS            2 PRT     \\n      10 VS           9.8500    10.0250     7.6750 VS            2 PRT     \\n      11 VS          10.0500     9.9250     7.5750 VS            2 PRT     \\n      12 C           10.0000    10.0000    10.0000 C             3 RES     \\n      13 H            8.9000    10.0000    10.0000 H             3 RES     \\n      14 H           11.1000    10.0000    10.0000 H             3 RES     \\n      15 VS          10.0500    10.0250    10.7750 VS            4 PRT     \\n      16 VS          10.0500    10.0250    10.9750 VS            4 PRT     \\n      17 VS           9.8500    10.0250    10.6750 VS            4 PRT     \\n      18 VS          10.0500     9.9250    10.5750 VS            4 PRT     \\n      19 VS          10.0500     9.9750    10.7250 VS            4 PRT     \\n      20 VS          10.0500     9.9750    10.5250 VS            4 PRT     \\n      21 VS           9.8500     9.9750    10.8250 VS            4 PRT     \\n      22 VS          10.0500    10.0750    10.9250 VS            4 PRT     \\n@<TRIPOS>BOND\\n       1        1        2 1\\n       2        3        1 1\\n       3       12        1 1\\n       4       13       12 1\\n       5       14       12 1\\n@<TRIPOS>SUBSTRUCTURE\\n       1 RES             1 RESIDUE    0 **** ROOT      1\\n       2 PRT             4 RESIDUE    0 **** ROOT      0\\n       3 RES            12 RESIDUE    0 **** ROOT      1\\n       4 PRT            15 RESIDUE    0 **** ROOT      0\\n\",\"mol2\");\n",
       "\tviewer_1623442267247325.setStyle({\"stick\": {\"radius\": 0.2, \"color\": \"grey\"}, \"sphere\": {\"scale\": 0.3, \"colorscheme\": {}}});\n",
       "\tviewer_1623442267247325.zoomTo();\n",
       "viewer_1623442267247325.render();\n",
       "});\n",
       "</script>"
      ]
     },
     "metadata": {},
     "output_type": "display_data"
    },
    {
     "data": {
      "text/plain": [
       "<py3Dmol.view at 0x7fdee9987df0>"
      ]
     },
     "execution_count": 4,
     "metadata": {},
     "output_type": "execute_result"
    }
   ],
   "source": [
    "mb.force_overlap(move_this=first_ch2,\n",
    "                 from_positions=first_ch2['up'],\n",
    "                 to_positions=second_ch2['down'])\n",
    "\n",
    "parent.visualize(show_ports=True)"
   ]
  },
  {
   "cell_type": "markdown",
   "metadata": {},
   "source": [
    "### Building a linear alkane\n",
    "\n",
    "Now that we've explored the basics of creating mBuild `Compounds` and connecting them together using ports, we'll use this approach to create a slightly more complex molecule, a linear butane.\n",
    "\n",
    "We could approach our butane construction by connecting two CH2 moieties and two CH3 moieties. Alternatively, we could connect four CH2 moieties and cap the ends of the chain with hydrogen atoms. \n",
    "\n",
    "In this example, we will take the latter approach. As such, we'll need to also define a class for a hydrogen atom featuring a single `Port`."
   ]
  },
  {
   "cell_type": "code",
   "execution_count": 5,
   "metadata": {},
   "outputs": [],
   "source": [
    "class Hydrogen(mb.Compound):\n",
    "    def __init__(self):\n",
    "        super(Hydrogen, self).__init__()\n",
    "        \n",
    "        self.add(mb.Particle(name='H'))\n",
    "        up_port = mb.Port(anchor=self[0], orientation=[0, 0, 1], separation=0.05)\n",
    "        self.add(up_port, 'up')"
   ]
  },
  {
   "cell_type": "markdown",
   "metadata": {},
   "source": [
    "We now have all of the pieces necessary to create a butane molecule. To begin, we'll instantiate an empty mBuild `Compound` to add our pieces to."
   ]
  },
  {
   "cell_type": "code",
   "execution_count": 6,
   "metadata": {},
   "outputs": [],
   "source": [
    "butane = mb.Compound()"
   ]
  },
  {
   "cell_type": "markdown",
   "metadata": {},
   "source": [
    "Now, we'll create one of our CH3 ends by connecting a CH2 group and a hydrogen atom. We'll then add these two `Compounds` to our butane, giving them each a label. Note that by providing `ch2[$]` as the label for our CH2 group, mBuild will create a list that any subsequent parts added to the `Compound` with the same label prefix will be appended to."
   ]
  },
  {
   "cell_type": "code",
   "execution_count": 7,
   "metadata": {},
   "outputs": [
    {
     "data": {
      "application/3dmoljs_load.v0": "<div id=\"3dmolviewer_1623442267400817\"  style=\"position: relative; width: 640px; height: 480px\">\n        <p id=\"3dmolwarning_1623442267400817\" style=\"background-color:#ffcccc;color:black\">You appear to be running in JupyterLab (or JavaScript failed to load for some other reason).  You need to install the 3dmol extension: <br>\n        <tt>jupyter labextension install jupyterlab_3dmol</tt></p>\n        </div>\n<script>\n\nvar loadScriptAsync = function(uri){\n  return new Promise((resolve, reject) => {\n    var tag = document.createElement('script');\n    tag.src = uri;\n    tag.async = true;\n    tag.onload = () => {\n      resolve();\n    };\n  var firstScriptTag = document.getElementsByTagName('script')[0];\n  firstScriptTag.parentNode.insertBefore(tag, firstScriptTag);\n});\n};\n\nif(typeof $3Dmolpromise === 'undefined') {\n$3Dmolpromise = null;\n  $3Dmolpromise = loadScriptAsync('https://3dmol.org/build/3Dmol.js');\n}\n\nvar viewer_1623442267400817 = null;\nvar warn = document.getElementById(\"3dmolwarning_1623442267400817\");\nif(warn) {\n    warn.parentNode.removeChild(warn);\n}\n$3Dmolpromise.then(function() {\nviewer_1623442267400817 = $3Dmol.createViewer($(\"#3dmolviewer_1623442267400817\"),{backgroundColor:\"white\"});\nviewer_1623442267400817.zoomTo();\n\tviewer_1623442267400817.addModel(\"@<TRIPOS>MOLECULE\\nRES\\n12 3 3 0 1\\nBIOPOLYMER\\nNO_CHARGES\\n@<TRIPOS>CRYSIN\\n    7.2000    15.0000     6.2500    90.0000    90.0000    90.0000  1  1\\n@<TRIPOS>ATOM\\n       1 C            0.0000     0.0000     0.0000 C             1 RES     \\n       2 H           -1.1000     0.0000     0.0000 H             1 RES     \\n       3 H            1.1000     0.0000     0.0000 H             1 RES     \\n       4 VS           0.0500    -0.0250    -0.7750 VS            2 PRT     \\n       5 VS           0.0500    -0.0250    -0.9750 VS            2 PRT     \\n       6 VS          -0.1500    -0.0250    -0.6750 VS            2 PRT     \\n       7 VS           0.0500     0.0750    -0.5750 VS            2 PRT     \\n       8 VS           0.0500     0.0250    -0.7250 VS            2 PRT     \\n       9 VS           0.0500     0.0250    -0.5250 VS            2 PRT     \\n      10 VS          -0.1500     0.0250    -0.8250 VS            2 PRT     \\n      11 VS           0.0500    -0.0750    -0.9250 VS            2 PRT     \\n      12 H           -0.0000    -0.0000     1.2500 H             3 RES     \\n@<TRIPOS>BOND\\n       1        1        2 1\\n       2        3        1 1\\n       3       12        1 1\\n@<TRIPOS>SUBSTRUCTURE\\n       1 RES             1 RESIDUE    0 **** ROOT      1\\n       2 PRT             4 RESIDUE    0 **** ROOT      0\\n       3 RES            12 RESIDUE    0 **** ROOT      1\\n\",\"mol2\");\n\tviewer_1623442267400817.setStyle({\"stick\": {\"radius\": 0.2, \"color\": \"grey\"}, \"sphere\": {\"scale\": 0.3, \"colorscheme\": {}}});\n\tviewer_1623442267400817.zoomTo();\nviewer_1623442267400817.render();\n});\n</script>",
      "text/html": [
       "<div id=\"3dmolviewer_1623442267400817\"  style=\"position: relative; width: 640px; height: 480px\">\n",
       "        <p id=\"3dmolwarning_1623442267400817\" style=\"background-color:#ffcccc;color:black\">You appear to be running in JupyterLab (or JavaScript failed to load for some other reason).  You need to install the 3dmol extension: <br>\n",
       "        <tt>jupyter labextension install jupyterlab_3dmol</tt></p>\n",
       "        </div>\n",
       "<script>\n",
       "\n",
       "var loadScriptAsync = function(uri){\n",
       "  return new Promise((resolve, reject) => {\n",
       "    var tag = document.createElement('script');\n",
       "    tag.src = uri;\n",
       "    tag.async = true;\n",
       "    tag.onload = () => {\n",
       "      resolve();\n",
       "    };\n",
       "  var firstScriptTag = document.getElementsByTagName('script')[0];\n",
       "  firstScriptTag.parentNode.insertBefore(tag, firstScriptTag);\n",
       "});\n",
       "};\n",
       "\n",
       "if(typeof $3Dmolpromise === 'undefined') {\n",
       "$3Dmolpromise = null;\n",
       "  $3Dmolpromise = loadScriptAsync('https://3dmol.org/build/3Dmol.js');\n",
       "}\n",
       "\n",
       "var viewer_1623442267400817 = null;\n",
       "var warn = document.getElementById(\"3dmolwarning_1623442267400817\");\n",
       "if(warn) {\n",
       "    warn.parentNode.removeChild(warn);\n",
       "}\n",
       "$3Dmolpromise.then(function() {\n",
       "viewer_1623442267400817 = $3Dmol.createViewer($(\"#3dmolviewer_1623442267400817\"),{backgroundColor:\"white\"});\n",
       "viewer_1623442267400817.zoomTo();\n",
       "\tviewer_1623442267400817.addModel(\"@<TRIPOS>MOLECULE\\nRES\\n12 3 3 0 1\\nBIOPOLYMER\\nNO_CHARGES\\n@<TRIPOS>CRYSIN\\n    7.2000    15.0000     6.2500    90.0000    90.0000    90.0000  1  1\\n@<TRIPOS>ATOM\\n       1 C            0.0000     0.0000     0.0000 C             1 RES     \\n       2 H           -1.1000     0.0000     0.0000 H             1 RES     \\n       3 H            1.1000     0.0000     0.0000 H             1 RES     \\n       4 VS           0.0500    -0.0250    -0.7750 VS            2 PRT     \\n       5 VS           0.0500    -0.0250    -0.9750 VS            2 PRT     \\n       6 VS          -0.1500    -0.0250    -0.6750 VS            2 PRT     \\n       7 VS           0.0500     0.0750    -0.5750 VS            2 PRT     \\n       8 VS           0.0500     0.0250    -0.7250 VS            2 PRT     \\n       9 VS           0.0500     0.0250    -0.5250 VS            2 PRT     \\n      10 VS          -0.1500     0.0250    -0.8250 VS            2 PRT     \\n      11 VS           0.0500    -0.0750    -0.9250 VS            2 PRT     \\n      12 H           -0.0000    -0.0000     1.2500 H             3 RES     \\n@<TRIPOS>BOND\\n       1        1        2 1\\n       2        3        1 1\\n       3       12        1 1\\n@<TRIPOS>SUBSTRUCTURE\\n       1 RES             1 RESIDUE    0 **** ROOT      1\\n       2 PRT             4 RESIDUE    0 **** ROOT      0\\n       3 RES            12 RESIDUE    0 **** ROOT      1\\n\",\"mol2\");\n",
       "\tviewer_1623442267400817.setStyle({\"stick\": {\"radius\": 0.2, \"color\": \"grey\"}, \"sphere\": {\"scale\": 0.3, \"colorscheme\": {}}});\n",
       "\tviewer_1623442267400817.zoomTo();\n",
       "viewer_1623442267400817.render();\n",
       "});\n",
       "</script>"
      ]
     },
     "metadata": {},
     "output_type": "display_data"
    },
    {
     "data": {
      "text/plain": [
       "<py3Dmol.view at 0x7fdee99b8880>"
      ]
     },
     "execution_count": 7,
     "metadata": {},
     "output_type": "execute_result"
    }
   ],
   "source": [
    "hydrogen = Hydrogen()\n",
    "last_unit = CH2()\n",
    "mb.force_overlap(move_this=hydrogen,\n",
    "                 from_positions=hydrogen['up'],\n",
    "                 to_positions=last_unit['up'])\n",
    "butane.add(last_unit, label='ch2[$]')\n",
    "butane.add(hydrogen, label='up-cap')\n",
    "butane.visualize(show_ports=True)"
   ]
  },
  {
   "cell_type": "markdown",
   "metadata": {},
   "source": [
    "To continue creating our butane molecule, we'll next attach three CH2 groups to the CH3 cap we've just created. This can be set up in a loop, where we'll use `force_overlap` to iteratively attach each new CH2 instantiation to the last unit on the chain."
   ]
  },
  {
   "cell_type": "code",
   "execution_count": 8,
   "metadata": {},
   "outputs": [
    {
     "data": {
      "application/3dmoljs_load.v0": "<div id=\"3dmolviewer_1623442267478992\"  style=\"position: relative; width: 640px; height: 480px\">\n        <p id=\"3dmolwarning_1623442267478992\" style=\"background-color:#ffcccc;color:black\">You appear to be running in JupyterLab (or JavaScript failed to load for some other reason).  You need to install the 3dmol extension: <br>\n        <tt>jupyter labextension install jupyterlab_3dmol</tt></p>\n        </div>\n<script>\n\nvar loadScriptAsync = function(uri){\n  return new Promise((resolve, reject) => {\n    var tag = document.createElement('script');\n    tag.src = uri;\n    tag.async = true;\n    tag.onload = () => {\n      resolve();\n    };\n  var firstScriptTag = document.getElementsByTagName('script')[0];\n  firstScriptTag.parentNode.insertBefore(tag, firstScriptTag);\n});\n};\n\nif(typeof $3Dmolpromise === 'undefined') {\n$3Dmolpromise = null;\n  $3Dmolpromise = loadScriptAsync('https://3dmol.org/build/3Dmol.js');\n}\n\nvar viewer_1623442267478992 = null;\nvar warn = document.getElementById(\"3dmolwarning_1623442267478992\");\nif(warn) {\n    warn.parentNode.removeChild(warn);\n}\n$3Dmolpromise.then(function() {\nviewer_1623442267478992 = $3Dmol.createViewer($(\"#3dmolviewer_1623442267478992\"),{backgroundColor:\"white\"});\nviewer_1623442267478992.zoomTo();\n\tviewer_1623442267478992.addModel(\"@<TRIPOS>MOLECULE\\nRES\\n21 12 2 0 1\\nBIOPOLYMER\\nNO_CHARGES\\n@<TRIPOS>CRYSIN\\n    7.2000    15.0000    10.7500    90.0000    90.0000    90.0000  1  1\\n@<TRIPOS>ATOM\\n       1 C            0.0000     0.0000     0.0000 C             1 RES     \\n       2 H           -1.1000     0.0000     0.0000 H             1 RES     \\n       3 H            1.1000     0.0000     0.0000 H             1 RES     \\n       4 H           -0.0000    -0.0000     1.2500 H             1 RES     \\n       5 C            0.0000     0.0000    -1.5000 C             1 RES     \\n       6 H           -1.1000     0.0000    -1.5000 H             1 RES     \\n       7 H            1.1000    -0.0000    -1.5000 H             1 RES     \\n       8 C           -0.0000     0.0000    -3.0000 C             1 RES     \\n       9 H           -1.1000     0.0000    -3.0000 H             1 RES     \\n      10 H            1.1000     0.0000    -3.0000 H             1 RES     \\n      11 C           -0.0000     0.0000    -4.5000 C             1 RES     \\n      12 H           -1.1000     0.0000    -4.5000 H             1 RES     \\n      13 H            1.1000     0.0000    -4.5000 H             1 RES     \\n      14 VS           0.0500    -0.0250    -5.2750 VS            2 PRT     \\n      15 VS           0.0500    -0.0250    -5.4750 VS            2 PRT     \\n      16 VS          -0.1500    -0.0250    -5.1750 VS            2 PRT     \\n      17 VS           0.0500     0.0750    -5.0750 VS            2 PRT     \\n      18 VS           0.0500     0.0250    -5.2250 VS            2 PRT     \\n      19 VS           0.0500     0.0250    -5.0250 VS            2 PRT     \\n      20 VS          -0.1500     0.0250    -5.3250 VS            2 PRT     \\n      21 VS           0.0500    -0.0750    -5.4250 VS            2 PRT     \\n@<TRIPOS>BOND\\n       1        1        2 1\\n       2        3        1 1\\n       3        4        1 1\\n       4        5        1 1\\n       5        8        5 1\\n       6        6        5 1\\n       7        7        5 1\\n       8       11        8 1\\n       9        9        8 1\\n      10       10        8 1\\n      11       12       11 1\\n      12       13       11 1\\n@<TRIPOS>SUBSTRUCTURE\\n       1 RES             1 RESIDUE    0 **** ROOT      0\\n       2 PRT            14 RESIDUE    0 **** ROOT      0\\n\",\"mol2\");\n\tviewer_1623442267478992.setStyle({\"stick\": {\"radius\": 0.2, \"color\": \"grey\"}, \"sphere\": {\"scale\": 0.3, \"colorscheme\": {}}});\n\tviewer_1623442267478992.zoomTo();\nviewer_1623442267478992.render();\n});\n</script>",
      "text/html": [
       "<div id=\"3dmolviewer_1623442267478992\"  style=\"position: relative; width: 640px; height: 480px\">\n",
       "        <p id=\"3dmolwarning_1623442267478992\" style=\"background-color:#ffcccc;color:black\">You appear to be running in JupyterLab (or JavaScript failed to load for some other reason).  You need to install the 3dmol extension: <br>\n",
       "        <tt>jupyter labextension install jupyterlab_3dmol</tt></p>\n",
       "        </div>\n",
       "<script>\n",
       "\n",
       "var loadScriptAsync = function(uri){\n",
       "  return new Promise((resolve, reject) => {\n",
       "    var tag = document.createElement('script');\n",
       "    tag.src = uri;\n",
       "    tag.async = true;\n",
       "    tag.onload = () => {\n",
       "      resolve();\n",
       "    };\n",
       "  var firstScriptTag = document.getElementsByTagName('script')[0];\n",
       "  firstScriptTag.parentNode.insertBefore(tag, firstScriptTag);\n",
       "});\n",
       "};\n",
       "\n",
       "if(typeof $3Dmolpromise === 'undefined') {\n",
       "$3Dmolpromise = null;\n",
       "  $3Dmolpromise = loadScriptAsync('https://3dmol.org/build/3Dmol.js');\n",
       "}\n",
       "\n",
       "var viewer_1623442267478992 = null;\n",
       "var warn = document.getElementById(\"3dmolwarning_1623442267478992\");\n",
       "if(warn) {\n",
       "    warn.parentNode.removeChild(warn);\n",
       "}\n",
       "$3Dmolpromise.then(function() {\n",
       "viewer_1623442267478992 = $3Dmol.createViewer($(\"#3dmolviewer_1623442267478992\"),{backgroundColor:\"white\"});\n",
       "viewer_1623442267478992.zoomTo();\n",
       "\tviewer_1623442267478992.addModel(\"@<TRIPOS>MOLECULE\\nRES\\n21 12 2 0 1\\nBIOPOLYMER\\nNO_CHARGES\\n@<TRIPOS>CRYSIN\\n    7.2000    15.0000    10.7500    90.0000    90.0000    90.0000  1  1\\n@<TRIPOS>ATOM\\n       1 C            0.0000     0.0000     0.0000 C             1 RES     \\n       2 H           -1.1000     0.0000     0.0000 H             1 RES     \\n       3 H            1.1000     0.0000     0.0000 H             1 RES     \\n       4 H           -0.0000    -0.0000     1.2500 H             1 RES     \\n       5 C            0.0000     0.0000    -1.5000 C             1 RES     \\n       6 H           -1.1000     0.0000    -1.5000 H             1 RES     \\n       7 H            1.1000    -0.0000    -1.5000 H             1 RES     \\n       8 C           -0.0000     0.0000    -3.0000 C             1 RES     \\n       9 H           -1.1000     0.0000    -3.0000 H             1 RES     \\n      10 H            1.1000     0.0000    -3.0000 H             1 RES     \\n      11 C           -0.0000     0.0000    -4.5000 C             1 RES     \\n      12 H           -1.1000     0.0000    -4.5000 H             1 RES     \\n      13 H            1.1000     0.0000    -4.5000 H             1 RES     \\n      14 VS           0.0500    -0.0250    -5.2750 VS            2 PRT     \\n      15 VS           0.0500    -0.0250    -5.4750 VS            2 PRT     \\n      16 VS          -0.1500    -0.0250    -5.1750 VS            2 PRT     \\n      17 VS           0.0500     0.0750    -5.0750 VS            2 PRT     \\n      18 VS           0.0500     0.0250    -5.2250 VS            2 PRT     \\n      19 VS           0.0500     0.0250    -5.0250 VS            2 PRT     \\n      20 VS          -0.1500     0.0250    -5.3250 VS            2 PRT     \\n      21 VS           0.0500    -0.0750    -5.4250 VS            2 PRT     \\n@<TRIPOS>BOND\\n       1        1        2 1\\n       2        3        1 1\\n       3        4        1 1\\n       4        5        1 1\\n       5        8        5 1\\n       6        6        5 1\\n       7        7        5 1\\n       8       11        8 1\\n       9        9        8 1\\n      10       10        8 1\\n      11       12       11 1\\n      12       13       11 1\\n@<TRIPOS>SUBSTRUCTURE\\n       1 RES             1 RESIDUE    0 **** ROOT      0\\n       2 PRT            14 RESIDUE    0 **** ROOT      0\\n\",\"mol2\");\n",
       "\tviewer_1623442267478992.setStyle({\"stick\": {\"radius\": 0.2, \"color\": \"grey\"}, \"sphere\": {\"scale\": 0.3, \"colorscheme\": {}}});\n",
       "\tviewer_1623442267478992.zoomTo();\n",
       "viewer_1623442267478992.render();\n",
       "});\n",
       "</script>"
      ]
     },
     "metadata": {},
     "output_type": "display_data"
    },
    {
     "data": {
      "text/plain": [
       "<py3Dmol.view at 0x7fdee99ca5b0>"
      ]
     },
     "execution_count": 8,
     "metadata": {},
     "output_type": "execute_result"
    }
   ],
   "source": [
    "for _ in range(3):\n",
    "    current_unit = CH2()\n",
    "    mb.force_overlap(move_this=current_unit,\n",
    "                     from_positions=current_unit['up'],\n",
    "                     to_positions=last_unit['down'])\n",
    "    butane.add(current_unit, label='ch2[$]')\n",
    "    last_unit=current_unit\n",
    "\n",
    "butane.visualize(show_ports=True)"
   ]
  },
  {
   "cell_type": "markdown",
   "metadata": {},
   "source": [
    "Finally, we need to cap the end of our molecule with a hydrogen atom to complete the creation of butane."
   ]
  },
  {
   "cell_type": "code",
   "execution_count": 9,
   "metadata": {},
   "outputs": [
    {
     "data": {
      "application/3dmoljs_load.v0": "<div id=\"3dmolviewer_16234422675144398\"  style=\"position: relative; width: 640px; height: 480px\">\n        <p id=\"3dmolwarning_16234422675144398\" style=\"background-color:#ffcccc;color:black\">You appear to be running in JupyterLab (or JavaScript failed to load for some other reason).  You need to install the 3dmol extension: <br>\n        <tt>jupyter labextension install jupyterlab_3dmol</tt></p>\n        </div>\n<script>\n\nvar loadScriptAsync = function(uri){\n  return new Promise((resolve, reject) => {\n    var tag = document.createElement('script');\n    tag.src = uri;\n    tag.async = true;\n    tag.onload = () => {\n      resolve();\n    };\n  var firstScriptTag = document.getElementsByTagName('script')[0];\n  firstScriptTag.parentNode.insertBefore(tag, firstScriptTag);\n});\n};\n\nif(typeof $3Dmolpromise === 'undefined') {\n$3Dmolpromise = null;\n  $3Dmolpromise = loadScriptAsync('https://3dmol.org/build/3Dmol.js');\n}\n\nvar viewer_16234422675144398 = null;\nvar warn = document.getElementById(\"3dmolwarning_16234422675144398\");\nif(warn) {\n    warn.parentNode.removeChild(warn);\n}\n$3Dmolpromise.then(function() {\nviewer_16234422675144398 = $3Dmol.createViewer($(\"#3dmolviewer_16234422675144398\"),{backgroundColor:\"white\"});\nviewer_16234422675144398.zoomTo();\n\tviewer_16234422675144398.addModel(\"@<TRIPOS>MOLECULE\\nRES\\n14 13 1 0 1\\nSMALL\\nNO_CHARGES\\n@<TRIPOS>CRYSIN\\n    7.2000    15.0000    12.0000    90.0000    90.0000    90.0000  1  1\\n@<TRIPOS>ATOM\\n       1 C            0.0000     0.0000     0.0000 C             1 RES     \\n       2 H           -1.1000     0.0000     0.0000 H             1 RES     \\n       3 H            1.1000     0.0000     0.0000 H             1 RES     \\n       4 H           -0.0000    -0.0000     1.2500 H             1 RES     \\n       5 C            0.0000     0.0000    -1.5000 C             1 RES     \\n       6 H           -1.1000     0.0000    -1.5000 H             1 RES     \\n       7 H            1.1000    -0.0000    -1.5000 H             1 RES     \\n       8 C           -0.0000     0.0000    -3.0000 C             1 RES     \\n       9 H           -1.1000     0.0000    -3.0000 H             1 RES     \\n      10 H            1.1000     0.0000    -3.0000 H             1 RES     \\n      11 C           -0.0000     0.0000    -4.5000 C             1 RES     \\n      12 H           -1.1000     0.0000    -4.5000 H             1 RES     \\n      13 H            1.1000     0.0000    -4.5000 H             1 RES     \\n      14 H           -0.0000     0.0000    -5.7500 H             1 RES     \\n@<TRIPOS>BOND\\n       1        1        2 1\\n       2        3        1 1\\n       3        4        1 1\\n       4        5        1 1\\n       5        8        5 1\\n       6        6        5 1\\n       7        7        5 1\\n       8       11        8 1\\n       9        9        8 1\\n      10       10        8 1\\n      11       14       11 1\\n      12       12       11 1\\n      13       13       11 1\\n@<TRIPOS>SUBSTRUCTURE\\n       1 RES             1 RESIDUE    0 **** ROOT      0\\n\",\"mol2\");\n\tviewer_16234422675144398.setStyle({\"stick\": {\"radius\": 0.2, \"color\": \"grey\"}, \"sphere\": {\"scale\": 0.3, \"colorscheme\": {}}});\n\tviewer_16234422675144398.zoomTo();\nviewer_16234422675144398.render();\n});\n</script>",
      "text/html": [
       "<div id=\"3dmolviewer_16234422675144398\"  style=\"position: relative; width: 640px; height: 480px\">\n",
       "        <p id=\"3dmolwarning_16234422675144398\" style=\"background-color:#ffcccc;color:black\">You appear to be running in JupyterLab (or JavaScript failed to load for some other reason).  You need to install the 3dmol extension: <br>\n",
       "        <tt>jupyter labextension install jupyterlab_3dmol</tt></p>\n",
       "        </div>\n",
       "<script>\n",
       "\n",
       "var loadScriptAsync = function(uri){\n",
       "  return new Promise((resolve, reject) => {\n",
       "    var tag = document.createElement('script');\n",
       "    tag.src = uri;\n",
       "    tag.async = true;\n",
       "    tag.onload = () => {\n",
       "      resolve();\n",
       "    };\n",
       "  var firstScriptTag = document.getElementsByTagName('script')[0];\n",
       "  firstScriptTag.parentNode.insertBefore(tag, firstScriptTag);\n",
       "});\n",
       "};\n",
       "\n",
       "if(typeof $3Dmolpromise === 'undefined') {\n",
       "$3Dmolpromise = null;\n",
       "  $3Dmolpromise = loadScriptAsync('https://3dmol.org/build/3Dmol.js');\n",
       "}\n",
       "\n",
       "var viewer_16234422675144398 = null;\n",
       "var warn = document.getElementById(\"3dmolwarning_16234422675144398\");\n",
       "if(warn) {\n",
       "    warn.parentNode.removeChild(warn);\n",
       "}\n",
       "$3Dmolpromise.then(function() {\n",
       "viewer_16234422675144398 = $3Dmol.createViewer($(\"#3dmolviewer_16234422675144398\"),{backgroundColor:\"white\"});\n",
       "viewer_16234422675144398.zoomTo();\n",
       "\tviewer_16234422675144398.addModel(\"@<TRIPOS>MOLECULE\\nRES\\n14 13 1 0 1\\nSMALL\\nNO_CHARGES\\n@<TRIPOS>CRYSIN\\n    7.2000    15.0000    12.0000    90.0000    90.0000    90.0000  1  1\\n@<TRIPOS>ATOM\\n       1 C            0.0000     0.0000     0.0000 C             1 RES     \\n       2 H           -1.1000     0.0000     0.0000 H             1 RES     \\n       3 H            1.1000     0.0000     0.0000 H             1 RES     \\n       4 H           -0.0000    -0.0000     1.2500 H             1 RES     \\n       5 C            0.0000     0.0000    -1.5000 C             1 RES     \\n       6 H           -1.1000     0.0000    -1.5000 H             1 RES     \\n       7 H            1.1000    -0.0000    -1.5000 H             1 RES     \\n       8 C           -0.0000     0.0000    -3.0000 C             1 RES     \\n       9 H           -1.1000     0.0000    -3.0000 H             1 RES     \\n      10 H            1.1000     0.0000    -3.0000 H             1 RES     \\n      11 C           -0.0000     0.0000    -4.5000 C             1 RES     \\n      12 H           -1.1000     0.0000    -4.5000 H             1 RES     \\n      13 H            1.1000     0.0000    -4.5000 H             1 RES     \\n      14 H           -0.0000     0.0000    -5.7500 H             1 RES     \\n@<TRIPOS>BOND\\n       1        1        2 1\\n       2        3        1 1\\n       3        4        1 1\\n       4        5        1 1\\n       5        8        5 1\\n       6        6        5 1\\n       7        7        5 1\\n       8       11        8 1\\n       9        9        8 1\\n      10       10        8 1\\n      11       14       11 1\\n      12       12       11 1\\n      13       13       11 1\\n@<TRIPOS>SUBSTRUCTURE\\n       1 RES             1 RESIDUE    0 **** ROOT      0\\n\",\"mol2\");\n",
       "\tviewer_16234422675144398.setStyle({\"stick\": {\"radius\": 0.2, \"color\": \"grey\"}, \"sphere\": {\"scale\": 0.3, \"colorscheme\": {}}});\n",
       "\tviewer_16234422675144398.zoomTo();\n",
       "viewer_16234422675144398.render();\n",
       "});\n",
       "</script>"
      ]
     },
     "metadata": {},
     "output_type": "display_data"
    },
    {
     "data": {
      "text/plain": [
       "<py3Dmol.view at 0x7fdee99a44c0>"
      ]
     },
     "execution_count": 9,
     "metadata": {},
     "output_type": "execute_result"
    }
   ],
   "source": [
    "hydrogen2 = Hydrogen()\n",
    "mb.force_overlap(move_this=hydrogen2,\n",
    "                 from_positions=hydrogen2['up'],\n",
    "                 to_positions=last_unit['down'])\n",
    "butane.add(hydrogen2, label='down-cap')\n",
    "butane.visualize(show_ports=True)"
   ]
  },
  {
   "cell_type": "markdown",
   "metadata": {},
   "source": [
    "As shown previously, we can also wrap all of these commands into a reusable class."
   ]
  },
  {
   "cell_type": "code",
   "execution_count": 10,
   "metadata": {},
   "outputs": [],
   "source": [
    "class Butane(mb.Compound):\n",
    "    def __init__(self):\n",
    "        super(Butane, self).__init__()\n",
    "        \n",
    "        hydrogen = Hydrogen()\n",
    "        last_unit = CH2()\n",
    "        mb.force_overlap(move_this=hydrogen,\n",
    "                         from_positions=hydrogen['up'],\n",
    "                         to_positions=last_unit['up'])\n",
    "        self.add(last_unit, label='ch2[$]')\n",
    "        self.add(hydrogen, label='up-cap')\n",
    "        for _ in range(3):\n",
    "            current_unit = CH2()\n",
    "            mb.force_overlap(move_this=current_unit,\n",
    "                             from_positions=current_unit['up'],\n",
    "                             to_positions=last_unit['down'])\n",
    "            self.add(current_unit, label='ch2[$]')\n",
    "            last_unit=current_unit\n",
    "        hydrogen = Hydrogen()\n",
    "        mb.force_overlap(move_this=hydrogen,\n",
    "                         from_positions=hydrogen['up'],\n",
    "                         to_positions=last_unit['down'])\n",
    "        self.add(hydrogen, label='down-cap')"
   ]
  },
  {
   "cell_type": "code",
   "execution_count": 11,
   "metadata": {},
   "outputs": [
    {
     "data": {
      "application/3dmoljs_load.v0": "<div id=\"3dmolviewer_1623442267683104\"  style=\"position: relative; width: 640px; height: 480px\">\n        <p id=\"3dmolwarning_1623442267683104\" style=\"background-color:#ffcccc;color:black\">You appear to be running in JupyterLab (or JavaScript failed to load for some other reason).  You need to install the 3dmol extension: <br>\n        <tt>jupyter labextension install jupyterlab_3dmol</tt></p>\n        </div>\n<script>\n\nvar loadScriptAsync = function(uri){\n  return new Promise((resolve, reject) => {\n    var tag = document.createElement('script');\n    tag.src = uri;\n    tag.async = true;\n    tag.onload = () => {\n      resolve();\n    };\n  var firstScriptTag = document.getElementsByTagName('script')[0];\n  firstScriptTag.parentNode.insertBefore(tag, firstScriptTag);\n});\n};\n\nif(typeof $3Dmolpromise === 'undefined') {\n$3Dmolpromise = null;\n  $3Dmolpromise = loadScriptAsync('https://3dmol.org/build/3Dmol.js');\n}\n\nvar viewer_1623442267683104 = null;\nvar warn = document.getElementById(\"3dmolwarning_1623442267683104\");\nif(warn) {\n    warn.parentNode.removeChild(warn);\n}\n$3Dmolpromise.then(function() {\nviewer_1623442267683104 = $3Dmol.createViewer($(\"#3dmolviewer_1623442267683104\"),{backgroundColor:\"white\"});\nviewer_1623442267683104.zoomTo();\n\tviewer_1623442267683104.addModel(\"@<TRIPOS>MOLECULE\\nRES\\n14 13 1 0 1\\nSMALL\\nNO_CHARGES\\n@<TRIPOS>CRYSIN\\n    7.2000    15.0000    12.0000    90.0000    90.0000    90.0000  1  1\\n@<TRIPOS>ATOM\\n       1 C            0.0000     0.0000     0.0000 C             1 RES     \\n       2 H           -1.1000     0.0000     0.0000 H             1 RES     \\n       3 H            1.1000     0.0000     0.0000 H             1 RES     \\n       4 H           -0.0000    -0.0000     1.2500 H             1 RES     \\n       5 C            0.0000     0.0000    -1.5000 C             1 RES     \\n       6 H           -1.1000     0.0000    -1.5000 H             1 RES     \\n       7 H            1.1000    -0.0000    -1.5000 H             1 RES     \\n       8 C           -0.0000     0.0000    -3.0000 C             1 RES     \\n       9 H           -1.1000     0.0000    -3.0000 H             1 RES     \\n      10 H            1.1000     0.0000    -3.0000 H             1 RES     \\n      11 C           -0.0000     0.0000    -4.5000 C             1 RES     \\n      12 H           -1.1000     0.0000    -4.5000 H             1 RES     \\n      13 H            1.1000     0.0000    -4.5000 H             1 RES     \\n      14 H           -0.0000     0.0000    -5.7500 H             1 RES     \\n@<TRIPOS>BOND\\n       1        1        2 1\\n       2        3        1 1\\n       3        4        1 1\\n       4        5        1 1\\n       5        8        5 1\\n       6        6        5 1\\n       7        7        5 1\\n       8       11        8 1\\n       9        9        8 1\\n      10       10        8 1\\n      11       14       11 1\\n      12       12       11 1\\n      13       13       11 1\\n@<TRIPOS>SUBSTRUCTURE\\n       1 RES             1 RESIDUE    0 **** ROOT      0\\n\",\"mol2\");\n\tviewer_1623442267683104.setStyle({\"stick\": {\"radius\": 0.2, \"color\": \"grey\"}, \"sphere\": {\"scale\": 0.3, \"colorscheme\": {}}});\n\tviewer_1623442267683104.zoomTo();\nviewer_1623442267683104.render();\n});\n</script>",
      "text/html": [
       "<div id=\"3dmolviewer_1623442267683104\"  style=\"position: relative; width: 640px; height: 480px\">\n",
       "        <p id=\"3dmolwarning_1623442267683104\" style=\"background-color:#ffcccc;color:black\">You appear to be running in JupyterLab (or JavaScript failed to load for some other reason).  You need to install the 3dmol extension: <br>\n",
       "        <tt>jupyter labextension install jupyterlab_3dmol</tt></p>\n",
       "        </div>\n",
       "<script>\n",
       "\n",
       "var loadScriptAsync = function(uri){\n",
       "  return new Promise((resolve, reject) => {\n",
       "    var tag = document.createElement('script');\n",
       "    tag.src = uri;\n",
       "    tag.async = true;\n",
       "    tag.onload = () => {\n",
       "      resolve();\n",
       "    };\n",
       "  var firstScriptTag = document.getElementsByTagName('script')[0];\n",
       "  firstScriptTag.parentNode.insertBefore(tag, firstScriptTag);\n",
       "});\n",
       "};\n",
       "\n",
       "if(typeof $3Dmolpromise === 'undefined') {\n",
       "$3Dmolpromise = null;\n",
       "  $3Dmolpromise = loadScriptAsync('https://3dmol.org/build/3Dmol.js');\n",
       "}\n",
       "\n",
       "var viewer_1623442267683104 = null;\n",
       "var warn = document.getElementById(\"3dmolwarning_1623442267683104\");\n",
       "if(warn) {\n",
       "    warn.parentNode.removeChild(warn);\n",
       "}\n",
       "$3Dmolpromise.then(function() {\n",
       "viewer_1623442267683104 = $3Dmol.createViewer($(\"#3dmolviewer_1623442267683104\"),{backgroundColor:\"white\"});\n",
       "viewer_1623442267683104.zoomTo();\n",
       "\tviewer_1623442267683104.addModel(\"@<TRIPOS>MOLECULE\\nRES\\n14 13 1 0 1\\nSMALL\\nNO_CHARGES\\n@<TRIPOS>CRYSIN\\n    7.2000    15.0000    12.0000    90.0000    90.0000    90.0000  1  1\\n@<TRIPOS>ATOM\\n       1 C            0.0000     0.0000     0.0000 C             1 RES     \\n       2 H           -1.1000     0.0000     0.0000 H             1 RES     \\n       3 H            1.1000     0.0000     0.0000 H             1 RES     \\n       4 H           -0.0000    -0.0000     1.2500 H             1 RES     \\n       5 C            0.0000     0.0000    -1.5000 C             1 RES     \\n       6 H           -1.1000     0.0000    -1.5000 H             1 RES     \\n       7 H            1.1000    -0.0000    -1.5000 H             1 RES     \\n       8 C           -0.0000     0.0000    -3.0000 C             1 RES     \\n       9 H           -1.1000     0.0000    -3.0000 H             1 RES     \\n      10 H            1.1000     0.0000    -3.0000 H             1 RES     \\n      11 C           -0.0000     0.0000    -4.5000 C             1 RES     \\n      12 H           -1.1000     0.0000    -4.5000 H             1 RES     \\n      13 H            1.1000     0.0000    -4.5000 H             1 RES     \\n      14 H           -0.0000     0.0000    -5.7500 H             1 RES     \\n@<TRIPOS>BOND\\n       1        1        2 1\\n       2        3        1 1\\n       3        4        1 1\\n       4        5        1 1\\n       5        8        5 1\\n       6        6        5 1\\n       7        7        5 1\\n       8       11        8 1\\n       9        9        8 1\\n      10       10        8 1\\n      11       14       11 1\\n      12       12       11 1\\n      13       13       11 1\\n@<TRIPOS>SUBSTRUCTURE\\n       1 RES             1 RESIDUE    0 **** ROOT      0\\n\",\"mol2\");\n",
       "\tviewer_1623442267683104.setStyle({\"stick\": {\"radius\": 0.2, \"color\": \"grey\"}, \"sphere\": {\"scale\": 0.3, \"colorscheme\": {}}});\n",
       "\tviewer_1623442267683104.zoomTo();\n",
       "viewer_1623442267683104.render();\n",
       "});\n",
       "</script>"
      ]
     },
     "metadata": {},
     "output_type": "display_data"
    },
    {
     "data": {
      "text/plain": [
       "<py3Dmol.view at 0x7fdee99cfd90>"
      ]
     },
     "execution_count": 11,
     "metadata": {},
     "output_type": "execute_result"
    }
   ],
   "source": [
    "butane = Butane()\n",
    "butane.visualize()"
   ]
  },
  {
   "cell_type": "markdown",
   "metadata": {
    "collapsed": true
   },
   "source": [
    "## Recap\n",
    "\n",
    "The goal of this tutorial was to provide an example of how `Ports` along with `force_overlap` can be used to connect molecules in addition to atoms (as these are both instances of `Compound`). We also learned a useful trick where `force_overlap` can be used within a `for` loop to iteratively connect molecule copies.\n",
    "\n",
    "The next tutorial will teach you how to create mBuild `Compound` classes with arguments that allow you to tune the molecular chemistry upon instantiation."
   ]
  }
 ],
 "metadata": {
  "kernelspec": {
   "display_name": "Python 3",
   "language": "python",
   "name": "python3"
  },
  "language_info": {
   "codemirror_mode": {
    "name": "ipython",
    "version": 3
   },
   "file_extension": ".py",
   "mimetype": "text/x-python",
   "name": "python",
   "nbconvert_exporter": "python",
   "pygments_lexer": "ipython3",
   "version": "3.8.10"
  }
 },
 "nbformat": 4,
 "nbformat_minor": 2
}
