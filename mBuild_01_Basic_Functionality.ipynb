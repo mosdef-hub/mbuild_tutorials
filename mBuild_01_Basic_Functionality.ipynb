{
 "cells": [
  {
   "cell_type": "markdown",
   "metadata": {
    "collapsed": true
   },
   "source": [
    "# mBuild Tutorial 01: Basic Functionality\n",
    "\n",
    "This tutorial will cover the basic usage of mBuild's `Compound` class and the creation of static bonds between atoms."
   ]
  },
  {
   "cell_type": "markdown",
   "metadata": {},
   "source": [
    "As in the prior tutorial, we need to first import mbuild (here as `mb`)."
   ]
  },
  {
   "cell_type": "code",
   "execution_count": 1,
   "metadata": {},
   "outputs": [],
   "source": [
    "import warnings\n",
    "warnings.filterwarnings('ignore')\n",
    "\n",
    "import mbuild as mb"
   ]
  },
  {
   "cell_type": "markdown",
   "metadata": {},
   "source": [
    "### The `Compound` class\n",
    "\n",
    "The base class of mBuild is the `Compound` class, which defines the primary building block used for constructing molecules. Molecules are constructed hierarchically; however, each level of the hierarchy inherits from the `Compound` class. This means that `Compounds` may contain other `Compounds`, and that the same methods and attributes are present for molecule components at any level of the hierarchy. mBuild `Compounds` feature [a variety of useful methods and attributes](http://mosdef-hub.github.io/mbuild/data_structures.html) to facilitate system construction.\n",
    "\n",
    "Here we will instantiate a `Compound` and view the available attributes and methods."
   ]
  },
  {
   "cell_type": "code",
   "execution_count": 2,
   "metadata": {},
   "outputs": [
    {
     "data": {
      "text/plain": [
       "['__class__',\n",
       " '__delattr__',\n",
       " '__dict__',\n",
       " '__dir__',\n",
       " '__doc__',\n",
       " '__eq__',\n",
       " '__format__',\n",
       " '__ge__',\n",
       " '__getattribute__',\n",
       " '__getitem__',\n",
       " '__gt__',\n",
       " '__hash__',\n",
       " '__init__',\n",
       " '__init_subclass__',\n",
       " '__le__',\n",
       " '__lt__',\n",
       " '__module__',\n",
       " '__ne__',\n",
       " '__new__',\n",
       " '__reduce__',\n",
       " '__reduce_ex__',\n",
       " '__repr__',\n",
       " '__setattr__',\n",
       " '__sizeof__',\n",
       " '__str__',\n",
       " '__subclasshook__',\n",
       " '__weakref__',\n",
       " '_box',\n",
       " '_charge',\n",
       " '_check_if_contains_rigid_bodies',\n",
       " '_clone',\n",
       " '_clone_bonds',\n",
       " '_contains_only_ports',\n",
       " '_contains_rigid',\n",
       " '_element',\n",
       " '_energy_minimize_openbabel',\n",
       " '_energy_minimize_openmm',\n",
       " '_increment_rigid_ids',\n",
       " '_kick',\n",
       " '_n_particles',\n",
       " '_particles',\n",
       " '_periodicity',\n",
       " '_pos',\n",
       " '_remove',\n",
       " '_remove_references',\n",
       " '_reorder_rigid_ids',\n",
       " '_rigid_id',\n",
       " '_update_port_locations',\n",
       " '_visualize_nglview',\n",
       " '_visualize_py3dmol',\n",
       " 'add',\n",
       " 'add_bond',\n",
       " 'all_ports',\n",
       " 'ancestors',\n",
       " 'available_ports',\n",
       " 'bond_graph',\n",
       " 'bonds',\n",
       " 'box',\n",
       " 'center',\n",
       " 'charge',\n",
       " 'children',\n",
       " 'contains_rigid',\n",
       " 'element',\n",
       " 'energy_minimization',\n",
       " 'energy_minimize',\n",
       " 'from_parmed',\n",
       " 'from_pybel',\n",
       " 'from_trajectory',\n",
       " 'generate_bonds',\n",
       " 'get_boundingbox',\n",
       " 'get_smiles',\n",
       " 'label_rigid_bodies',\n",
       " 'labels',\n",
       " 'max_rigid_id',\n",
       " 'maxs',\n",
       " 'min_periodic_distance',\n",
       " 'mins',\n",
       " 'n_bonds',\n",
       " 'n_particles',\n",
       " 'name',\n",
       " 'parent',\n",
       " 'particles',\n",
       " 'particles_by_element',\n",
       " 'particles_by_name',\n",
       " 'particles_in_range',\n",
       " 'periodicity',\n",
       " 'port_particle',\n",
       " 'pos',\n",
       " 'referenced_ports',\n",
       " 'referrers',\n",
       " 'remove',\n",
       " 'remove_bond',\n",
       " 'rigid_id',\n",
       " 'rigid_particles',\n",
       " 'root',\n",
       " 'rotate',\n",
       " 'save',\n",
       " 'spin',\n",
       " 'successors',\n",
       " 'to_intermol',\n",
       " 'to_networkx',\n",
       " 'to_parmed',\n",
       " 'to_pybel',\n",
       " 'to_trajectory',\n",
       " 'translate',\n",
       " 'translate_to',\n",
       " 'unlabel_rigid_bodies',\n",
       " 'update_coordinates',\n",
       " 'visualize',\n",
       " 'xyz',\n",
       " 'xyz_with_ports']"
      ]
     },
     "execution_count": 2,
     "metadata": {},
     "output_type": "execute_result"
    }
   ],
   "source": [
    "my_compound = mb.Compound()\n",
    "dir(my_compound)"
   ]
  },
  {
   "cell_type": "markdown",
   "metadata": {},
   "source": [
    "### Creating `Compounds`\n",
    "\n",
    "There are several ways that `Compounds` can be created with mBuild. The simplest is to construct them from `Particles`. The `Particle` class is used to define `Compounds` residing at the lowest level of the containment hierarchy. Standard mBuild protocol is to define `Particle` names according to their elemental symbol (e.g. `'C'`), or to preface `Particle` names by an underscore for non-atomistic particles (e.g. `'_CH4'` for a united-atom methane). This aids in the atomtyping and forcefield application process (using the Foyer package) which will be addressed in later tutorials.\n",
    "\n",
    "Now, lets create a simple carbon `Particle`. [Several arguments are available](http://mosdef-hub.github.io/mbuild/data_structures.html#mbuild.compound.Compound) to set various `Compound`/`Particle` attributes upon instantiation. Here, we'll use the `name` argument to specify the element of our `Particle` and the `pos` argument to specify the location of the `Particle` in Cartesian space.\n",
    "\n",
    "**Important Note:** mBuild expects all distance units to be in nanometers."
   ]
  },
  {
   "cell_type": "code",
   "execution_count": 3,
   "metadata": {},
   "outputs": [
    {
     "data": {
      "text/plain": [
       "<C pos=([1. 2. 3.]), 0 bonds, id: 140592848165856>"
      ]
     },
     "execution_count": 3,
     "metadata": {},
     "output_type": "execute_result"
    }
   ],
   "source": [
    "carbon = mb.Particle(name='C', pos=[1.0, 2.0, 3.0])\n",
    "carbon"
   ]
  },
  {
   "cell_type": "markdown",
   "metadata": {},
   "source": [
    "Now, we will create a simple CH2 moiety. (Don't worry about the undercoordinated carbon; we'll be using this later to piece together an alkane chain.)\n",
    "\n",
    "It is often easiest to create systems by working top-down through the molecule hierarchy. This can be achieved by creating an empty `Compound` to serve as a container to add other `Compounds` to.\n",
    "\n",
    "Here, we will take this approach by creating an empty `Compound` to which we will add a carbon `Particle` and two hydrogen `Particles`."
   ]
  },
  {
   "cell_type": "code",
   "execution_count": 4,
   "metadata": {},
   "outputs": [],
   "source": [
    "ch2 = mb.Compound()"
   ]
  },
  {
   "cell_type": "markdown",
   "metadata": {},
   "source": [
    "Note, that we can provide a name to this compound (beyond just the variable name ch2)."
   ]
  },
  {
   "cell_type": "code",
   "execution_count": 5,
   "metadata": {},
   "outputs": [],
   "source": [
    "ch2 = mb.Compound(name='ch2 compound')"
   ]
  },
  {
   "cell_type": "markdown",
   "metadata": {},
   "source": [
    "Now we need to create three `Particles`: one carbon and two hydrogens. We'll manually set the atomic positions such that they are reasonably representative of realistic atomic spacings."
   ]
  },
  {
   "cell_type": "code",
   "execution_count": 6,
   "metadata": {},
   "outputs": [],
   "source": [
    "carbon = mb.Particle(pos=[0.0, 0.0, 0.0], name='C')\n",
    "hydrogen = mb.Particle(pos=[0.1, 0.0, 0.0], name='H')\n",
    "hydrogen2 = mb.Particle(pos=[-0.1, 0.0, 0.0], name='H')"
   ]
  },
  {
   "cell_type": "markdown",
   "metadata": {},
   "source": [
    "Now we need to add our three `Particles` to the hierarchy of our CH2 `Compound`. This can be done using the `add` method. The `new_child` argument allows you to specify what child `Compound` should be added to the hierarchy of the parent `Compound`. We can also pass a list of `Compounds` through the `new_child` argument to add multiple `Compounds` to the hierarchy at once. We'll take that approach here to add the three `Particles` we've just created to the hierarchy of the ch2 `Compound`."
   ]
  },
  {
   "cell_type": "code",
   "execution_count": 7,
   "metadata": {},
   "outputs": [],
   "source": [
    "ch2.add(new_child=[carbon, hydrogen, hydrogen2])"
   ]
  },
  {
   "cell_type": "markdown",
   "metadata": {},
   "source": [
    "To view the children of a `Compound` (i.e. one level below in the molecule hierarchy) we can look at the `children` attribute."
   ]
  },
  {
   "cell_type": "code",
   "execution_count": 8,
   "metadata": {},
   "outputs": [
    {
     "data": {
      "text/plain": [
       "OrderedSet(<C pos=([0. 0. 0.]), 0 bonds, id: 140592935754816>, <H pos=([0.1 0.  0. ]), 0 bonds, id: 140592935754048>, <H pos=([-0.1  0.   0. ]), 0 bonds, id: 140592935754960>)"
      ]
     },
     "execution_count": 8,
     "metadata": {},
     "output_type": "execute_result"
    }
   ],
   "source": [
    "ch2.children"
   ]
  },
  {
   "cell_type": "markdown",
   "metadata": {},
   "source": [
    "We can use the `particles` method to view the `Particles` (i.e. those `Compounds` residing at the bottom of the molecule hierarchy) contained by a `Compound`. In this case, because our hierarchy only features two levels, this will be the same as `ch2.children`. Note that this method is written as a generator to conserve memory for large systems, so we'll need to convert to a `list`."
   ]
  },
  {
   "cell_type": "code",
   "execution_count": 9,
   "metadata": {},
   "outputs": [
    {
     "data": {
      "text/plain": [
       "[<C pos=([0. 0. 0.]), 0 bonds, id: 140592935754816>,\n",
       " <H pos=([0.1 0.  0. ]), 0 bonds, id: 140592935754048>,\n",
       " <H pos=([-0.1  0.   0. ]), 0 bonds, id: 140592935754960>]"
      ]
     },
     "execution_count": 9,
     "metadata": {},
     "output_type": "execute_result"
    }
   ],
   "source": [
    "list(ch2.particles())"
   ]
  },
  {
   "cell_type": "markdown",
   "metadata": {},
   "source": [
    "As we can see, our carbon `Particle` and two hydrogen `Particles` are now contained within our CH2 `Compound`. Now let's visualize our `Compound` to confirm we built this correctly."
   ]
  },
  {
   "cell_type": "code",
   "execution_count": 10,
   "metadata": {},
   "outputs": [
    {
     "data": {
      "application/3dmoljs_load.v0": "<div id=\"3dmolviewer_1623442194741337\"  style=\"position: relative; width: 640px; height: 480px\">\n        <p id=\"3dmolwarning_1623442194741337\" style=\"background-color:#ffcccc;color:black\">You appear to be running in JupyterLab (or JavaScript failed to load for some other reason).  You need to install the 3dmol extension: <br>\n        <tt>jupyter labextension install jupyterlab_3dmol</tt></p>\n        </div>\n<script>\n\nvar loadScriptAsync = function(uri){\n  return new Promise((resolve, reject) => {\n    var tag = document.createElement('script');\n    tag.src = uri;\n    tag.async = true;\n    tag.onload = () => {\n      resolve();\n    };\n  var firstScriptTag = document.getElementsByTagName('script')[0];\n  firstScriptTag.parentNode.insertBefore(tag, firstScriptTag);\n});\n};\n\nif(typeof $3Dmolpromise === 'undefined') {\n$3Dmolpromise = null;\n  $3Dmolpromise = loadScriptAsync('https://3dmol.org/build/3Dmol.js');\n}\n\nvar viewer_1623442194741337 = null;\nvar warn = document.getElementById(\"3dmolwarning_1623442194741337\");\nif(warn) {\n    warn.parentNode.removeChild(warn);\n}\n$3Dmolpromise.then(function() {\nviewer_1623442194741337 = $3Dmol.createViewer($(\"#3dmolviewer_1623442194741337\"),{backgroundColor:\"white\"});\nviewer_1623442194741337.zoomTo();\n\tviewer_1623442194741337.addModel(\"@<TRIPOS>MOLECULE\\nRES\\n3 0 1 0 1\\nSMALL\\nNO_CHARGES\\n@<TRIPOS>CRYSIN\\n    7.0000    15.0000    15.0000    90.0000    90.0000    90.0000  1  1\\n@<TRIPOS>ATOM\\n       1 C            0.0000     0.0000     0.0000 C             1 RES     \\n       2 H            1.0000     0.0000     0.0000 H             1 RES     \\n       3 H           -1.0000     0.0000     0.0000 H             1 RES     \\n@<TRIPOS>BOND\\n@<TRIPOS>SUBSTRUCTURE\\n       1 RES             1 RESIDUE    0 **** ROOT      0\\n\",\"mol2\");\n\tviewer_1623442194741337.setStyle({\"stick\": {\"radius\": 0.2, \"color\": \"grey\"}, \"sphere\": {\"scale\": 0.3, \"colorscheme\": {}}});\n\tviewer_1623442194741337.zoomTo();\nviewer_1623442194741337.render();\n});\n</script>",
      "text/html": [
       "<div id=\"3dmolviewer_1623442194741337\"  style=\"position: relative; width: 640px; height: 480px\">\n",
       "        <p id=\"3dmolwarning_1623442194741337\" style=\"background-color:#ffcccc;color:black\">You appear to be running in JupyterLab (or JavaScript failed to load for some other reason).  You need to install the 3dmol extension: <br>\n",
       "        <tt>jupyter labextension install jupyterlab_3dmol</tt></p>\n",
       "        </div>\n",
       "<script>\n",
       "\n",
       "var loadScriptAsync = function(uri){\n",
       "  return new Promise((resolve, reject) => {\n",
       "    var tag = document.createElement('script');\n",
       "    tag.src = uri;\n",
       "    tag.async = true;\n",
       "    tag.onload = () => {\n",
       "      resolve();\n",
       "    };\n",
       "  var firstScriptTag = document.getElementsByTagName('script')[0];\n",
       "  firstScriptTag.parentNode.insertBefore(tag, firstScriptTag);\n",
       "});\n",
       "};\n",
       "\n",
       "if(typeof $3Dmolpromise === 'undefined') {\n",
       "$3Dmolpromise = null;\n",
       "  $3Dmolpromise = loadScriptAsync('https://3dmol.org/build/3Dmol.js');\n",
       "}\n",
       "\n",
       "var viewer_1623442194741337 = null;\n",
       "var warn = document.getElementById(\"3dmolwarning_1623442194741337\");\n",
       "if(warn) {\n",
       "    warn.parentNode.removeChild(warn);\n",
       "}\n",
       "$3Dmolpromise.then(function() {\n",
       "viewer_1623442194741337 = $3Dmol.createViewer($(\"#3dmolviewer_1623442194741337\"),{backgroundColor:\"white\"});\n",
       "viewer_1623442194741337.zoomTo();\n",
       "\tviewer_1623442194741337.addModel(\"@<TRIPOS>MOLECULE\\nRES\\n3 0 1 0 1\\nSMALL\\nNO_CHARGES\\n@<TRIPOS>CRYSIN\\n    7.0000    15.0000    15.0000    90.0000    90.0000    90.0000  1  1\\n@<TRIPOS>ATOM\\n       1 C            0.0000     0.0000     0.0000 C             1 RES     \\n       2 H            1.0000     0.0000     0.0000 H             1 RES     \\n       3 H           -1.0000     0.0000     0.0000 H             1 RES     \\n@<TRIPOS>BOND\\n@<TRIPOS>SUBSTRUCTURE\\n       1 RES             1 RESIDUE    0 **** ROOT      0\\n\",\"mol2\");\n",
       "\tviewer_1623442194741337.setStyle({\"stick\": {\"radius\": 0.2, \"color\": \"grey\"}, \"sphere\": {\"scale\": 0.3, \"colorscheme\": {}}});\n",
       "\tviewer_1623442194741337.zoomTo();\n",
       "viewer_1623442194741337.render();\n",
       "});\n",
       "</script>"
      ]
     },
     "metadata": {},
     "output_type": "display_data"
    },
    {
     "data": {
      "text/plain": [
       "<py3Dmol.view at 0x7fde52c5daf0>"
      ]
     },
     "execution_count": 10,
     "metadata": {},
     "output_type": "execute_result"
    }
   ],
   "source": [
    "ch2.visualize()"
   ]
  },
  {
   "cell_type": "markdown",
   "metadata": {},
   "source": [
    "Although we've added our three `Particles` to the ch2 `Compound`, we have yet to define any bonds between them. To accomplish this, we can use the `Compound.add_bond()` method to specify our two C-H bonds."
   ]
  },
  {
   "cell_type": "code",
   "execution_count": 11,
   "metadata": {},
   "outputs": [
    {
     "data": {
      "application/3dmoljs_load.v0": "<div id=\"3dmolviewer_1623442194786241\"  style=\"position: relative; width: 640px; height: 480px\">\n        <p id=\"3dmolwarning_1623442194786241\" style=\"background-color:#ffcccc;color:black\">You appear to be running in JupyterLab (or JavaScript failed to load for some other reason).  You need to install the 3dmol extension: <br>\n        <tt>jupyter labextension install jupyterlab_3dmol</tt></p>\n        </div>\n<script>\n\nvar loadScriptAsync = function(uri){\n  return new Promise((resolve, reject) => {\n    var tag = document.createElement('script');\n    tag.src = uri;\n    tag.async = true;\n    tag.onload = () => {\n      resolve();\n    };\n  var firstScriptTag = document.getElementsByTagName('script')[0];\n  firstScriptTag.parentNode.insertBefore(tag, firstScriptTag);\n});\n};\n\nif(typeof $3Dmolpromise === 'undefined') {\n$3Dmolpromise = null;\n  $3Dmolpromise = loadScriptAsync('https://3dmol.org/build/3Dmol.js');\n}\n\nvar viewer_1623442194786241 = null;\nvar warn = document.getElementById(\"3dmolwarning_1623442194786241\");\nif(warn) {\n    warn.parentNode.removeChild(warn);\n}\n$3Dmolpromise.then(function() {\nviewer_1623442194786241 = $3Dmol.createViewer($(\"#3dmolviewer_1623442194786241\"),{backgroundColor:\"white\"});\nviewer_1623442194786241.zoomTo();\n\tviewer_1623442194786241.addModel(\"@<TRIPOS>MOLECULE\\nRES\\n3 2 1 0 1\\nSMALL\\nNO_CHARGES\\n@<TRIPOS>CRYSIN\\n    7.0000    15.0000    15.0000    90.0000    90.0000    90.0000  1  1\\n@<TRIPOS>ATOM\\n       1 C            0.0000     0.0000     0.0000 C             1 RES     \\n       2 H            1.0000     0.0000     0.0000 H             1 RES     \\n       3 H           -1.0000     0.0000     0.0000 H             1 RES     \\n@<TRIPOS>BOND\\n       1        1        2 1\\n       2        3        1 1\\n@<TRIPOS>SUBSTRUCTURE\\n       1 RES             1 RESIDUE    0 **** ROOT      0\\n\",\"mol2\");\n\tviewer_1623442194786241.setStyle({\"stick\": {\"radius\": 0.2, \"color\": \"grey\"}, \"sphere\": {\"scale\": 0.3, \"colorscheme\": {}}});\n\tviewer_1623442194786241.zoomTo();\nviewer_1623442194786241.render();\n});\n</script>",
      "text/html": [
       "<div id=\"3dmolviewer_1623442194786241\"  style=\"position: relative; width: 640px; height: 480px\">\n",
       "        <p id=\"3dmolwarning_1623442194786241\" style=\"background-color:#ffcccc;color:black\">You appear to be running in JupyterLab (or JavaScript failed to load for some other reason).  You need to install the 3dmol extension: <br>\n",
       "        <tt>jupyter labextension install jupyterlab_3dmol</tt></p>\n",
       "        </div>\n",
       "<script>\n",
       "\n",
       "var loadScriptAsync = function(uri){\n",
       "  return new Promise((resolve, reject) => {\n",
       "    var tag = document.createElement('script');\n",
       "    tag.src = uri;\n",
       "    tag.async = true;\n",
       "    tag.onload = () => {\n",
       "      resolve();\n",
       "    };\n",
       "  var firstScriptTag = document.getElementsByTagName('script')[0];\n",
       "  firstScriptTag.parentNode.insertBefore(tag, firstScriptTag);\n",
       "});\n",
       "};\n",
       "\n",
       "if(typeof $3Dmolpromise === 'undefined') {\n",
       "$3Dmolpromise = null;\n",
       "  $3Dmolpromise = loadScriptAsync('https://3dmol.org/build/3Dmol.js');\n",
       "}\n",
       "\n",
       "var viewer_1623442194786241 = null;\n",
       "var warn = document.getElementById(\"3dmolwarning_1623442194786241\");\n",
       "if(warn) {\n",
       "    warn.parentNode.removeChild(warn);\n",
       "}\n",
       "$3Dmolpromise.then(function() {\n",
       "viewer_1623442194786241 = $3Dmol.createViewer($(\"#3dmolviewer_1623442194786241\"),{backgroundColor:\"white\"});\n",
       "viewer_1623442194786241.zoomTo();\n",
       "\tviewer_1623442194786241.addModel(\"@<TRIPOS>MOLECULE\\nRES\\n3 2 1 0 1\\nSMALL\\nNO_CHARGES\\n@<TRIPOS>CRYSIN\\n    7.0000    15.0000    15.0000    90.0000    90.0000    90.0000  1  1\\n@<TRIPOS>ATOM\\n       1 C            0.0000     0.0000     0.0000 C             1 RES     \\n       2 H            1.0000     0.0000     0.0000 H             1 RES     \\n       3 H           -1.0000     0.0000     0.0000 H             1 RES     \\n@<TRIPOS>BOND\\n       1        1        2 1\\n       2        3        1 1\\n@<TRIPOS>SUBSTRUCTURE\\n       1 RES             1 RESIDUE    0 **** ROOT      0\\n\",\"mol2\");\n",
       "\tviewer_1623442194786241.setStyle({\"stick\": {\"radius\": 0.2, \"color\": \"grey\"}, \"sphere\": {\"scale\": 0.3, \"colorscheme\": {}}});\n",
       "\tviewer_1623442194786241.zoomTo();\n",
       "viewer_1623442194786241.render();\n",
       "});\n",
       "</script>"
      ]
     },
     "metadata": {},
     "output_type": "display_data"
    },
    {
     "data": {
      "text/plain": [
       "<py3Dmol.view at 0x7fde57fd1fa0>"
      ]
     },
     "execution_count": 11,
     "metadata": {},
     "output_type": "execute_result"
    }
   ],
   "source": [
    "ch2.add_bond((carbon, hydrogen))\n",
    "ch2.add_bond((carbon, hydrogen2))\n",
    "ch2.visualize()"
   ]
  },
  {
   "cell_type": "markdown",
   "metadata": {},
   "source": [
    "Visually, we now see that our ch2 `Compound` contains three `Particles` and two C-H bonds.\n",
    "\n",
    "Note that this tutorial was designed to introduce the basics of the `Compound` class and that in most cases you will not need to build `Compounds` by creating each particle one-by-one and manually adding bonds. The following tutorials will demonstrate how software such as Avogadro can be used to create small molecular moieites and how `Compounds` can be stitched together using `Ports` which can automatically create bonds for us."
   ]
  },
  {
   "cell_type": "markdown",
   "metadata": {
    "collapsed": true
   },
   "source": [
    "## Recap\n",
    "\n",
    "The goal of this tutorial was to demonstrate the basics of mBuild's `Compound` class: how to instantiate `Compounds` and provide useful names, how to add `Compounds` to the molecule hierarchy of other `Compounds`, how to query which child `Compounds` and `Particles` reside in a `Compound`'s hierarchy, and how to define bonds between `Compounds`.\n",
    "\n",
    "In the next tutorial you will learn about wrapping routines for creating `Compounds` into classes for reusability."
   ]
  }
 ],
 "metadata": {
  "kernelspec": {
   "display_name": "Python 3",
   "language": "python",
   "name": "python3"
  },
  "language_info": {
   "codemirror_mode": {
    "name": "ipython",
    "version": 3
   },
   "file_extension": ".py",
   "mimetype": "text/x-python",
   "name": "python",
   "nbconvert_exporter": "python",
   "pygments_lexer": "ipython3",
   "version": "3.8.10"
  }
 },
 "nbformat": 4,
 "nbformat_minor": 2
}
