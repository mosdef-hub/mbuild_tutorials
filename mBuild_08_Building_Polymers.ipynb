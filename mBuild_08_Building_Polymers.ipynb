{
 "cells": [
  {
   "cell_type": "markdown",
   "metadata": {
    "collapsed": true
   },
   "source": [
    "# mBuild Tutorial 08: Building Polymers\n",
    "\n",
    "This tutorial demonstrates how to build polymers using the built-in `Polymer` class."
   ]
  },
  {
   "cell_type": "markdown",
   "metadata": {},
   "source": [
    "As in the prior tutorials, we need to first import mbuild (here as `mb`)."
   ]
  },
  {
   "cell_type": "code",
   "execution_count": 1,
   "metadata": {},
   "outputs": [],
   "source": [
    "import warnings\n",
    "warnings.filterwarnings('ignore')\n",
    "\n",
    "import mbuild as mb\n",
    "\n",
    "from mbuild.lib.recipes.polymer import Polymer\n",
    "\n"
   ]
  },
  {
   "cell_type": "markdown",
   "metadata": {},
   "source": [
    "In the prior tutorials we created a class for constructing a linear alkane chain and also used a similar built-in `Alkane` class. One could imagine that the same approach we took to create this class (i.e. successively adding CH2 units) could be further generalized to support the creation of any linear polymer. In fact, mBuild contains a class that does just this, `mbuild.Polymer`.\n",
    "\n",
    "Here, we'll explore how `Polymer` works by creating the familiar linear alkane, along with a PEG (polyethylene glycol) molecule. \n",
    "\n",
    "To be flexible, the `Polymer` class accepts, as arguments, repeat units (defined as `Compounds`), thus we will first define `Compound` classes for our CH2 and oxygen monomer units (with the appropriate `Ports`)."
   ]
  },
  {
   "cell_type": "code",
   "execution_count": 2,
   "metadata": {},
   "outputs": [],
   "source": [
    "class CH2(mb.Compound):\n",
    "    def __init__(self):\n",
    "        super(CH2, self).__init__()\n",
    "        \n",
    "        mb.load('utils/ch2.pdb', compound=self)\n",
    "        carbon = list(self.particles_by_name('C'))[0]\n",
    "        up_port = mb.Port(anchor=carbon, orientation=[0, 0, 1], separation=0.075)\n",
    "        down_port = mb.Port(anchor=carbon, orientation=[0, 0, -1], separation=0.075)\n",
    "        self.add(up_port, label='up')\n",
    "        self.add(down_port, label='down')\n",
    "\n",
    "class O(mb.Compound):\n",
    "    def __init__(self):\n",
    "        super(O, self).__init__()\n",
    "        \n",
    "        self.add(mb.Particle(name='O'))\n",
    "        up_port = mb.Port(anchor=self[0], orientation=[0, 0, 1], separation=0.075)\n",
    "        self.add(up_port, 'up')\n",
    "        down_port = mb.Port(anchor=self[0], orientation=[0, 0, -1], separation=0.075)\n",
    "        self.add(down_port, 'down')"
   ]
  },
  {
   "cell_type": "markdown",
   "metadata": {},
   "source": [
    "To create a simple linear alkane, we would need to simply pass CH2 as the monomer. \n",
    "- `n` defines the number of times this is repeated. "
   ]
  },
  {
   "cell_type": "code",
   "execution_count": 3,
   "metadata": {},
   "outputs": [],
   "source": [
    "alkane = mb.recipes.Polymer(monomers=[CH2()])\n",
    "alkane.build(n=6)"
   ]
  },
  {
   "cell_type": "code",
   "execution_count": 4,
   "metadata": {
    "scrolled": true
   },
   "outputs": [
    {
     "data": {
      "application/3dmoljs_load.v0": "<div id=\"3dmolviewer_1623444937051883\"  style=\"position: relative; width: 640px; height: 480px\">\n        <p id=\"3dmolwarning_1623444937051883\" style=\"background-color:#ffcccc;color:black\">You appear to be running in JupyterLab (or JavaScript failed to load for some other reason).  You need to install the 3dmol extension: <br>\n        <tt>jupyter labextension install jupyterlab_3dmol</tt></p>\n        </div>\n<script>\n\nvar loadScriptAsync = function(uri){\n  return new Promise((resolve, reject) => {\n    var tag = document.createElement('script');\n    tag.src = uri;\n    tag.async = true;\n    tag.onload = () => {\n      resolve();\n    };\n  var firstScriptTag = document.getElementsByTagName('script')[0];\n  firstScriptTag.parentNode.insertBefore(tag, firstScriptTag);\n});\n};\n\nif(typeof $3Dmolpromise === 'undefined') {\n$3Dmolpromise = null;\n  $3Dmolpromise = loadScriptAsync('https://3dmol.org/build/3Dmol.js');\n}\n\nvar viewer_1623444937051883 = null;\nvar warn = document.getElementById(\"3dmolwarning_1623444937051883\");\nif(warn) {\n    warn.parentNode.removeChild(warn);\n}\n$3Dmolpromise.then(function() {\nviewer_1623444937051883 = $3Dmol.createViewer($(\"#3dmolviewer_1623444937051883\"),{backgroundColor:\"white\"});\nviewer_1623444937051883.zoomTo();\n\tviewer_1623444937051883.addModel(\"@<TRIPOS>MOLECULE\\nRES\\n20 19 1 0 1\\nSMALL\\nNO_CHARGES\\n@<TRIPOS>CRYSIN\\n    7.2000    15.0000    14.6880    90.0000    90.0000    90.0000  1  1\\n@<TRIPOS>ATOM\\n       1 C            0.0000     0.0000     0.0000 C             1 RES     \\n       2 H           -1.1000     0.0000     0.0000 H             1 RES     \\n       3 H            1.1000     0.0000     0.0000 H             1 RES     \\n       4 C            0.0000     0.0000    -1.5000 C             1 RES     \\n       5 H           -1.1000     0.0000    -1.5000 H             1 RES     \\n       6 H            1.1000    -0.0000    -1.5000 H             1 RES     \\n       7 C           -0.0000     0.0000    -3.0000 C             1 RES     \\n       8 H           -1.1000     0.0000    -3.0000 H             1 RES     \\n       9 H            1.1000     0.0000    -3.0000 H             1 RES     \\n      10 C           -0.0000     0.0000    -4.5000 C             1 RES     \\n      11 H           -1.1000     0.0000    -4.5000 H             1 RES     \\n      12 H            1.1000     0.0000    -4.5000 H             1 RES     \\n      13 C            0.0000     0.0000    -6.0000 C             1 RES     \\n      14 H           -1.1000     0.0000    -6.0000 H             1 RES     \\n      15 H            1.1000     0.0000    -6.0000 H             1 RES     \\n      16 C            0.0000     0.0000    -7.5000 C             1 RES     \\n      17 H           -1.1000     0.0000    -7.5000 H             1 RES     \\n      18 H            1.1000     0.0000    -7.5000 H             1 RES     \\n      19 H           -0.0000     0.0000     1.0940 H             1 RES     \\n      20 H            0.0000     0.0000    -8.5940 H             1 RES     \\n@<TRIPOS>BOND\\n       1        2        1 1\\n       2        3        1 1\\n       3        4        1 1\\n       4       19        1 1\\n       5        5        4 1\\n       6        6        4 1\\n       7        7        4 1\\n       8        8        7 1\\n       9        9        7 1\\n      10       10        7 1\\n      11       11       10 1\\n      12       12       10 1\\n      13       13       10 1\\n      14       14       13 1\\n      15       15       13 1\\n      16       16       13 1\\n      17       17       16 1\\n      18       18       16 1\\n      19       20       16 1\\n@<TRIPOS>SUBSTRUCTURE\\n       1 RES             1 RESIDUE    0 **** ROOT      0\\n\",\"mol2\");\n\tviewer_1623444937051883.setStyle({\"stick\": {\"radius\": 0.2, \"color\": \"grey\"}, \"sphere\": {\"scale\": 0.3, \"colorscheme\": {}}});\n\tviewer_1623444937051883.zoomTo();\nviewer_1623444937051883.render();\n});\n</script>",
      "text/html": [
       "<div id=\"3dmolviewer_1623444937051883\"  style=\"position: relative; width: 640px; height: 480px\">\n",
       "        <p id=\"3dmolwarning_1623444937051883\" style=\"background-color:#ffcccc;color:black\">You appear to be running in JupyterLab (or JavaScript failed to load for some other reason).  You need to install the 3dmol extension: <br>\n",
       "        <tt>jupyter labextension install jupyterlab_3dmol</tt></p>\n",
       "        </div>\n",
       "<script>\n",
       "\n",
       "var loadScriptAsync = function(uri){\n",
       "  return new Promise((resolve, reject) => {\n",
       "    var tag = document.createElement('script');\n",
       "    tag.src = uri;\n",
       "    tag.async = true;\n",
       "    tag.onload = () => {\n",
       "      resolve();\n",
       "    };\n",
       "  var firstScriptTag = document.getElementsByTagName('script')[0];\n",
       "  firstScriptTag.parentNode.insertBefore(tag, firstScriptTag);\n",
       "});\n",
       "};\n",
       "\n",
       "if(typeof $3Dmolpromise === 'undefined') {\n",
       "$3Dmolpromise = null;\n",
       "  $3Dmolpromise = loadScriptAsync('https://3dmol.org/build/3Dmol.js');\n",
       "}\n",
       "\n",
       "var viewer_1623444937051883 = null;\n",
       "var warn = document.getElementById(\"3dmolwarning_1623444937051883\");\n",
       "if(warn) {\n",
       "    warn.parentNode.removeChild(warn);\n",
       "}\n",
       "$3Dmolpromise.then(function() {\n",
       "viewer_1623444937051883 = $3Dmol.createViewer($(\"#3dmolviewer_1623444937051883\"),{backgroundColor:\"white\"});\n",
       "viewer_1623444937051883.zoomTo();\n",
       "\tviewer_1623444937051883.addModel(\"@<TRIPOS>MOLECULE\\nRES\\n20 19 1 0 1\\nSMALL\\nNO_CHARGES\\n@<TRIPOS>CRYSIN\\n    7.2000    15.0000    14.6880    90.0000    90.0000    90.0000  1  1\\n@<TRIPOS>ATOM\\n       1 C            0.0000     0.0000     0.0000 C             1 RES     \\n       2 H           -1.1000     0.0000     0.0000 H             1 RES     \\n       3 H            1.1000     0.0000     0.0000 H             1 RES     \\n       4 C            0.0000     0.0000    -1.5000 C             1 RES     \\n       5 H           -1.1000     0.0000    -1.5000 H             1 RES     \\n       6 H            1.1000    -0.0000    -1.5000 H             1 RES     \\n       7 C           -0.0000     0.0000    -3.0000 C             1 RES     \\n       8 H           -1.1000     0.0000    -3.0000 H             1 RES     \\n       9 H            1.1000     0.0000    -3.0000 H             1 RES     \\n      10 C           -0.0000     0.0000    -4.5000 C             1 RES     \\n      11 H           -1.1000     0.0000    -4.5000 H             1 RES     \\n      12 H            1.1000     0.0000    -4.5000 H             1 RES     \\n      13 C            0.0000     0.0000    -6.0000 C             1 RES     \\n      14 H           -1.1000     0.0000    -6.0000 H             1 RES     \\n      15 H            1.1000     0.0000    -6.0000 H             1 RES     \\n      16 C            0.0000     0.0000    -7.5000 C             1 RES     \\n      17 H           -1.1000     0.0000    -7.5000 H             1 RES     \\n      18 H            1.1000     0.0000    -7.5000 H             1 RES     \\n      19 H           -0.0000     0.0000     1.0940 H             1 RES     \\n      20 H            0.0000     0.0000    -8.5940 H             1 RES     \\n@<TRIPOS>BOND\\n       1        2        1 1\\n       2        3        1 1\\n       3        4        1 1\\n       4       19        1 1\\n       5        5        4 1\\n       6        6        4 1\\n       7        7        4 1\\n       8        8        7 1\\n       9        9        7 1\\n      10       10        7 1\\n      11       11       10 1\\n      12       12       10 1\\n      13       13       10 1\\n      14       14       13 1\\n      15       15       13 1\\n      16       16       13 1\\n      17       17       16 1\\n      18       18       16 1\\n      19       20       16 1\\n@<TRIPOS>SUBSTRUCTURE\\n       1 RES             1 RESIDUE    0 **** ROOT      0\\n\",\"mol2\");\n",
       "\tviewer_1623444937051883.setStyle({\"stick\": {\"radius\": 0.2, \"color\": \"grey\"}, \"sphere\": {\"scale\": 0.3, \"colorscheme\": {}}});\n",
       "\tviewer_1623444937051883.zoomTo();\n",
       "viewer_1623444937051883.render();\n",
       "});\n",
       "</script>"
      ]
     },
     "metadata": {},
     "output_type": "display_data"
    },
    {
     "data": {
      "text/plain": [
       "<py3Dmol.view at 0x7fd91745d580>"
      ]
     },
     "execution_count": 4,
     "metadata": {},
     "output_type": "execute_result"
    }
   ],
   "source": [
    "alkane.visualize()"
   ]
  },
  {
   "cell_type": "markdown",
   "metadata": {},
   "source": [
    "To create PEG, we will now feed instances of both of the monomers (i.e. `CH2` and `O`) to the `monomers` argument of the `Polymer` class. \n",
    "\n",
    "We also need to provide a few additional arguments. \n",
    "- `sequence` provides a string of characters where each unique character represents one repetition of a monomer. Here, `AAB` means that we want two `CH2`'s for each `O` (`CH2` is defined as `A` because it is passed first, `O` is `B` as it is second).  \n",
    "- As before, the `n` argument specifies the number of repeat units, however in this case, it is how many times to repeat the pattern.  That is, `n=1` would define a two `CH2` groups and an `O`.  "
   ]
  },
  {
   "cell_type": "code",
   "execution_count": 5,
   "metadata": {},
   "outputs": [
    {
     "data": {
      "application/3dmoljs_load.v0": "<div id=\"3dmolviewer_1623444937147052\"  style=\"position: relative; width: 640px; height: 480px\">\n        <p id=\"3dmolwarning_1623444937147052\" style=\"background-color:#ffcccc;color:black\">You appear to be running in JupyterLab (or JavaScript failed to load for some other reason).  You need to install the 3dmol extension: <br>\n        <tt>jupyter labextension install jupyterlab_3dmol</tt></p>\n        </div>\n<script>\n\nvar loadScriptAsync = function(uri){\n  return new Promise((resolve, reject) => {\n    var tag = document.createElement('script');\n    tag.src = uri;\n    tag.async = true;\n    tag.onload = () => {\n      resolve();\n    };\n  var firstScriptTag = document.getElementsByTagName('script')[0];\n  firstScriptTag.parentNode.insertBefore(tag, firstScriptTag);\n});\n};\n\nif(typeof $3Dmolpromise === 'undefined') {\n$3Dmolpromise = null;\n  $3Dmolpromise = loadScriptAsync('https://3dmol.org/build/3Dmol.js');\n}\n\nvar viewer_1623444937147052 = null;\nvar warn = document.getElementById(\"3dmolwarning_1623444937147052\");\nif(warn) {\n    warn.parentNode.removeChild(warn);\n}\n$3Dmolpromise.then(function() {\nviewer_1623444937147052 = $3Dmol.createViewer($(\"#3dmolviewer_1623444937147052\"),{backgroundColor:\"white\"});\nviewer_1623444937147052.zoomTo();\n\tviewer_1623444937147052.addModel(\"@<TRIPOS>MOLECULE\\nRES\\n30 29 1 0 1\\nSMALL\\nNO_CHARGES\\n@<TRIPOS>CRYSIN\\n    7.2000    15.0000    23.6880    90.0000    90.0000    90.0000  1  1\\n@<TRIPOS>ATOM\\n       1 C            0.0000     0.0000     0.0000 C             1 RES     \\n       2 H           -1.1000     0.0000     0.0000 H             1 RES     \\n       3 H            1.1000     0.0000     0.0000 H             1 RES     \\n       4 C            0.0000     0.0000    -1.5000 C             1 RES     \\n       5 H           -1.1000     0.0000    -1.5000 H             1 RES     \\n       6 H            1.1000    -0.0000    -1.5000 H             1 RES     \\n       7 O           -0.0000     0.0000    -3.0000 O             1 RES     \\n       8 C           -0.0000     0.0000    -4.5000 C             1 RES     \\n       9 H           -1.1000     0.0000    -4.5000 H             1 RES     \\n      10 H            1.1000     0.0000    -4.5000 H             1 RES     \\n      11 C            0.0000     0.0000    -6.0000 C             1 RES     \\n      12 H           -1.1000     0.0000    -6.0000 H             1 RES     \\n      13 H            1.1000     0.0000    -6.0000 H             1 RES     \\n      14 O            0.0000     0.0000    -7.5000 O             1 RES     \\n      15 C            0.0000     0.0000    -9.0000 C             1 RES     \\n      16 H           -1.1000     0.0000    -9.0000 H             1 RES     \\n      17 H            1.1000     0.0000    -9.0000 H             1 RES     \\n      18 C            0.0000     0.0000   -10.5000 C             1 RES     \\n      19 H           -1.1000     0.0000   -10.5000 H             1 RES     \\n      20 H            1.1000     0.0000   -10.5000 H             1 RES     \\n      21 O            0.0000     0.0000   -12.0000 O             1 RES     \\n      22 C            0.0000     0.0000   -13.5000 C             1 RES     \\n      23 H           -1.1000     0.0000   -13.5000 H             1 RES     \\n      24 H            1.1000     0.0000   -13.5000 H             1 RES     \\n      25 C            0.0000     0.0000   -15.0000 C             1 RES     \\n      26 H           -1.1000     0.0000   -15.0000 H             1 RES     \\n      27 H            1.1000     0.0000   -15.0000 H             1 RES     \\n      28 O            0.0000     0.0000   -16.5000 O             1 RES     \\n      29 H           -0.0000     0.0000     1.0940 H             1 RES     \\n      30 H            0.0000     0.0000   -17.5940 H             1 RES     \\n@<TRIPOS>BOND\\n       1        2        1 1\\n       2        3        1 1\\n       3        4        1 1\\n       4       29        1 1\\n       5        5        4 1\\n       6        6        4 1\\n       7        7        4 1\\n       8        8        7 1\\n       9        9        8 1\\n      10       10        8 1\\n      11       11        8 1\\n      12       12       11 1\\n      13       13       11 1\\n      14       14       11 1\\n      15       15       14 1\\n      16       16       15 1\\n      17       17       15 1\\n      18       18       15 1\\n      19       19       18 1\\n      20       20       18 1\\n      21       21       18 1\\n      22       22       21 1\\n      23       23       22 1\\n      24       24       22 1\\n      25       25       22 1\\n      26       26       25 1\\n      27       27       25 1\\n      28       28       25 1\\n      29       30       28 1\\n@<TRIPOS>SUBSTRUCTURE\\n       1 RES             1 RESIDUE    0 **** ROOT      0\\n\",\"mol2\");\n\tviewer_1623444937147052.setStyle({\"stick\": {\"radius\": 0.2, \"color\": \"grey\"}, \"sphere\": {\"scale\": 0.3, \"colorscheme\": {}}});\n\tviewer_1623444937147052.zoomTo();\nviewer_1623444937147052.render();\n});\n</script>",
      "text/html": [
       "<div id=\"3dmolviewer_1623444937147052\"  style=\"position: relative; width: 640px; height: 480px\">\n",
       "        <p id=\"3dmolwarning_1623444937147052\" style=\"background-color:#ffcccc;color:black\">You appear to be running in JupyterLab (or JavaScript failed to load for some other reason).  You need to install the 3dmol extension: <br>\n",
       "        <tt>jupyter labextension install jupyterlab_3dmol</tt></p>\n",
       "        </div>\n",
       "<script>\n",
       "\n",
       "var loadScriptAsync = function(uri){\n",
       "  return new Promise((resolve, reject) => {\n",
       "    var tag = document.createElement('script');\n",
       "    tag.src = uri;\n",
       "    tag.async = true;\n",
       "    tag.onload = () => {\n",
       "      resolve();\n",
       "    };\n",
       "  var firstScriptTag = document.getElementsByTagName('script')[0];\n",
       "  firstScriptTag.parentNode.insertBefore(tag, firstScriptTag);\n",
       "});\n",
       "};\n",
       "\n",
       "if(typeof $3Dmolpromise === 'undefined') {\n",
       "$3Dmolpromise = null;\n",
       "  $3Dmolpromise = loadScriptAsync('https://3dmol.org/build/3Dmol.js');\n",
       "}\n",
       "\n",
       "var viewer_1623444937147052 = null;\n",
       "var warn = document.getElementById(\"3dmolwarning_1623444937147052\");\n",
       "if(warn) {\n",
       "    warn.parentNode.removeChild(warn);\n",
       "}\n",
       "$3Dmolpromise.then(function() {\n",
       "viewer_1623444937147052 = $3Dmol.createViewer($(\"#3dmolviewer_1623444937147052\"),{backgroundColor:\"white\"});\n",
       "viewer_1623444937147052.zoomTo();\n",
       "\tviewer_1623444937147052.addModel(\"@<TRIPOS>MOLECULE\\nRES\\n30 29 1 0 1\\nSMALL\\nNO_CHARGES\\n@<TRIPOS>CRYSIN\\n    7.2000    15.0000    23.6880    90.0000    90.0000    90.0000  1  1\\n@<TRIPOS>ATOM\\n       1 C            0.0000     0.0000     0.0000 C             1 RES     \\n       2 H           -1.1000     0.0000     0.0000 H             1 RES     \\n       3 H            1.1000     0.0000     0.0000 H             1 RES     \\n       4 C            0.0000     0.0000    -1.5000 C             1 RES     \\n       5 H           -1.1000     0.0000    -1.5000 H             1 RES     \\n       6 H            1.1000    -0.0000    -1.5000 H             1 RES     \\n       7 O           -0.0000     0.0000    -3.0000 O             1 RES     \\n       8 C           -0.0000     0.0000    -4.5000 C             1 RES     \\n       9 H           -1.1000     0.0000    -4.5000 H             1 RES     \\n      10 H            1.1000     0.0000    -4.5000 H             1 RES     \\n      11 C            0.0000     0.0000    -6.0000 C             1 RES     \\n      12 H           -1.1000     0.0000    -6.0000 H             1 RES     \\n      13 H            1.1000     0.0000    -6.0000 H             1 RES     \\n      14 O            0.0000     0.0000    -7.5000 O             1 RES     \\n      15 C            0.0000     0.0000    -9.0000 C             1 RES     \\n      16 H           -1.1000     0.0000    -9.0000 H             1 RES     \\n      17 H            1.1000     0.0000    -9.0000 H             1 RES     \\n      18 C            0.0000     0.0000   -10.5000 C             1 RES     \\n      19 H           -1.1000     0.0000   -10.5000 H             1 RES     \\n      20 H            1.1000     0.0000   -10.5000 H             1 RES     \\n      21 O            0.0000     0.0000   -12.0000 O             1 RES     \\n      22 C            0.0000     0.0000   -13.5000 C             1 RES     \\n      23 H           -1.1000     0.0000   -13.5000 H             1 RES     \\n      24 H            1.1000     0.0000   -13.5000 H             1 RES     \\n      25 C            0.0000     0.0000   -15.0000 C             1 RES     \\n      26 H           -1.1000     0.0000   -15.0000 H             1 RES     \\n      27 H            1.1000     0.0000   -15.0000 H             1 RES     \\n      28 O            0.0000     0.0000   -16.5000 O             1 RES     \\n      29 H           -0.0000     0.0000     1.0940 H             1 RES     \\n      30 H            0.0000     0.0000   -17.5940 H             1 RES     \\n@<TRIPOS>BOND\\n       1        2        1 1\\n       2        3        1 1\\n       3        4        1 1\\n       4       29        1 1\\n       5        5        4 1\\n       6        6        4 1\\n       7        7        4 1\\n       8        8        7 1\\n       9        9        8 1\\n      10       10        8 1\\n      11       11        8 1\\n      12       12       11 1\\n      13       13       11 1\\n      14       14       11 1\\n      15       15       14 1\\n      16       16       15 1\\n      17       17       15 1\\n      18       18       15 1\\n      19       19       18 1\\n      20       20       18 1\\n      21       21       18 1\\n      22       22       21 1\\n      23       23       22 1\\n      24       24       22 1\\n      25       25       22 1\\n      26       26       25 1\\n      27       27       25 1\\n      28       28       25 1\\n      29       30       28 1\\n@<TRIPOS>SUBSTRUCTURE\\n       1 RES             1 RESIDUE    0 **** ROOT      0\\n\",\"mol2\");\n",
       "\tviewer_1623444937147052.setStyle({\"stick\": {\"radius\": 0.2, \"color\": \"grey\"}, \"sphere\": {\"scale\": 0.3, \"colorscheme\": {}}});\n",
       "\tviewer_1623444937147052.zoomTo();\n",
       "viewer_1623444937147052.render();\n",
       "});\n",
       "</script>"
      ]
     },
     "metadata": {},
     "output_type": "display_data"
    },
    {
     "data": {
      "text/plain": [
       "<py3Dmol.view at 0x7fd91d2bae50>"
      ]
     },
     "execution_count": 5,
     "metadata": {},
     "output_type": "execute_result"
    }
   ],
   "source": [
    "peg4 = mb.recipes.Polymer(monomers=[CH2(), O()])\n",
    "peg4.build(sequence='AAB', n=4,)\n",
    "peg4.visualize(show_ports=True)"
   ]
  },
  {
   "cell_type": "markdown",
   "metadata": {},
   "source": [
    "The sequence argument can be defined with any arbitrary pattern.  For example, while not realistic from a chemistry standpoint, one could trivially create a rather complex sequence, such as `AABAABBBB`."
   ]
  },
  {
   "cell_type": "code",
   "execution_count": 6,
   "metadata": {},
   "outputs": [
    {
     "data": {
      "application/3dmoljs_load.v0": "<div id=\"3dmolviewer_162344493738281\"  style=\"position: relative; width: 640px; height: 480px\">\n        <p id=\"3dmolwarning_162344493738281\" style=\"background-color:#ffcccc;color:black\">You appear to be running in JupyterLab (or JavaScript failed to load for some other reason).  You need to install the 3dmol extension: <br>\n        <tt>jupyter labextension install jupyterlab_3dmol</tt></p>\n        </div>\n<script>\n\nvar loadScriptAsync = function(uri){\n  return new Promise((resolve, reject) => {\n    var tag = document.createElement('script');\n    tag.src = uri;\n    tag.async = true;\n    tag.onload = () => {\n      resolve();\n    };\n  var firstScriptTag = document.getElementsByTagName('script')[0];\n  firstScriptTag.parentNode.insertBefore(tag, firstScriptTag);\n});\n};\n\nif(typeof $3Dmolpromise === 'undefined') {\n$3Dmolpromise = null;\n  $3Dmolpromise = loadScriptAsync('https://3dmol.org/build/3Dmol.js');\n}\n\nvar viewer_162344493738281 = null;\nvar warn = document.getElementById(\"3dmolwarning_162344493738281\");\nif(warn) {\n    warn.parentNode.removeChild(warn);\n}\n$3Dmolpromise.then(function() {\nviewer_162344493738281 = $3Dmol.createViewer($(\"#3dmolviewer_162344493738281\"),{backgroundColor:\"white\"});\nviewer_162344493738281.zoomTo();\n\tviewer_162344493738281.addModel(\"@<TRIPOS>MOLECULE\\nRES\\n53 52 1 0 1\\nSMALL\\nNO_CHARGES\\n@<TRIPOS>CRYSIN\\n    7.2000    15.0000    46.1880    90.0000    90.0000    90.0000  1  1\\n@<TRIPOS>ATOM\\n       1 C            0.0000     0.0000     0.0000 C             1 RES     \\n       2 H           -1.1000     0.0000     0.0000 H             1 RES     \\n       3 H            1.1000     0.0000     0.0000 H             1 RES     \\n       4 C            0.0000     0.0000    -1.5000 C             1 RES     \\n       5 H           -1.1000     0.0000    -1.5000 H             1 RES     \\n       6 H            1.1000    -0.0000    -1.5000 H             1 RES     \\n       7 O           -0.0000     0.0000    -3.0000 O             1 RES     \\n       8 C           -0.0000     0.0000    -4.5000 C             1 RES     \\n       9 H           -1.1000     0.0000    -4.5000 H             1 RES     \\n      10 H            1.1000     0.0000    -4.5000 H             1 RES     \\n      11 C            0.0000     0.0000    -6.0000 C             1 RES     \\n      12 H           -1.1000     0.0000    -6.0000 H             1 RES     \\n      13 H            1.1000     0.0000    -6.0000 H             1 RES     \\n      14 O            0.0000     0.0000    -7.5000 O             1 RES     \\n      15 O            0.0000     0.0000    -9.0000 O             1 RES     \\n      16 O            0.0000     0.0000   -10.5000 O             1 RES     \\n      17 O            0.0000     0.0000   -12.0000 O             1 RES     \\n      18 C            0.0000     0.0000   -13.5000 C             1 RES     \\n      19 H           -1.1000     0.0000   -13.5000 H             1 RES     \\n      20 H            1.1000     0.0000   -13.5000 H             1 RES     \\n      21 C            0.0000     0.0000   -15.0000 C             1 RES     \\n      22 H           -1.1000     0.0000   -15.0000 H             1 RES     \\n      23 H            1.1000     0.0000   -15.0000 H             1 RES     \\n      24 O            0.0000     0.0000   -16.5000 O             1 RES     \\n      25 C            0.0000     0.0000   -18.0000 C             1 RES     \\n      26 H           -1.1000     0.0000   -18.0000 H             1 RES     \\n      27 H            1.1000     0.0000   -18.0000 H             1 RES     \\n      28 C            0.0000     0.0000   -19.5000 C             1 RES     \\n      29 H           -1.1000     0.0000   -19.5000 H             1 RES     \\n      30 H            1.1000     0.0000   -19.5000 H             1 RES     \\n      31 O            0.0000     0.0000   -21.0000 O             1 RES     \\n      32 O            0.0000     0.0000   -22.5000 O             1 RES     \\n      33 O            0.0000     0.0000   -24.0000 O             1 RES     \\n      34 O            0.0000     0.0000   -25.5000 O             1 RES     \\n      35 C            0.0000     0.0000   -27.0000 C             1 RES     \\n      36 H           -1.1000     0.0000   -27.0000 H             1 RES     \\n      37 H            1.1000     0.0000   -27.0000 H             1 RES     \\n      38 C            0.0000     0.0000   -28.5000 C             1 RES     \\n      39 H           -1.1000     0.0000   -28.5000 H             1 RES     \\n      40 H            1.1000     0.0000   -28.5000 H             1 RES     \\n      41 O            0.0000     0.0000   -30.0000 O             1 RES     \\n      42 C            0.0000     0.0000   -31.5000 C             1 RES     \\n      43 H           -1.1000     0.0000   -31.5000 H             1 RES     \\n      44 H            1.1000     0.0000   -31.5000 H             1 RES     \\n      45 C            0.0000     0.0000   -33.0000 C             1 RES     \\n      46 H           -1.1000     0.0000   -33.0000 H             1 RES     \\n      47 H            1.1000     0.0000   -33.0000 H             1 RES     \\n      48 O            0.0000     0.0000   -34.5000 O             1 RES     \\n      49 O            0.0000     0.0000   -36.0000 O             1 RES     \\n      50 O            0.0000     0.0000   -37.5000 O             1 RES     \\n      51 O            0.0000     0.0000   -39.0000 O             1 RES     \\n      52 H           -0.0000     0.0000     1.0940 H             1 RES     \\n      53 H            0.0000     0.0000   -40.0940 H             1 RES     \\n@<TRIPOS>BOND\\n       1        2        1 1\\n       2        3        1 1\\n       3        4        1 1\\n       4       52        1 1\\n       5        5        4 1\\n       6        6        4 1\\n       7        7        4 1\\n       8        8        7 1\\n       9        9        8 1\\n      10       10        8 1\\n      11       11        8 1\\n      12       12       11 1\\n      13       13       11 1\\n      14       14       11 1\\n      15       15       14 1\\n      16       16       15 1\\n      17       17       16 1\\n      18       18       17 1\\n      19       19       18 1\\n      20       20       18 1\\n      21       21       18 1\\n      22       22       21 1\\n      23       23       21 1\\n      24       24       21 1\\n      25       25       24 1\\n      26       26       25 1\\n      27       27       25 1\\n      28       28       25 1\\n      29       29       28 1\\n      30       30       28 1\\n      31       31       28 1\\n      32       32       31 1\\n      33       33       32 1\\n      34       34       33 1\\n      35       35       34 1\\n      36       36       35 1\\n      37       37       35 1\\n      38       38       35 1\\n      39       39       38 1\\n      40       40       38 1\\n      41       41       38 1\\n      42       42       41 1\\n      43       43       42 1\\n      44       44       42 1\\n      45       45       42 1\\n      46       46       45 1\\n      47       47       45 1\\n      48       48       45 1\\n      49       49       48 1\\n      50       50       49 1\\n      51       51       50 1\\n      52       53       51 1\\n@<TRIPOS>SUBSTRUCTURE\\n       1 RES             1 RESIDUE    0 **** ROOT      0\\n\",\"mol2\");\n\tviewer_162344493738281.setStyle({\"stick\": {\"radius\": 0.2, \"color\": \"grey\"}, \"sphere\": {\"scale\": 0.3, \"colorscheme\": {}}});\n\tviewer_162344493738281.zoomTo();\nviewer_162344493738281.render();\n});\n</script>",
      "text/html": [
       "<div id=\"3dmolviewer_162344493738281\"  style=\"position: relative; width: 640px; height: 480px\">\n",
       "        <p id=\"3dmolwarning_162344493738281\" style=\"background-color:#ffcccc;color:black\">You appear to be running in JupyterLab (or JavaScript failed to load for some other reason).  You need to install the 3dmol extension: <br>\n",
       "        <tt>jupyter labextension install jupyterlab_3dmol</tt></p>\n",
       "        </div>\n",
       "<script>\n",
       "\n",
       "var loadScriptAsync = function(uri){\n",
       "  return new Promise((resolve, reject) => {\n",
       "    var tag = document.createElement('script');\n",
       "    tag.src = uri;\n",
       "    tag.async = true;\n",
       "    tag.onload = () => {\n",
       "      resolve();\n",
       "    };\n",
       "  var firstScriptTag = document.getElementsByTagName('script')[0];\n",
       "  firstScriptTag.parentNode.insertBefore(tag, firstScriptTag);\n",
       "});\n",
       "};\n",
       "\n",
       "if(typeof $3Dmolpromise === 'undefined') {\n",
       "$3Dmolpromise = null;\n",
       "  $3Dmolpromise = loadScriptAsync('https://3dmol.org/build/3Dmol.js');\n",
       "}\n",
       "\n",
       "var viewer_162344493738281 = null;\n",
       "var warn = document.getElementById(\"3dmolwarning_162344493738281\");\n",
       "if(warn) {\n",
       "    warn.parentNode.removeChild(warn);\n",
       "}\n",
       "$3Dmolpromise.then(function() {\n",
       "viewer_162344493738281 = $3Dmol.createViewer($(\"#3dmolviewer_162344493738281\"),{backgroundColor:\"white\"});\n",
       "viewer_162344493738281.zoomTo();\n",
       "\tviewer_162344493738281.addModel(\"@<TRIPOS>MOLECULE\\nRES\\n53 52 1 0 1\\nSMALL\\nNO_CHARGES\\n@<TRIPOS>CRYSIN\\n    7.2000    15.0000    46.1880    90.0000    90.0000    90.0000  1  1\\n@<TRIPOS>ATOM\\n       1 C            0.0000     0.0000     0.0000 C             1 RES     \\n       2 H           -1.1000     0.0000     0.0000 H             1 RES     \\n       3 H            1.1000     0.0000     0.0000 H             1 RES     \\n       4 C            0.0000     0.0000    -1.5000 C             1 RES     \\n       5 H           -1.1000     0.0000    -1.5000 H             1 RES     \\n       6 H            1.1000    -0.0000    -1.5000 H             1 RES     \\n       7 O           -0.0000     0.0000    -3.0000 O             1 RES     \\n       8 C           -0.0000     0.0000    -4.5000 C             1 RES     \\n       9 H           -1.1000     0.0000    -4.5000 H             1 RES     \\n      10 H            1.1000     0.0000    -4.5000 H             1 RES     \\n      11 C            0.0000     0.0000    -6.0000 C             1 RES     \\n      12 H           -1.1000     0.0000    -6.0000 H             1 RES     \\n      13 H            1.1000     0.0000    -6.0000 H             1 RES     \\n      14 O            0.0000     0.0000    -7.5000 O             1 RES     \\n      15 O            0.0000     0.0000    -9.0000 O             1 RES     \\n      16 O            0.0000     0.0000   -10.5000 O             1 RES     \\n      17 O            0.0000     0.0000   -12.0000 O             1 RES     \\n      18 C            0.0000     0.0000   -13.5000 C             1 RES     \\n      19 H           -1.1000     0.0000   -13.5000 H             1 RES     \\n      20 H            1.1000     0.0000   -13.5000 H             1 RES     \\n      21 C            0.0000     0.0000   -15.0000 C             1 RES     \\n      22 H           -1.1000     0.0000   -15.0000 H             1 RES     \\n      23 H            1.1000     0.0000   -15.0000 H             1 RES     \\n      24 O            0.0000     0.0000   -16.5000 O             1 RES     \\n      25 C            0.0000     0.0000   -18.0000 C             1 RES     \\n      26 H           -1.1000     0.0000   -18.0000 H             1 RES     \\n      27 H            1.1000     0.0000   -18.0000 H             1 RES     \\n      28 C            0.0000     0.0000   -19.5000 C             1 RES     \\n      29 H           -1.1000     0.0000   -19.5000 H             1 RES     \\n      30 H            1.1000     0.0000   -19.5000 H             1 RES     \\n      31 O            0.0000     0.0000   -21.0000 O             1 RES     \\n      32 O            0.0000     0.0000   -22.5000 O             1 RES     \\n      33 O            0.0000     0.0000   -24.0000 O             1 RES     \\n      34 O            0.0000     0.0000   -25.5000 O             1 RES     \\n      35 C            0.0000     0.0000   -27.0000 C             1 RES     \\n      36 H           -1.1000     0.0000   -27.0000 H             1 RES     \\n      37 H            1.1000     0.0000   -27.0000 H             1 RES     \\n      38 C            0.0000     0.0000   -28.5000 C             1 RES     \\n      39 H           -1.1000     0.0000   -28.5000 H             1 RES     \\n      40 H            1.1000     0.0000   -28.5000 H             1 RES     \\n      41 O            0.0000     0.0000   -30.0000 O             1 RES     \\n      42 C            0.0000     0.0000   -31.5000 C             1 RES     \\n      43 H           -1.1000     0.0000   -31.5000 H             1 RES     \\n      44 H            1.1000     0.0000   -31.5000 H             1 RES     \\n      45 C            0.0000     0.0000   -33.0000 C             1 RES     \\n      46 H           -1.1000     0.0000   -33.0000 H             1 RES     \\n      47 H            1.1000     0.0000   -33.0000 H             1 RES     \\n      48 O            0.0000     0.0000   -34.5000 O             1 RES     \\n      49 O            0.0000     0.0000   -36.0000 O             1 RES     \\n      50 O            0.0000     0.0000   -37.5000 O             1 RES     \\n      51 O            0.0000     0.0000   -39.0000 O             1 RES     \\n      52 H           -0.0000     0.0000     1.0940 H             1 RES     \\n      53 H            0.0000     0.0000   -40.0940 H             1 RES     \\n@<TRIPOS>BOND\\n       1        2        1 1\\n       2        3        1 1\\n       3        4        1 1\\n       4       52        1 1\\n       5        5        4 1\\n       6        6        4 1\\n       7        7        4 1\\n       8        8        7 1\\n       9        9        8 1\\n      10       10        8 1\\n      11       11        8 1\\n      12       12       11 1\\n      13       13       11 1\\n      14       14       11 1\\n      15       15       14 1\\n      16       16       15 1\\n      17       17       16 1\\n      18       18       17 1\\n      19       19       18 1\\n      20       20       18 1\\n      21       21       18 1\\n      22       22       21 1\\n      23       23       21 1\\n      24       24       21 1\\n      25       25       24 1\\n      26       26       25 1\\n      27       27       25 1\\n      28       28       25 1\\n      29       29       28 1\\n      30       30       28 1\\n      31       31       28 1\\n      32       32       31 1\\n      33       33       32 1\\n      34       34       33 1\\n      35       35       34 1\\n      36       36       35 1\\n      37       37       35 1\\n      38       38       35 1\\n      39       39       38 1\\n      40       40       38 1\\n      41       41       38 1\\n      42       42       41 1\\n      43       43       42 1\\n      44       44       42 1\\n      45       45       42 1\\n      46       46       45 1\\n      47       47       45 1\\n      48       48       45 1\\n      49       49       48 1\\n      50       50       49 1\\n      51       51       50 1\\n      52       53       51 1\\n@<TRIPOS>SUBSTRUCTURE\\n       1 RES             1 RESIDUE    0 **** ROOT      0\\n\",\"mol2\");\n",
       "\tviewer_162344493738281.setStyle({\"stick\": {\"radius\": 0.2, \"color\": \"grey\"}, \"sphere\": {\"scale\": 0.3, \"colorscheme\": {}}});\n",
       "\tviewer_162344493738281.zoomTo();\n",
       "viewer_162344493738281.render();\n",
       "});\n",
       "</script>"
      ]
     },
     "metadata": {},
     "output_type": "display_data"
    },
    {
     "data": {
      "text/plain": [
       "<py3Dmol.view at 0x7fd91d54b400>"
      ]
     },
     "execution_count": 6,
     "metadata": {},
     "output_type": "execute_result"
    }
   ],
   "source": [
    "poly = mb.recipes.Polymer(monomers=[CH2(), O()])\n",
    "poly.build(sequence='AABAABBBB', n=3)\n",
    "poly.visualize()"
   ]
  },
  {
   "cell_type": "markdown",
   "metadata": {
    "collapsed": true
   },
   "source": [
    "Let us now consider creating a semifluorinated alkane using the polymer class (i.e., one half is an alkane, R_H, the other half is a perfluroalkane, R_F).  We first need to define a CF2 group, in the same way we defined CH2."
   ]
  },
  {
   "cell_type": "code",
   "execution_count": 7,
   "metadata": {},
   "outputs": [
    {
     "data": {
      "application/3dmoljs_load.v0": "<div id=\"3dmolviewer_1623444937419256\"  style=\"position: relative; width: 640px; height: 480px\">\n        <p id=\"3dmolwarning_1623444937419256\" style=\"background-color:#ffcccc;color:black\">You appear to be running in JupyterLab (or JavaScript failed to load for some other reason).  You need to install the 3dmol extension: <br>\n        <tt>jupyter labextension install jupyterlab_3dmol</tt></p>\n        </div>\n<script>\n\nvar loadScriptAsync = function(uri){\n  return new Promise((resolve, reject) => {\n    var tag = document.createElement('script');\n    tag.src = uri;\n    tag.async = true;\n    tag.onload = () => {\n      resolve();\n    };\n  var firstScriptTag = document.getElementsByTagName('script')[0];\n  firstScriptTag.parentNode.insertBefore(tag, firstScriptTag);\n});\n};\n\nif(typeof $3Dmolpromise === 'undefined') {\n$3Dmolpromise = null;\n  $3Dmolpromise = loadScriptAsync('https://3dmol.org/build/3Dmol.js');\n}\n\nvar viewer_1623444937419256 = null;\nvar warn = document.getElementById(\"3dmolwarning_1623444937419256\");\nif(warn) {\n    warn.parentNode.removeChild(warn);\n}\n$3Dmolpromise.then(function() {\nviewer_1623444937419256 = $3Dmol.createViewer($(\"#3dmolviewer_1623444937419256\"),{backgroundColor:\"white\"});\nviewer_1623444937419256.zoomTo();\n\tviewer_1623444937419256.addModel(\"@<TRIPOS>MOLECULE\\nRES\\n19 2 2 0 1\\nBIOPOLYMER\\nNO_CHARGES\\n@<TRIPOS>CRYSIN\\n    7.8000    15.0000    15.0000    90.0000    90.0000    90.0000  1  1\\n@<TRIPOS>ATOM\\n       1 C            0.0000     0.0000     0.0000 C             1 RES     \\n       2 F           -1.4000     0.0000     0.0000 F             1 RES     \\n       3 F            1.4000     0.0000     0.0000 F             1 RES     \\n       4 VS           0.0500     0.0250     0.7750 VS            2 PRT     \\n       5 VS           0.0500     0.0250     0.9750 VS            2 PRT     \\n       6 VS          -0.1500     0.0250     0.6750 VS            2 PRT     \\n       7 VS           0.0500    -0.0750     0.5750 VS            2 PRT     \\n       8 VS           0.0500    -0.0250     0.7250 VS            2 PRT     \\n       9 VS           0.0500    -0.0250     0.5250 VS            2 PRT     \\n      10 VS          -0.1500    -0.0250     0.8250 VS            2 PRT     \\n      11 VS           0.0500     0.0750     0.9250 VS            2 PRT     \\n      12 VS           0.0500    -0.0250    -0.7750 VS            2 PRT     \\n      13 VS           0.0500    -0.0250    -0.9750 VS            2 PRT     \\n      14 VS          -0.1500    -0.0250    -0.6750 VS            2 PRT     \\n      15 VS           0.0500     0.0750    -0.5750 VS            2 PRT     \\n      16 VS           0.0500     0.0250    -0.7250 VS            2 PRT     \\n      17 VS           0.0500     0.0250    -0.5250 VS            2 PRT     \\n      18 VS          -0.1500     0.0250    -0.8250 VS            2 PRT     \\n      19 VS           0.0500    -0.0750    -0.9250 VS            2 PRT     \\n@<TRIPOS>BOND\\n       1        1        2 1\\n       2        3        1 1\\n@<TRIPOS>SUBSTRUCTURE\\n       1 RES             1 RESIDUE    0 **** ROOT      0\\n       2 PRT             4 RESIDUE    0 **** ROOT      0\\n\",\"mol2\");\n\tviewer_1623444937419256.setStyle({\"stick\": {\"radius\": 0.2, \"color\": \"grey\"}, \"sphere\": {\"scale\": 0.3, \"colorscheme\": {}}});\n\tviewer_1623444937419256.zoomTo();\nviewer_1623444937419256.render();\n});\n</script>",
      "text/html": [
       "<div id=\"3dmolviewer_1623444937419256\"  style=\"position: relative; width: 640px; height: 480px\">\n",
       "        <p id=\"3dmolwarning_1623444937419256\" style=\"background-color:#ffcccc;color:black\">You appear to be running in JupyterLab (or JavaScript failed to load for some other reason).  You need to install the 3dmol extension: <br>\n",
       "        <tt>jupyter labextension install jupyterlab_3dmol</tt></p>\n",
       "        </div>\n",
       "<script>\n",
       "\n",
       "var loadScriptAsync = function(uri){\n",
       "  return new Promise((resolve, reject) => {\n",
       "    var tag = document.createElement('script');\n",
       "    tag.src = uri;\n",
       "    tag.async = true;\n",
       "    tag.onload = () => {\n",
       "      resolve();\n",
       "    };\n",
       "  var firstScriptTag = document.getElementsByTagName('script')[0];\n",
       "  firstScriptTag.parentNode.insertBefore(tag, firstScriptTag);\n",
       "});\n",
       "};\n",
       "\n",
       "if(typeof $3Dmolpromise === 'undefined') {\n",
       "$3Dmolpromise = null;\n",
       "  $3Dmolpromise = loadScriptAsync('https://3dmol.org/build/3Dmol.js');\n",
       "}\n",
       "\n",
       "var viewer_1623444937419256 = null;\n",
       "var warn = document.getElementById(\"3dmolwarning_1623444937419256\");\n",
       "if(warn) {\n",
       "    warn.parentNode.removeChild(warn);\n",
       "}\n",
       "$3Dmolpromise.then(function() {\n",
       "viewer_1623444937419256 = $3Dmol.createViewer($(\"#3dmolviewer_1623444937419256\"),{backgroundColor:\"white\"});\n",
       "viewer_1623444937419256.zoomTo();\n",
       "\tviewer_1623444937419256.addModel(\"@<TRIPOS>MOLECULE\\nRES\\n19 2 2 0 1\\nBIOPOLYMER\\nNO_CHARGES\\n@<TRIPOS>CRYSIN\\n    7.8000    15.0000    15.0000    90.0000    90.0000    90.0000  1  1\\n@<TRIPOS>ATOM\\n       1 C            0.0000     0.0000     0.0000 C             1 RES     \\n       2 F           -1.4000     0.0000     0.0000 F             1 RES     \\n       3 F            1.4000     0.0000     0.0000 F             1 RES     \\n       4 VS           0.0500     0.0250     0.7750 VS            2 PRT     \\n       5 VS           0.0500     0.0250     0.9750 VS            2 PRT     \\n       6 VS          -0.1500     0.0250     0.6750 VS            2 PRT     \\n       7 VS           0.0500    -0.0750     0.5750 VS            2 PRT     \\n       8 VS           0.0500    -0.0250     0.7250 VS            2 PRT     \\n       9 VS           0.0500    -0.0250     0.5250 VS            2 PRT     \\n      10 VS          -0.1500    -0.0250     0.8250 VS            2 PRT     \\n      11 VS           0.0500     0.0750     0.9250 VS            2 PRT     \\n      12 VS           0.0500    -0.0250    -0.7750 VS            2 PRT     \\n      13 VS           0.0500    -0.0250    -0.9750 VS            2 PRT     \\n      14 VS          -0.1500    -0.0250    -0.6750 VS            2 PRT     \\n      15 VS           0.0500     0.0750    -0.5750 VS            2 PRT     \\n      16 VS           0.0500     0.0250    -0.7250 VS            2 PRT     \\n      17 VS           0.0500     0.0250    -0.5250 VS            2 PRT     \\n      18 VS          -0.1500     0.0250    -0.8250 VS            2 PRT     \\n      19 VS           0.0500    -0.0750    -0.9250 VS            2 PRT     \\n@<TRIPOS>BOND\\n       1        1        2 1\\n       2        3        1 1\\n@<TRIPOS>SUBSTRUCTURE\\n       1 RES             1 RESIDUE    0 **** ROOT      0\\n       2 PRT             4 RESIDUE    0 **** ROOT      0\\n\",\"mol2\");\n",
       "\tviewer_1623444937419256.setStyle({\"stick\": {\"radius\": 0.2, \"color\": \"grey\"}, \"sphere\": {\"scale\": 0.3, \"colorscheme\": {}}});\n",
       "\tviewer_1623444937419256.zoomTo();\n",
       "viewer_1623444937419256.render();\n",
       "});\n",
       "</script>"
      ]
     },
     "metadata": {},
     "output_type": "display_data"
    },
    {
     "data": {
      "text/plain": [
       "<py3Dmol.view at 0x7fd91d577fa0>"
      ]
     },
     "execution_count": 7,
     "metadata": {},
     "output_type": "execute_result"
    }
   ],
   "source": [
    "class CF2(mb.Compound):\n",
    "    def __init__(self):\n",
    "        super(CF2, self).__init__()\n",
    "        \n",
    "        mb.load('utils/cf2.pdb', compound=self)\n",
    "        carbon = list(self.particles_by_name('C'))[0]\n",
    "        up_port = mb.Port(anchor=carbon, orientation=[0, 0, 1], separation=0.075)\n",
    "        down_port = mb.Port(anchor=carbon, orientation=[0, 0, -1], separation=0.075)\n",
    "        self.add(up_port, label='up')\n",
    "        self.add(down_port, label='down')\n",
    "\n",
    "\n",
    "CF2().visualize(show_ports=True)"
   ]
  },
  {
   "cell_type": "markdown",
   "metadata": {},
   "source": [
    "There are multiple ways to create the semifluorinated alkane; here we will consider two different approaches that make use of polymer class.  First, we simply define the sequence to describe the entire polymer, setting `n=1`."
   ]
  },
  {
   "cell_type": "code",
   "execution_count": 8,
   "metadata": {},
   "outputs": [
    {
     "data": {
      "application/3dmoljs_load.v0": "<div id=\"3dmolviewer_1623444937497013\"  style=\"position: relative; width: 640px; height: 480px\">\n        <p id=\"3dmolwarning_1623444937497013\" style=\"background-color:#ffcccc;color:black\">You appear to be running in JupyterLab (or JavaScript failed to load for some other reason).  You need to install the 3dmol extension: <br>\n        <tt>jupyter labextension install jupyterlab_3dmol</tt></p>\n        </div>\n<script>\n\nvar loadScriptAsync = function(uri){\n  return new Promise((resolve, reject) => {\n    var tag = document.createElement('script');\n    tag.src = uri;\n    tag.async = true;\n    tag.onload = () => {\n      resolve();\n    };\n  var firstScriptTag = document.getElementsByTagName('script')[0];\n  firstScriptTag.parentNode.insertBefore(tag, firstScriptTag);\n});\n};\n\nif(typeof $3Dmolpromise === 'undefined') {\n$3Dmolpromise = null;\n  $3Dmolpromise = loadScriptAsync('https://3dmol.org/build/3Dmol.js');\n}\n\nvar viewer_1623444937497013 = null;\nvar warn = document.getElementById(\"3dmolwarning_1623444937497013\");\nif(warn) {\n    warn.parentNode.removeChild(warn);\n}\n$3Dmolpromise.then(function() {\nviewer_1623444937497013 = $3Dmol.createViewer($(\"#3dmolviewer_1623444937497013\"),{backgroundColor:\"white\"});\nviewer_1623444937497013.zoomTo();\n\tviewer_1623444937497013.addModel(\"@<TRIPOS>MOLECULE\\nRES\\n20 19 1 0 1\\nSMALL\\nNO_CHARGES\\n@<TRIPOS>CRYSIN\\n    7.8000    15.0000    14.6880    90.0000    90.0000    90.0000  1  1\\n@<TRIPOS>ATOM\\n       1 C            0.0000     0.0000     0.0000 C             1 RES     \\n       2 H           -1.1000     0.0000     0.0000 H             1 RES     \\n       3 H            1.1000     0.0000     0.0000 H             1 RES     \\n       4 C            0.0000     0.0000    -1.5000 C             1 RES     \\n       5 H           -1.1000     0.0000    -1.5000 H             1 RES     \\n       6 H            1.1000    -0.0000    -1.5000 H             1 RES     \\n       7 C           -0.0000     0.0000    -3.0000 C             1 RES     \\n       8 H           -1.1000     0.0000    -3.0000 H             1 RES     \\n       9 H            1.1000     0.0000    -3.0000 H             1 RES     \\n      10 C           -0.0000     0.0000    -4.5000 C             1 RES     \\n      11 F           -1.4000     0.0000    -4.5000 F             1 RES     \\n      12 F            1.4000     0.0000    -4.5000 F             1 RES     \\n      13 C            0.0000     0.0000    -6.0000 C             1 RES     \\n      14 F           -1.4000     0.0000    -6.0000 F             1 RES     \\n      15 F            1.4000     0.0000    -6.0000 F             1 RES     \\n      16 C            0.0000     0.0000    -7.5000 C             1 RES     \\n      17 F           -1.4000     0.0000    -7.5000 F             1 RES     \\n      18 F            1.4000     0.0000    -7.5000 F             1 RES     \\n      19 H           -0.0000     0.0000     1.0940 H             1 RES     \\n      20 H            0.0000     0.0000    -8.5940 H             1 RES     \\n@<TRIPOS>BOND\\n       1        2        1 1\\n       2        3        1 1\\n       3        4        1 1\\n       4       19        1 1\\n       5        5        4 1\\n       6        6        4 1\\n       7        7        4 1\\n       8        8        7 1\\n       9        9        7 1\\n      10       10        7 1\\n      11       11       10 1\\n      12       12       10 1\\n      13       13       10 1\\n      14       14       13 1\\n      15       15       13 1\\n      16       16       13 1\\n      17       17       16 1\\n      18       18       16 1\\n      19       20       16 1\\n@<TRIPOS>SUBSTRUCTURE\\n       1 RES             1 RESIDUE    0 **** ROOT      0\\n\",\"mol2\");\n\tviewer_1623444937497013.setStyle({\"stick\": {\"radius\": 0.2, \"color\": \"grey\"}, \"sphere\": {\"scale\": 0.3, \"colorscheme\": {}}});\n\tviewer_1623444937497013.zoomTo();\nviewer_1623444937497013.render();\n});\n</script>",
      "text/html": [
       "<div id=\"3dmolviewer_1623444937497013\"  style=\"position: relative; width: 640px; height: 480px\">\n",
       "        <p id=\"3dmolwarning_1623444937497013\" style=\"background-color:#ffcccc;color:black\">You appear to be running in JupyterLab (or JavaScript failed to load for some other reason).  You need to install the 3dmol extension: <br>\n",
       "        <tt>jupyter labextension install jupyterlab_3dmol</tt></p>\n",
       "        </div>\n",
       "<script>\n",
       "\n",
       "var loadScriptAsync = function(uri){\n",
       "  return new Promise((resolve, reject) => {\n",
       "    var tag = document.createElement('script');\n",
       "    tag.src = uri;\n",
       "    tag.async = true;\n",
       "    tag.onload = () => {\n",
       "      resolve();\n",
       "    };\n",
       "  var firstScriptTag = document.getElementsByTagName('script')[0];\n",
       "  firstScriptTag.parentNode.insertBefore(tag, firstScriptTag);\n",
       "});\n",
       "};\n",
       "\n",
       "if(typeof $3Dmolpromise === 'undefined') {\n",
       "$3Dmolpromise = null;\n",
       "  $3Dmolpromise = loadScriptAsync('https://3dmol.org/build/3Dmol.js');\n",
       "}\n",
       "\n",
       "var viewer_1623444937497013 = null;\n",
       "var warn = document.getElementById(\"3dmolwarning_1623444937497013\");\n",
       "if(warn) {\n",
       "    warn.parentNode.removeChild(warn);\n",
       "}\n",
       "$3Dmolpromise.then(function() {\n",
       "viewer_1623444937497013 = $3Dmol.createViewer($(\"#3dmolviewer_1623444937497013\"),{backgroundColor:\"white\"});\n",
       "viewer_1623444937497013.zoomTo();\n",
       "\tviewer_1623444937497013.addModel(\"@<TRIPOS>MOLECULE\\nRES\\n20 19 1 0 1\\nSMALL\\nNO_CHARGES\\n@<TRIPOS>CRYSIN\\n    7.8000    15.0000    14.6880    90.0000    90.0000    90.0000  1  1\\n@<TRIPOS>ATOM\\n       1 C            0.0000     0.0000     0.0000 C             1 RES     \\n       2 H           -1.1000     0.0000     0.0000 H             1 RES     \\n       3 H            1.1000     0.0000     0.0000 H             1 RES     \\n       4 C            0.0000     0.0000    -1.5000 C             1 RES     \\n       5 H           -1.1000     0.0000    -1.5000 H             1 RES     \\n       6 H            1.1000    -0.0000    -1.5000 H             1 RES     \\n       7 C           -0.0000     0.0000    -3.0000 C             1 RES     \\n       8 H           -1.1000     0.0000    -3.0000 H             1 RES     \\n       9 H            1.1000     0.0000    -3.0000 H             1 RES     \\n      10 C           -0.0000     0.0000    -4.5000 C             1 RES     \\n      11 F           -1.4000     0.0000    -4.5000 F             1 RES     \\n      12 F            1.4000     0.0000    -4.5000 F             1 RES     \\n      13 C            0.0000     0.0000    -6.0000 C             1 RES     \\n      14 F           -1.4000     0.0000    -6.0000 F             1 RES     \\n      15 F            1.4000     0.0000    -6.0000 F             1 RES     \\n      16 C            0.0000     0.0000    -7.5000 C             1 RES     \\n      17 F           -1.4000     0.0000    -7.5000 F             1 RES     \\n      18 F            1.4000     0.0000    -7.5000 F             1 RES     \\n      19 H           -0.0000     0.0000     1.0940 H             1 RES     \\n      20 H            0.0000     0.0000    -8.5940 H             1 RES     \\n@<TRIPOS>BOND\\n       1        2        1 1\\n       2        3        1 1\\n       3        4        1 1\\n       4       19        1 1\\n       5        5        4 1\\n       6        6        4 1\\n       7        7        4 1\\n       8        8        7 1\\n       9        9        7 1\\n      10       10        7 1\\n      11       11       10 1\\n      12       12       10 1\\n      13       13       10 1\\n      14       14       13 1\\n      15       15       13 1\\n      16       16       13 1\\n      17       17       16 1\\n      18       18       16 1\\n      19       20       16 1\\n@<TRIPOS>SUBSTRUCTURE\\n       1 RES             1 RESIDUE    0 **** ROOT      0\\n\",\"mol2\");\n",
       "\tviewer_1623444937497013.setStyle({\"stick\": {\"radius\": 0.2, \"color\": \"grey\"}, \"sphere\": {\"scale\": 0.3, \"colorscheme\": {}}});\n",
       "\tviewer_1623444937497013.zoomTo();\n",
       "viewer_1623444937497013.render();\n",
       "});\n",
       "</script>"
      ]
     },
     "metadata": {},
     "output_type": "display_data"
    },
    {
     "data": {
      "text/plain": [
       "<py3Dmol.view at 0x7fd91d5f45e0>"
      ]
     },
     "execution_count": 8,
     "metadata": {},
     "output_type": "execute_result"
    }
   ],
   "source": [
    "semifluorinated_hexane = mb.recipes.Polymer(monomers=[CH2(), CF2()])\n",
    "semifluorinated_hexane.build(sequence='AAABBB', n=1,)\n",
    "semifluorinated_hexane.visualize()"
   ]
  },
  {
   "cell_type": "markdown",
   "metadata": {},
   "source": [
    "The approach above works fine, but requires changing the sequence argument to adjust the length of each block in the polymer.  \n",
    "\n",
    "Alternatively, we can take advantage of the flexible nature of mBuild, in that the `Polymer` class outputs `Compounds` and can accept as input `Compounds` (i.e., it is not limited to simple monomers). \n",
    "\n",
    "As such, let us call the `Polymer` class 3 times\n",
    "- create the alkane block\n",
    "- create the fluorinated block\n",
    "- stitch the two blocks together\n"
   ]
  },
  {
   "cell_type": "code",
   "execution_count": 9,
   "metadata": {},
   "outputs": [],
   "source": [
    "alkane_block = mb.recipes.Polymer(monomers=[CH2()])\n",
    "alkane_block.build(n=3,)\n",
    "\n",
    "pfa_block = mb.recipes.Polymer(monomers=[CF2()])\n",
    "pfa_block.build(n=3)"
   ]
  },
  {
   "cell_type": "code",
   "execution_count": 10,
   "metadata": {},
   "outputs": [
    {
     "data": {
      "application/3dmoljs_load.v0": "<div id=\"3dmolviewer_1623444937787703\"  style=\"position: relative; width: 640px; height: 480px\">\n        <p id=\"3dmolwarning_1623444937787703\" style=\"background-color:#ffcccc;color:black\">You appear to be running in JupyterLab (or JavaScript failed to load for some other reason).  You need to install the 3dmol extension: <br>\n        <tt>jupyter labextension install jupyterlab_3dmol</tt></p>\n        </div>\n<script>\n\nvar loadScriptAsync = function(uri){\n  return new Promise((resolve, reject) => {\n    var tag = document.createElement('script');\n    tag.src = uri;\n    tag.async = true;\n    tag.onload = () => {\n      resolve();\n    };\n  var firstScriptTag = document.getElementsByTagName('script')[0];\n  firstScriptTag.parentNode.insertBefore(tag, firstScriptTag);\n});\n};\n\nif(typeof $3Dmolpromise === 'undefined') {\n$3Dmolpromise = null;\n  $3Dmolpromise = loadScriptAsync('https://3dmol.org/build/3Dmol.js');\n}\n\nvar viewer_1623444937787703 = null;\nvar warn = document.getElementById(\"3dmolwarning_1623444937787703\");\nif(warn) {\n    warn.parentNode.removeChild(warn);\n}\n$3Dmolpromise.then(function() {\nviewer_1623444937787703 = $3Dmol.createViewer($(\"#3dmolviewer_1623444937787703\"),{backgroundColor:\"white\"});\nviewer_1623444937787703.zoomTo();\n\tviewer_1623444937787703.addModel(\"@<TRIPOS>MOLECULE\\nRES\\n56 55 1 0 1\\nSMALL\\nNO_CHARGES\\n@<TRIPOS>CRYSIN\\n    7.8000    15.0000    30.6580    90.0000    90.0000    90.0000  1  1\\n@<TRIPOS>ATOM\\n       1 C            0.0000     0.0000     0.0000 C             1 RES     \\n       2 H           -1.1000     0.0000     0.0000 H             1 RES     \\n       3 H            1.1000     0.0000     0.0000 H             1 RES     \\n       4 C            0.0000     0.0000    -1.5000 C             1 RES     \\n       5 H           -1.1000     0.0000    -1.5000 H             1 RES     \\n       6 H            1.1000    -0.0000    -1.5000 H             1 RES     \\n       7 C           -0.0000     0.0000    -3.0000 C             1 RES     \\n       8 H           -1.1000     0.0000    -3.0000 H             1 RES     \\n       9 H            1.1000     0.0000    -3.0000 H             1 RES     \\n      10 C            0.0000    -0.0000     4.0940 C             1 RES     \\n      11 F           -1.4000    -0.0000     4.0940 F             1 RES     \\n      12 F            1.4000    -0.0000     4.0940 F             1 RES     \\n      13 C            0.0000    -0.0000     2.5940 C             1 RES     \\n      14 F           -1.4000    -0.0000     2.5940 F             1 RES     \\n      15 F            1.4000    -0.0000     2.5940 F             1 RES     \\n      16 C            0.0000    -0.0000     1.0940 C             1 RES     \\n      17 F           -1.4000    -0.0000     1.0940 F             1 RES     \\n      18 F            1.4000     0.0000     1.0940 F             1 RES     \\n      19 C            0.0000    -0.0000     8.1880 C             1 RES     \\n      20 H           -1.1000    -0.0000     8.1880 H             1 RES     \\n      21 H            1.1000    -0.0000     8.1880 H             1 RES     \\n      22 C            0.0000    -0.0000     6.6880 C             1 RES     \\n      23 H           -1.1000    -0.0000     6.6880 H             1 RES     \\n      24 H            1.1000    -0.0000     6.6880 H             1 RES     \\n      25 C            0.0000    -0.0000     5.1880 C             1 RES     \\n      26 H           -1.1000    -0.0000     5.1880 H             1 RES     \\n      27 H            1.1000    -0.0000     5.1880 H             1 RES     \\n      28 C            0.0000     0.0000    12.2820 C             1 RES     \\n      29 F           -1.4000    -0.0000    12.2820 F             1 RES     \\n      30 F            1.4000     0.0000    12.2820 F             1 RES     \\n      31 C            0.0000    -0.0000    10.7820 C             1 RES     \\n      32 F           -1.4000    -0.0000    10.7820 F             1 RES     \\n      33 F            1.4000     0.0000    10.7820 F             1 RES     \\n      34 C            0.0000    -0.0000     9.2820 C             1 RES     \\n      35 F           -1.4000    -0.0000     9.2820 F             1 RES     \\n      36 F            1.4000     0.0000     9.2820 F             1 RES     \\n      37 C            0.0000     0.0000    16.3760 C             1 RES     \\n      38 H           -1.1000     0.0000    16.3760 H             1 RES     \\n      39 H            1.1000     0.0000    16.3760 H             1 RES     \\n      40 C            0.0000     0.0000    14.8760 C             1 RES     \\n      41 H           -1.1000     0.0000    14.8760 H             1 RES     \\n      42 H            1.1000     0.0000    14.8760 H             1 RES     \\n      43 C            0.0000     0.0000    13.3760 C             1 RES     \\n      44 H           -1.1000     0.0000    13.3760 H             1 RES     \\n      45 H            1.1000     0.0000    13.3760 H             1 RES     \\n      46 C            0.0000     0.0000    20.4700 C             1 RES     \\n      47 F           -1.4000     0.0000    20.4700 F             1 RES     \\n      48 F            1.4000     0.0000    20.4700 F             1 RES     \\n      49 C            0.0000     0.0000    18.9700 C             1 RES     \\n      50 F           -1.4000     0.0000    18.9700 F             1 RES     \\n      51 F            1.4000     0.0000    18.9700 F             1 RES     \\n      52 C            0.0000     0.0000    17.4700 C             1 RES     \\n      53 F           -1.4000     0.0000    17.4700 F             1 RES     \\n      54 F            1.4000     0.0000    17.4700 F             1 RES     \\n      55 H           -0.0000     0.0000    -4.0940 H             1 RES     \\n      56 H            0.0000     0.0000    21.5640 H             1 RES     \\n@<TRIPOS>BOND\\n       1        2        1 1\\n       2        3        1 1\\n       3        4        1 1\\n       4       16        1 1\\n       5        5        4 1\\n       6        6        4 1\\n       7        7        4 1\\n       8       13       16 1\\n       9       17       16 1\\n      10       18       16 1\\n      11        8        7 1\\n      12        9        7 1\\n      13       55        7 1\\n      14       11       10 1\\n      15       12       10 1\\n      16       13       10 1\\n      17       25       10 1\\n      18       14       13 1\\n      19       15       13 1\\n      20       22       25 1\\n      21       26       25 1\\n      22       27       25 1\\n      23       20       19 1\\n      24       21       19 1\\n      25       22       19 1\\n      26       34       19 1\\n      27       23       22 1\\n      28       24       22 1\\n      29       31       34 1\\n      30       35       34 1\\n      31       36       34 1\\n      32       29       28 1\\n      33       30       28 1\\n      34       31       28 1\\n      35       43       28 1\\n      36       32       31 1\\n      37       33       31 1\\n      38       40       43 1\\n      39       44       43 1\\n      40       45       43 1\\n      41       38       37 1\\n      42       39       37 1\\n      43       40       37 1\\n      44       52       37 1\\n      45       41       40 1\\n      46       42       40 1\\n      47       49       52 1\\n      48       53       52 1\\n      49       54       52 1\\n      50       47       46 1\\n      51       48       46 1\\n      52       49       46 1\\n      53       56       46 1\\n      54       50       49 1\\n      55       51       49 1\\n@<TRIPOS>SUBSTRUCTURE\\n       1 RES             1 RESIDUE    0 **** ROOT      0\\n\",\"mol2\");\n\tviewer_1623444937787703.setStyle({\"stick\": {\"radius\": 0.2, \"color\": \"grey\"}, \"sphere\": {\"scale\": 0.3, \"colorscheme\": {}}});\n\tviewer_1623444937787703.zoomTo();\nviewer_1623444937787703.render();\n});\n</script>",
      "text/html": [
       "<div id=\"3dmolviewer_1623444937787703\"  style=\"position: relative; width: 640px; height: 480px\">\n",
       "        <p id=\"3dmolwarning_1623444937787703\" style=\"background-color:#ffcccc;color:black\">You appear to be running in JupyterLab (or JavaScript failed to load for some other reason).  You need to install the 3dmol extension: <br>\n",
       "        <tt>jupyter labextension install jupyterlab_3dmol</tt></p>\n",
       "        </div>\n",
       "<script>\n",
       "\n",
       "var loadScriptAsync = function(uri){\n",
       "  return new Promise((resolve, reject) => {\n",
       "    var tag = document.createElement('script');\n",
       "    tag.src = uri;\n",
       "    tag.async = true;\n",
       "    tag.onload = () => {\n",
       "      resolve();\n",
       "    };\n",
       "  var firstScriptTag = document.getElementsByTagName('script')[0];\n",
       "  firstScriptTag.parentNode.insertBefore(tag, firstScriptTag);\n",
       "});\n",
       "};\n",
       "\n",
       "if(typeof $3Dmolpromise === 'undefined') {\n",
       "$3Dmolpromise = null;\n",
       "  $3Dmolpromise = loadScriptAsync('https://3dmol.org/build/3Dmol.js');\n",
       "}\n",
       "\n",
       "var viewer_1623444937787703 = null;\n",
       "var warn = document.getElementById(\"3dmolwarning_1623444937787703\");\n",
       "if(warn) {\n",
       "    warn.parentNode.removeChild(warn);\n",
       "}\n",
       "$3Dmolpromise.then(function() {\n",
       "viewer_1623444937787703 = $3Dmol.createViewer($(\"#3dmolviewer_1623444937787703\"),{backgroundColor:\"white\"});\n",
       "viewer_1623444937787703.zoomTo();\n",
       "\tviewer_1623444937787703.addModel(\"@<TRIPOS>MOLECULE\\nRES\\n56 55 1 0 1\\nSMALL\\nNO_CHARGES\\n@<TRIPOS>CRYSIN\\n    7.8000    15.0000    30.6580    90.0000    90.0000    90.0000  1  1\\n@<TRIPOS>ATOM\\n       1 C            0.0000     0.0000     0.0000 C             1 RES     \\n       2 H           -1.1000     0.0000     0.0000 H             1 RES     \\n       3 H            1.1000     0.0000     0.0000 H             1 RES     \\n       4 C            0.0000     0.0000    -1.5000 C             1 RES     \\n       5 H           -1.1000     0.0000    -1.5000 H             1 RES     \\n       6 H            1.1000    -0.0000    -1.5000 H             1 RES     \\n       7 C           -0.0000     0.0000    -3.0000 C             1 RES     \\n       8 H           -1.1000     0.0000    -3.0000 H             1 RES     \\n       9 H            1.1000     0.0000    -3.0000 H             1 RES     \\n      10 C            0.0000    -0.0000     4.0940 C             1 RES     \\n      11 F           -1.4000    -0.0000     4.0940 F             1 RES     \\n      12 F            1.4000    -0.0000     4.0940 F             1 RES     \\n      13 C            0.0000    -0.0000     2.5940 C             1 RES     \\n      14 F           -1.4000    -0.0000     2.5940 F             1 RES     \\n      15 F            1.4000    -0.0000     2.5940 F             1 RES     \\n      16 C            0.0000    -0.0000     1.0940 C             1 RES     \\n      17 F           -1.4000    -0.0000     1.0940 F             1 RES     \\n      18 F            1.4000     0.0000     1.0940 F             1 RES     \\n      19 C            0.0000    -0.0000     8.1880 C             1 RES     \\n      20 H           -1.1000    -0.0000     8.1880 H             1 RES     \\n      21 H            1.1000    -0.0000     8.1880 H             1 RES     \\n      22 C            0.0000    -0.0000     6.6880 C             1 RES     \\n      23 H           -1.1000    -0.0000     6.6880 H             1 RES     \\n      24 H            1.1000    -0.0000     6.6880 H             1 RES     \\n      25 C            0.0000    -0.0000     5.1880 C             1 RES     \\n      26 H           -1.1000    -0.0000     5.1880 H             1 RES     \\n      27 H            1.1000    -0.0000     5.1880 H             1 RES     \\n      28 C            0.0000     0.0000    12.2820 C             1 RES     \\n      29 F           -1.4000    -0.0000    12.2820 F             1 RES     \\n      30 F            1.4000     0.0000    12.2820 F             1 RES     \\n      31 C            0.0000    -0.0000    10.7820 C             1 RES     \\n      32 F           -1.4000    -0.0000    10.7820 F             1 RES     \\n      33 F            1.4000     0.0000    10.7820 F             1 RES     \\n      34 C            0.0000    -0.0000     9.2820 C             1 RES     \\n      35 F           -1.4000    -0.0000     9.2820 F             1 RES     \\n      36 F            1.4000     0.0000     9.2820 F             1 RES     \\n      37 C            0.0000     0.0000    16.3760 C             1 RES     \\n      38 H           -1.1000     0.0000    16.3760 H             1 RES     \\n      39 H            1.1000     0.0000    16.3760 H             1 RES     \\n      40 C            0.0000     0.0000    14.8760 C             1 RES     \\n      41 H           -1.1000     0.0000    14.8760 H             1 RES     \\n      42 H            1.1000     0.0000    14.8760 H             1 RES     \\n      43 C            0.0000     0.0000    13.3760 C             1 RES     \\n      44 H           -1.1000     0.0000    13.3760 H             1 RES     \\n      45 H            1.1000     0.0000    13.3760 H             1 RES     \\n      46 C            0.0000     0.0000    20.4700 C             1 RES     \\n      47 F           -1.4000     0.0000    20.4700 F             1 RES     \\n      48 F            1.4000     0.0000    20.4700 F             1 RES     \\n      49 C            0.0000     0.0000    18.9700 C             1 RES     \\n      50 F           -1.4000     0.0000    18.9700 F             1 RES     \\n      51 F            1.4000     0.0000    18.9700 F             1 RES     \\n      52 C            0.0000     0.0000    17.4700 C             1 RES     \\n      53 F           -1.4000     0.0000    17.4700 F             1 RES     \\n      54 F            1.4000     0.0000    17.4700 F             1 RES     \\n      55 H           -0.0000     0.0000    -4.0940 H             1 RES     \\n      56 H            0.0000     0.0000    21.5640 H             1 RES     \\n@<TRIPOS>BOND\\n       1        2        1 1\\n       2        3        1 1\\n       3        4        1 1\\n       4       16        1 1\\n       5        5        4 1\\n       6        6        4 1\\n       7        7        4 1\\n       8       13       16 1\\n       9       17       16 1\\n      10       18       16 1\\n      11        8        7 1\\n      12        9        7 1\\n      13       55        7 1\\n      14       11       10 1\\n      15       12       10 1\\n      16       13       10 1\\n      17       25       10 1\\n      18       14       13 1\\n      19       15       13 1\\n      20       22       25 1\\n      21       26       25 1\\n      22       27       25 1\\n      23       20       19 1\\n      24       21       19 1\\n      25       22       19 1\\n      26       34       19 1\\n      27       23       22 1\\n      28       24       22 1\\n      29       31       34 1\\n      30       35       34 1\\n      31       36       34 1\\n      32       29       28 1\\n      33       30       28 1\\n      34       31       28 1\\n      35       43       28 1\\n      36       32       31 1\\n      37       33       31 1\\n      38       40       43 1\\n      39       44       43 1\\n      40       45       43 1\\n      41       38       37 1\\n      42       39       37 1\\n      43       40       37 1\\n      44       52       37 1\\n      45       41       40 1\\n      46       42       40 1\\n      47       49       52 1\\n      48       53       52 1\\n      49       54       52 1\\n      50       47       46 1\\n      51       48       46 1\\n      52       49       46 1\\n      53       56       46 1\\n      54       50       49 1\\n      55       51       49 1\\n@<TRIPOS>SUBSTRUCTURE\\n       1 RES             1 RESIDUE    0 **** ROOT      0\\n\",\"mol2\");\n",
       "\tviewer_1623444937787703.setStyle({\"stick\": {\"radius\": 0.2, \"color\": \"grey\"}, \"sphere\": {\"scale\": 0.3, \"colorscheme\": {}}});\n",
       "\tviewer_1623444937787703.zoomTo();\n",
       "viewer_1623444937787703.render();\n",
       "});\n",
       "</script>"
      ]
     },
     "metadata": {},
     "output_type": "display_data"
    },
    {
     "data": {
      "text/plain": [
       "<py3Dmol.view at 0x7fd91d903e20>"
      ]
     },
     "execution_count": 10,
     "metadata": {},
     "output_type": "execute_result"
    }
   ],
   "source": [
    "semifluorinated_hexane = mb.recipes.Polymer()\n",
    "semifluorinated_hexane.add_monomer(compound=alkane_block, indices=[10, 9])\n",
    "semifluorinated_hexane.add_monomer(compound=pfa_block, indices=[10, 9])\n",
    "\n",
    "semifluorinated_hexane.build(n=3,sequence='AB')\n",
    "semifluorinated_hexane.visualize()"
   ]
  },
  {
   "cell_type": "markdown",
   "metadata": {},
   "source": [
    "This of course can be wrapped in a flexible class that takes the length of each block as an argument, similar to what has been done in prior tutorials.  "
   ]
  },
  {
   "cell_type": "code",
   "execution_count": 11,
   "metadata": {},
   "outputs": [
    {
     "data": {
      "application/3dmoljs_load.v0": "<div id=\"3dmolviewer_1623444938168722\"  style=\"position: relative; width: 640px; height: 480px\">\n        <p id=\"3dmolwarning_1623444938168722\" style=\"background-color:#ffcccc;color:black\">You appear to be running in JupyterLab (or JavaScript failed to load for some other reason).  You need to install the 3dmol extension: <br>\n        <tt>jupyter labextension install jupyterlab_3dmol</tt></p>\n        </div>\n<script>\n\nvar loadScriptAsync = function(uri){\n  return new Promise((resolve, reject) => {\n    var tag = document.createElement('script');\n    tag.src = uri;\n    tag.async = true;\n    tag.onload = () => {\n      resolve();\n    };\n  var firstScriptTag = document.getElementsByTagName('script')[0];\n  firstScriptTag.parentNode.insertBefore(tag, firstScriptTag);\n});\n};\n\nif(typeof $3Dmolpromise === 'undefined') {\n$3Dmolpromise = null;\n  $3Dmolpromise = loadScriptAsync('https://3dmol.org/build/3Dmol.js');\n}\n\nvar viewer_1623444938168722 = null;\nvar warn = document.getElementById(\"3dmolwarning_1623444938168722\");\nif(warn) {\n    warn.parentNode.removeChild(warn);\n}\n$3Dmolpromise.then(function() {\nviewer_1623444938168722 = $3Dmol.createViewer($(\"#3dmolviewer_1623444938168722\"),{backgroundColor:\"white\"});\nviewer_1623444938168722.zoomTo();\n\tviewer_1623444938168722.addModel(\"@<TRIPOS>MOLECULE\\nRES\\n74 73 1 0 1\\nSMALL\\nNO_CHARGES\\n@<TRIPOS>CRYSIN\\n    7.8000    15.0000    39.6580    90.0000    90.0000    90.0000  1  1\\n@<TRIPOS>ATOM\\n       1 C            0.0000     0.0000     0.0000 C             1 RES     \\n       2 H           -1.1000     0.0000     0.0000 H             1 RES     \\n       3 H            1.1000     0.0000     0.0000 H             1 RES     \\n       4 C            0.0000     0.0000    -1.5000 C             1 RES     \\n       5 H           -1.1000     0.0000    -1.5000 H             1 RES     \\n       6 H            1.1000    -0.0000    -1.5000 H             1 RES     \\n       7 C           -0.0000     0.0000    -3.0000 C             1 RES     \\n       8 H           -1.1000     0.0000    -3.0000 H             1 RES     \\n       9 H            1.1000     0.0000    -3.0000 H             1 RES     \\n      10 C           -0.0000     0.0000    -4.5000 C             1 RES     \\n      11 H           -1.1000     0.0000    -4.5000 H             1 RES     \\n      12 H            1.1000     0.0000    -4.5000 H             1 RES     \\n      13 C            0.0000     0.0000    -6.0000 C             1 RES     \\n      14 H           -1.1000     0.0000    -6.0000 H             1 RES     \\n      15 H            1.1000     0.0000    -6.0000 H             1 RES     \\n      16 C            0.0000    -0.0000     4.0940 C             1 RES     \\n      17 F           -1.4000    -0.0000     4.0940 F             1 RES     \\n      18 F            1.4000    -0.0000     4.0940 F             1 RES     \\n      19 C            0.0000    -0.0000     2.5940 C             1 RES     \\n      20 F           -1.4000    -0.0000     2.5940 F             1 RES     \\n      21 F            1.4000    -0.0000     2.5940 F             1 RES     \\n      22 C            0.0000    -0.0000     1.0940 C             1 RES     \\n      23 F           -1.4000    -0.0000     1.0940 F             1 RES     \\n      24 F            1.4000     0.0000     1.0940 F             1 RES     \\n      25 C            0.0000    -0.0000    11.1880 C             1 RES     \\n      26 H           -1.1000    -0.0000    11.1880 H             1 RES     \\n      27 H            1.1000     0.0000    11.1880 H             1 RES     \\n      28 C            0.0000    -0.0000     9.6880 C             1 RES     \\n      29 H           -1.1000    -0.0000     9.6880 H             1 RES     \\n      30 H            1.1000    -0.0000     9.6880 H             1 RES     \\n      31 C            0.0000    -0.0000     8.1880 C             1 RES     \\n      32 H           -1.1000    -0.0000     8.1880 H             1 RES     \\n      33 H            1.1000    -0.0000     8.1880 H             1 RES     \\n      34 C            0.0000    -0.0000     6.6880 C             1 RES     \\n      35 H           -1.1000    -0.0000     6.6880 H             1 RES     \\n      36 H            1.1000    -0.0000     6.6880 H             1 RES     \\n      37 C            0.0000    -0.0000     5.1880 C             1 RES     \\n      38 H           -1.1000    -0.0000     5.1880 H             1 RES     \\n      39 H            1.1000    -0.0000     5.1880 H             1 RES     \\n      40 C            0.0000    -0.0000    15.2820 C             1 RES     \\n      41 F           -1.4000    -0.0000    15.2820 F             1 RES     \\n      42 F            1.4000     0.0000    15.2820 F             1 RES     \\n      43 C            0.0000    -0.0000    13.7820 C             1 RES     \\n      44 F           -1.4000    -0.0000    13.7820 F             1 RES     \\n      45 F            1.4000     0.0000    13.7820 F             1 RES     \\n      46 C            0.0000    -0.0000    12.2820 C             1 RES     \\n      47 F           -1.4000    -0.0000    12.2820 F             1 RES     \\n      48 F            1.4000     0.0000    12.2820 F             1 RES     \\n      49 C            0.0000    -0.0000    22.3760 C             1 RES     \\n      50 H           -1.1000    -0.0000    22.3760 H             1 RES     \\n      51 H            1.1000     0.0000    22.3760 H             1 RES     \\n      52 C            0.0000    -0.0000    20.8760 C             1 RES     \\n      53 H           -1.1000    -0.0000    20.8760 H             1 RES     \\n      54 H            1.1000     0.0000    20.8760 H             1 RES     \\n      55 C            0.0000    -0.0000    19.3760 C             1 RES     \\n      56 H           -1.1000    -0.0000    19.3760 H             1 RES     \\n      57 H            1.1000     0.0000    19.3760 H             1 RES     \\n      58 C            0.0000    -0.0000    17.8760 C             1 RES     \\n      59 H           -1.1000    -0.0000    17.8760 H             1 RES     \\n      60 H            1.1000     0.0000    17.8760 H             1 RES     \\n      61 C            0.0000    -0.0000    16.3760 C             1 RES     \\n      62 H           -1.1000    -0.0000    16.3760 H             1 RES     \\n      63 H            1.1000     0.0000    16.3760 H             1 RES     \\n      64 C            0.0000    -0.0000    26.4700 C             1 RES     \\n      65 F           -1.4000    -0.0000    26.4700 F             1 RES     \\n      66 F            1.4000     0.0000    26.4700 F             1 RES     \\n      67 C            0.0000    -0.0000    24.9700 C             1 RES     \\n      68 F           -1.4000    -0.0000    24.9700 F             1 RES     \\n      69 F            1.4000     0.0000    24.9700 F             1 RES     \\n      70 C            0.0000    -0.0000    23.4700 C             1 RES     \\n      71 F           -1.4000    -0.0000    23.4700 F             1 RES     \\n      72 F            1.4000     0.0000    23.4700 F             1 RES     \\n      73 H            0.0000     0.0000    -7.0940 H             1 RES     \\n      74 H            0.0000     0.0000    27.5640 H             1 RES     \\n@<TRIPOS>BOND\\n       1        2        1 1\\n       2        3        1 1\\n       3        4        1 1\\n       4       22        1 1\\n       5        5        4 1\\n       6        6        4 1\\n       7        7        4 1\\n       8       19       22 1\\n       9       23       22 1\\n      10       24       22 1\\n      11        8        7 1\\n      12        9        7 1\\n      13       10        7 1\\n      14       11       10 1\\n      15       12       10 1\\n      16       13       10 1\\n      17       14       13 1\\n      18       15       13 1\\n      19       73       13 1\\n      20       17       16 1\\n      21       18       16 1\\n      22       19       16 1\\n      23       37       16 1\\n      24       20       19 1\\n      25       21       19 1\\n      26       34       37 1\\n      27       38       37 1\\n      28       39       37 1\\n      29       26       25 1\\n      30       27       25 1\\n      31       28       25 1\\n      32       46       25 1\\n      33       29       28 1\\n      34       30       28 1\\n      35       31       28 1\\n      36       43       46 1\\n      37       47       46 1\\n      38       48       46 1\\n      39       32       31 1\\n      40       33       31 1\\n      41       34       31 1\\n      42       35       34 1\\n      43       36       34 1\\n      44       41       40 1\\n      45       42       40 1\\n      46       43       40 1\\n      47       61       40 1\\n      48       44       43 1\\n      49       45       43 1\\n      50       58       61 1\\n      51       62       61 1\\n      52       63       61 1\\n      53       50       49 1\\n      54       51       49 1\\n      55       52       49 1\\n      56       70       49 1\\n      57       53       52 1\\n      58       54       52 1\\n      59       55       52 1\\n      60       67       70 1\\n      61       71       70 1\\n      62       72       70 1\\n      63       56       55 1\\n      64       57       55 1\\n      65       58       55 1\\n      66       59       58 1\\n      67       60       58 1\\n      68       65       64 1\\n      69       66       64 1\\n      70       67       64 1\\n      71       74       64 1\\n      72       68       67 1\\n      73       69       67 1\\n@<TRIPOS>SUBSTRUCTURE\\n       1 RES             1 RESIDUE    0 **** ROOT      0\\n\",\"mol2\");\n\tviewer_1623444938168722.setStyle({\"stick\": {\"radius\": 0.2, \"color\": \"grey\"}, \"sphere\": {\"scale\": 0.3, \"colorscheme\": {}}});\n\tviewer_1623444938168722.zoomTo();\nviewer_1623444938168722.render();\n});\n</script>",
      "text/html": [
       "<div id=\"3dmolviewer_1623444938168722\"  style=\"position: relative; width: 640px; height: 480px\">\n",
       "        <p id=\"3dmolwarning_1623444938168722\" style=\"background-color:#ffcccc;color:black\">You appear to be running in JupyterLab (or JavaScript failed to load for some other reason).  You need to install the 3dmol extension: <br>\n",
       "        <tt>jupyter labextension install jupyterlab_3dmol</tt></p>\n",
       "        </div>\n",
       "<script>\n",
       "\n",
       "var loadScriptAsync = function(uri){\n",
       "  return new Promise((resolve, reject) => {\n",
       "    var tag = document.createElement('script');\n",
       "    tag.src = uri;\n",
       "    tag.async = true;\n",
       "    tag.onload = () => {\n",
       "      resolve();\n",
       "    };\n",
       "  var firstScriptTag = document.getElementsByTagName('script')[0];\n",
       "  firstScriptTag.parentNode.insertBefore(tag, firstScriptTag);\n",
       "});\n",
       "};\n",
       "\n",
       "if(typeof $3Dmolpromise === 'undefined') {\n",
       "$3Dmolpromise = null;\n",
       "  $3Dmolpromise = loadScriptAsync('https://3dmol.org/build/3Dmol.js');\n",
       "}\n",
       "\n",
       "var viewer_1623444938168722 = null;\n",
       "var warn = document.getElementById(\"3dmolwarning_1623444938168722\");\n",
       "if(warn) {\n",
       "    warn.parentNode.removeChild(warn);\n",
       "}\n",
       "$3Dmolpromise.then(function() {\n",
       "viewer_1623444938168722 = $3Dmol.createViewer($(\"#3dmolviewer_1623444938168722\"),{backgroundColor:\"white\"});\n",
       "viewer_1623444938168722.zoomTo();\n",
       "\tviewer_1623444938168722.addModel(\"@<TRIPOS>MOLECULE\\nRES\\n74 73 1 0 1\\nSMALL\\nNO_CHARGES\\n@<TRIPOS>CRYSIN\\n    7.8000    15.0000    39.6580    90.0000    90.0000    90.0000  1  1\\n@<TRIPOS>ATOM\\n       1 C            0.0000     0.0000     0.0000 C             1 RES     \\n       2 H           -1.1000     0.0000     0.0000 H             1 RES     \\n       3 H            1.1000     0.0000     0.0000 H             1 RES     \\n       4 C            0.0000     0.0000    -1.5000 C             1 RES     \\n       5 H           -1.1000     0.0000    -1.5000 H             1 RES     \\n       6 H            1.1000    -0.0000    -1.5000 H             1 RES     \\n       7 C           -0.0000     0.0000    -3.0000 C             1 RES     \\n       8 H           -1.1000     0.0000    -3.0000 H             1 RES     \\n       9 H            1.1000     0.0000    -3.0000 H             1 RES     \\n      10 C           -0.0000     0.0000    -4.5000 C             1 RES     \\n      11 H           -1.1000     0.0000    -4.5000 H             1 RES     \\n      12 H            1.1000     0.0000    -4.5000 H             1 RES     \\n      13 C            0.0000     0.0000    -6.0000 C             1 RES     \\n      14 H           -1.1000     0.0000    -6.0000 H             1 RES     \\n      15 H            1.1000     0.0000    -6.0000 H             1 RES     \\n      16 C            0.0000    -0.0000     4.0940 C             1 RES     \\n      17 F           -1.4000    -0.0000     4.0940 F             1 RES     \\n      18 F            1.4000    -0.0000     4.0940 F             1 RES     \\n      19 C            0.0000    -0.0000     2.5940 C             1 RES     \\n      20 F           -1.4000    -0.0000     2.5940 F             1 RES     \\n      21 F            1.4000    -0.0000     2.5940 F             1 RES     \\n      22 C            0.0000    -0.0000     1.0940 C             1 RES     \\n      23 F           -1.4000    -0.0000     1.0940 F             1 RES     \\n      24 F            1.4000     0.0000     1.0940 F             1 RES     \\n      25 C            0.0000    -0.0000    11.1880 C             1 RES     \\n      26 H           -1.1000    -0.0000    11.1880 H             1 RES     \\n      27 H            1.1000     0.0000    11.1880 H             1 RES     \\n      28 C            0.0000    -0.0000     9.6880 C             1 RES     \\n      29 H           -1.1000    -0.0000     9.6880 H             1 RES     \\n      30 H            1.1000    -0.0000     9.6880 H             1 RES     \\n      31 C            0.0000    -0.0000     8.1880 C             1 RES     \\n      32 H           -1.1000    -0.0000     8.1880 H             1 RES     \\n      33 H            1.1000    -0.0000     8.1880 H             1 RES     \\n      34 C            0.0000    -0.0000     6.6880 C             1 RES     \\n      35 H           -1.1000    -0.0000     6.6880 H             1 RES     \\n      36 H            1.1000    -0.0000     6.6880 H             1 RES     \\n      37 C            0.0000    -0.0000     5.1880 C             1 RES     \\n      38 H           -1.1000    -0.0000     5.1880 H             1 RES     \\n      39 H            1.1000    -0.0000     5.1880 H             1 RES     \\n      40 C            0.0000    -0.0000    15.2820 C             1 RES     \\n      41 F           -1.4000    -0.0000    15.2820 F             1 RES     \\n      42 F            1.4000     0.0000    15.2820 F             1 RES     \\n      43 C            0.0000    -0.0000    13.7820 C             1 RES     \\n      44 F           -1.4000    -0.0000    13.7820 F             1 RES     \\n      45 F            1.4000     0.0000    13.7820 F             1 RES     \\n      46 C            0.0000    -0.0000    12.2820 C             1 RES     \\n      47 F           -1.4000    -0.0000    12.2820 F             1 RES     \\n      48 F            1.4000     0.0000    12.2820 F             1 RES     \\n      49 C            0.0000    -0.0000    22.3760 C             1 RES     \\n      50 H           -1.1000    -0.0000    22.3760 H             1 RES     \\n      51 H            1.1000     0.0000    22.3760 H             1 RES     \\n      52 C            0.0000    -0.0000    20.8760 C             1 RES     \\n      53 H           -1.1000    -0.0000    20.8760 H             1 RES     \\n      54 H            1.1000     0.0000    20.8760 H             1 RES     \\n      55 C            0.0000    -0.0000    19.3760 C             1 RES     \\n      56 H           -1.1000    -0.0000    19.3760 H             1 RES     \\n      57 H            1.1000     0.0000    19.3760 H             1 RES     \\n      58 C            0.0000    -0.0000    17.8760 C             1 RES     \\n      59 H           -1.1000    -0.0000    17.8760 H             1 RES     \\n      60 H            1.1000     0.0000    17.8760 H             1 RES     \\n      61 C            0.0000    -0.0000    16.3760 C             1 RES     \\n      62 H           -1.1000    -0.0000    16.3760 H             1 RES     \\n      63 H            1.1000     0.0000    16.3760 H             1 RES     \\n      64 C            0.0000    -0.0000    26.4700 C             1 RES     \\n      65 F           -1.4000    -0.0000    26.4700 F             1 RES     \\n      66 F            1.4000     0.0000    26.4700 F             1 RES     \\n      67 C            0.0000    -0.0000    24.9700 C             1 RES     \\n      68 F           -1.4000    -0.0000    24.9700 F             1 RES     \\n      69 F            1.4000     0.0000    24.9700 F             1 RES     \\n      70 C            0.0000    -0.0000    23.4700 C             1 RES     \\n      71 F           -1.4000    -0.0000    23.4700 F             1 RES     \\n      72 F            1.4000     0.0000    23.4700 F             1 RES     \\n      73 H            0.0000     0.0000    -7.0940 H             1 RES     \\n      74 H            0.0000     0.0000    27.5640 H             1 RES     \\n@<TRIPOS>BOND\\n       1        2        1 1\\n       2        3        1 1\\n       3        4        1 1\\n       4       22        1 1\\n       5        5        4 1\\n       6        6        4 1\\n       7        7        4 1\\n       8       19       22 1\\n       9       23       22 1\\n      10       24       22 1\\n      11        8        7 1\\n      12        9        7 1\\n      13       10        7 1\\n      14       11       10 1\\n      15       12       10 1\\n      16       13       10 1\\n      17       14       13 1\\n      18       15       13 1\\n      19       73       13 1\\n      20       17       16 1\\n      21       18       16 1\\n      22       19       16 1\\n      23       37       16 1\\n      24       20       19 1\\n      25       21       19 1\\n      26       34       37 1\\n      27       38       37 1\\n      28       39       37 1\\n      29       26       25 1\\n      30       27       25 1\\n      31       28       25 1\\n      32       46       25 1\\n      33       29       28 1\\n      34       30       28 1\\n      35       31       28 1\\n      36       43       46 1\\n      37       47       46 1\\n      38       48       46 1\\n      39       32       31 1\\n      40       33       31 1\\n      41       34       31 1\\n      42       35       34 1\\n      43       36       34 1\\n      44       41       40 1\\n      45       42       40 1\\n      46       43       40 1\\n      47       61       40 1\\n      48       44       43 1\\n      49       45       43 1\\n      50       58       61 1\\n      51       62       61 1\\n      52       63       61 1\\n      53       50       49 1\\n      54       51       49 1\\n      55       52       49 1\\n      56       70       49 1\\n      57       53       52 1\\n      58       54       52 1\\n      59       55       52 1\\n      60       67       70 1\\n      61       71       70 1\\n      62       72       70 1\\n      63       56       55 1\\n      64       57       55 1\\n      65       58       55 1\\n      66       59       58 1\\n      67       60       58 1\\n      68       65       64 1\\n      69       66       64 1\\n      70       67       64 1\\n      71       74       64 1\\n      72       68       67 1\\n      73       69       67 1\\n@<TRIPOS>SUBSTRUCTURE\\n       1 RES             1 RESIDUE    0 **** ROOT      0\\n\",\"mol2\");\n",
       "\tviewer_1623444938168722.setStyle({\"stick\": {\"radius\": 0.2, \"color\": \"grey\"}, \"sphere\": {\"scale\": 0.3, \"colorscheme\": {}}});\n",
       "\tviewer_1623444938168722.zoomTo();\n",
       "viewer_1623444938168722.render();\n",
       "});\n",
       "</script>"
      ]
     },
     "metadata": {},
     "output_type": "display_data"
    },
    {
     "data": {
      "text/plain": [
       "<py3Dmol.view at 0x7fd91dd27970>"
      ]
     },
     "execution_count": 11,
     "metadata": {},
     "output_type": "execute_result"
    }
   ],
   "source": [
    "class Semifluorinated(mb.Compound):\n",
    "    def __init__(self, alkane_length, pfa_length):\n",
    "        super(Semifluorinated, self).__init__()\n",
    "        \n",
    "        \n",
    "        alkane_block = mb.recipes.Polymer(monomers=[CH2()])\n",
    "        alkane_block.build(n=alkane_length,)\n",
    "\n",
    "        pfa_block = mb.recipes.Polymer(monomers=[CF2()])\n",
    "        pfa_block.build(n=pfa_length)\n",
    "\n",
    "        semifluorinated_hexane = mb.recipes.Polymer()\n",
    "        semifluorinated_hexane.add_monomer(compound=alkane_block, indices=[(3*alkane_length) + 1, 3*alkane_length])\n",
    "        semifluorinated_hexane.add_monomer(compound=pfa_block, indices=[(3*pfa_length) + 1, 3*pfa_length])\n",
    "\n",
    "        semifluorinated_hexane.build(n=3, sequence='AB')\n",
    "        self.add(semifluorinated_hexane)\n",
    "\n",
    "semifluorinated_alkane = Semifluorinated(alkane_length=5, pfa_length=3)\n",
    "semifluorinated_alkane.visualize()"
   ]
  },
  {
   "cell_type": "markdown",
   "metadata": {
    "collapsed": true
   },
   "source": [
    "## Recap\n",
    "\n",
    "The goal of this tutorial was to demonstrate how to use mBuild's `Polymer` class to create polymers with user-defined sequences.\n",
    "\n",
    "The next tutorial will teach you how you can use mBuild to functionalize surfaces."
   ]
  }
 ],
 "metadata": {
  "kernelspec": {
   "display_name": "Python 3",
   "language": "python",
   "name": "python3"
  },
  "language_info": {
   "codemirror_mode": {
    "name": "ipython",
    "version": 3
   },
   "file_extension": ".py",
   "mimetype": "text/x-python",
   "name": "python",
   "nbconvert_exporter": "python",
   "pygments_lexer": "ipython3",
   "version": "3.8.10"
  }
 },
 "nbformat": 4,
 "nbformat_minor": 2
}
