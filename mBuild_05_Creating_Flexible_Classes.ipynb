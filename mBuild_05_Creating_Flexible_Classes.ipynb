{
 "cells": [
  {
   "cell_type": "markdown",
   "metadata": {
    "collapsed": true
   },
   "source": [
    "# mBuild Tutorial 05: Creating Flexible Classes\n",
    "\n",
    "This tutorial demonstrates how to write flexible classes that can be used to create families of `Compounds`.  In particular, the previous class we wrote to create butane is extended to allow construction of linear alkanes of arbitrary chain length."
   ]
  },
  {
   "cell_type": "markdown",
   "metadata": {},
   "source": [
    "As in the prior tutorials, we need to first import mbuild (here as `mb`).\n",
    "\n",
    "We also introduce a filter for somewarnings to provide cleaner output."
   ]
  },
  {
   "cell_type": "code",
   "execution_count": 1,
   "metadata": {},
   "outputs": [],
   "source": [
    "import warnings\n",
    "warnings.filterwarnings('ignore')\n",
    "\n",
    "import mbuild as mb"
   ]
  },
  {
   "cell_type": "markdown",
   "metadata": {},
   "source": [
    "In the previous few tutorials we found that we could create reusable `Compounds` by wrapping routines for creating particles and bonds into a class. However, if we have to create a new class for each molecule we want to examine this would still be quite cumbersome, particularly if we desired to screen over a large chemical parameter space. Fortunately, this problem is easily solved by including additional arguments with the class constructor. In this way, one or more top-level variables describing the molecular chemistry can be  used to create a whole family of molecules. \n",
    "\n",
    "We'll demonstrate that here by modifying the Butane class, defined in the previous tutorial, to now allow for the creation of any linear alkane by adding a `chain_length` argument.\n",
    "\n",
    "Note, rather than defining the CH2 and H classes again, we will use the classes for these that are included in the mBuild library."
   ]
  },
  {
   "cell_type": "code",
   "execution_count": 2,
   "metadata": {},
   "outputs": [],
   "source": [
    "from mbuild.lib.atoms import H\n",
    "from mbuild.lib.moieties import CH2\n",
    "\n",
    "class Alkane(mb.Compound):\n",
    "    def __init__(self, chain_length):\n",
    "        super(Alkane, self).__init__()\n",
    "        \n",
    "        hydrogen = H()\n",
    "        last_unit = CH2()\n",
    "        mb.force_overlap(move_this=hydrogen,\n",
    "                         from_positions=hydrogen['up'],\n",
    "                         to_positions=last_unit['up'])\n",
    "        self.add(last_unit, label='ch2[$]')\n",
    "        self.add(hydrogen, label='up-cap')\n",
    "        for _ in range(chain_length - 1):\n",
    "            current_unit = CH2()\n",
    "            mb.force_overlap(move_this=current_unit,\n",
    "                             from_positions=current_unit['up'],\n",
    "                             to_positions=last_unit['down'])\n",
    "            self.add(current_unit, label='ch2[$]')\n",
    "            last_unit=current_unit\n",
    "        hydrogen = H()\n",
    "        mb.force_overlap(move_this=hydrogen,\n",
    "                         from_positions=hydrogen['up'],\n",
    "                         to_positions=last_unit['down'])\n",
    "        self.add(hydrogen, label='down-cap')"
   ]
  },
  {
   "cell_type": "markdown",
   "metadata": {},
   "source": [
    "We can now create any linear alkane by simply providing a different value for `chain_length` upon instantiation."
   ]
  },
  {
   "cell_type": "code",
   "execution_count": 3,
   "metadata": {},
   "outputs": [
    {
     "data": {
      "application/3dmoljs_load.v0": "<div id=\"3dmolviewer_1623442297871716\"  style=\"position: relative; width: 640px; height: 480px\">\n        <p id=\"3dmolwarning_1623442297871716\" style=\"background-color:#ffcccc;color:black\">You appear to be running in JupyterLab (or JavaScript failed to load for some other reason).  You need to install the 3dmol extension: <br>\n        <tt>jupyter labextension install jupyterlab_3dmol</tt></p>\n        </div>\n<script>\n\nvar loadScriptAsync = function(uri){\n  return new Promise((resolve, reject) => {\n    var tag = document.createElement('script');\n    tag.src = uri;\n    tag.async = true;\n    tag.onload = () => {\n      resolve();\n    };\n  var firstScriptTag = document.getElementsByTagName('script')[0];\n  firstScriptTag.parentNode.insertBefore(tag, firstScriptTag);\n});\n};\n\nif(typeof $3Dmolpromise === 'undefined') {\n$3Dmolpromise = null;\n  $3Dmolpromise = loadScriptAsync('https://3dmol.org/build/3Dmol.js');\n}\n\nvar viewer_1623442297871716 = null;\nvar warn = document.getElementById(\"3dmolwarning_1623442297871716\");\nif(warn) {\n    warn.parentNode.removeChild(warn);\n}\n$3Dmolpromise.then(function() {\nviewer_1623442297871716 = $3Dmol.createViewer($(\"#3dmolviewer_1623442297871716\"),{backgroundColor:\"white\"});\nviewer_1623442297871716.zoomTo();\n\tviewer_1623442297871716.addModel(\"@<TRIPOS>MOLECULE\\nRES\\n8 7 1 0 1\\nSMALL\\nNO_CHARGES\\n@<TRIPOS>CRYSIN\\n    7.2000     9.2000    15.0000    90.0000    90.0000    90.0000  1  1\\n@<TRIPOS>ATOM\\n       1 C            0.0000     0.0000     0.0000 C             1 RES     \\n       2 H           -1.1000     0.0000     0.0000 H             1 RES     \\n       3 H            1.1000     0.0000     0.0000 H             1 RES     \\n       4 H           -0.0000     1.4000     0.0000 H             1 RES     \\n       5 C            0.0000    -1.4000     0.0000 C             1 RES     \\n       6 H           -1.1000    -1.4000    -0.0000 H             1 RES     \\n       7 H            1.1000    -1.4000     0.0000 H             1 RES     \\n       8 H            0.0000    -2.8000     0.0000 H             1 RES     \\n@<TRIPOS>BOND\\n       1        1        2 1\\n       2        3        1 1\\n       3        4        1 1\\n       4        5        1 1\\n       5        8        5 1\\n       6        6        5 1\\n       7        7        5 1\\n@<TRIPOS>SUBSTRUCTURE\\n       1 RES             1 RESIDUE    0 **** ROOT      0\\n\",\"mol2\");\n\tviewer_1623442297871716.setStyle({\"stick\": {\"radius\": 0.2, \"color\": \"grey\"}, \"sphere\": {\"scale\": 0.3, \"colorscheme\": {}}});\n\tviewer_1623442297871716.zoomTo();\nviewer_1623442297871716.render();\n});\n</script>",
      "text/html": [
       "<div id=\"3dmolviewer_1623442297871716\"  style=\"position: relative; width: 640px; height: 480px\">\n",
       "        <p id=\"3dmolwarning_1623442297871716\" style=\"background-color:#ffcccc;color:black\">You appear to be running in JupyterLab (or JavaScript failed to load for some other reason).  You need to install the 3dmol extension: <br>\n",
       "        <tt>jupyter labextension install jupyterlab_3dmol</tt></p>\n",
       "        </div>\n",
       "<script>\n",
       "\n",
       "var loadScriptAsync = function(uri){\n",
       "  return new Promise((resolve, reject) => {\n",
       "    var tag = document.createElement('script');\n",
       "    tag.src = uri;\n",
       "    tag.async = true;\n",
       "    tag.onload = () => {\n",
       "      resolve();\n",
       "    };\n",
       "  var firstScriptTag = document.getElementsByTagName('script')[0];\n",
       "  firstScriptTag.parentNode.insertBefore(tag, firstScriptTag);\n",
       "});\n",
       "};\n",
       "\n",
       "if(typeof $3Dmolpromise === 'undefined') {\n",
       "$3Dmolpromise = null;\n",
       "  $3Dmolpromise = loadScriptAsync('https://3dmol.org/build/3Dmol.js');\n",
       "}\n",
       "\n",
       "var viewer_1623442297871716 = null;\n",
       "var warn = document.getElementById(\"3dmolwarning_1623442297871716\");\n",
       "if(warn) {\n",
       "    warn.parentNode.removeChild(warn);\n",
       "}\n",
       "$3Dmolpromise.then(function() {\n",
       "viewer_1623442297871716 = $3Dmol.createViewer($(\"#3dmolviewer_1623442297871716\"),{backgroundColor:\"white\"});\n",
       "viewer_1623442297871716.zoomTo();\n",
       "\tviewer_1623442297871716.addModel(\"@<TRIPOS>MOLECULE\\nRES\\n8 7 1 0 1\\nSMALL\\nNO_CHARGES\\n@<TRIPOS>CRYSIN\\n    7.2000     9.2000    15.0000    90.0000    90.0000    90.0000  1  1\\n@<TRIPOS>ATOM\\n       1 C            0.0000     0.0000     0.0000 C             1 RES     \\n       2 H           -1.1000     0.0000     0.0000 H             1 RES     \\n       3 H            1.1000     0.0000     0.0000 H             1 RES     \\n       4 H           -0.0000     1.4000     0.0000 H             1 RES     \\n       5 C            0.0000    -1.4000     0.0000 C             1 RES     \\n       6 H           -1.1000    -1.4000    -0.0000 H             1 RES     \\n       7 H            1.1000    -1.4000     0.0000 H             1 RES     \\n       8 H            0.0000    -2.8000     0.0000 H             1 RES     \\n@<TRIPOS>BOND\\n       1        1        2 1\\n       2        3        1 1\\n       3        4        1 1\\n       4        5        1 1\\n       5        8        5 1\\n       6        6        5 1\\n       7        7        5 1\\n@<TRIPOS>SUBSTRUCTURE\\n       1 RES             1 RESIDUE    0 **** ROOT      0\\n\",\"mol2\");\n",
       "\tviewer_1623442297871716.setStyle({\"stick\": {\"radius\": 0.2, \"color\": \"grey\"}, \"sphere\": {\"scale\": 0.3, \"colorscheme\": {}}});\n",
       "\tviewer_1623442297871716.zoomTo();\n",
       "viewer_1623442297871716.render();\n",
       "});\n",
       "</script>"
      ]
     },
     "metadata": {},
     "output_type": "display_data"
    },
    {
     "data": {
      "text/plain": [
       "<py3Dmol.view at 0x7f86fc6a6820>"
      ]
     },
     "execution_count": 3,
     "metadata": {},
     "output_type": "execute_result"
    }
   ],
   "source": [
    "ethane = Alkane(chain_length=2)\n",
    "ethane.visualize()"
   ]
  },
  {
   "cell_type": "code",
   "execution_count": 4,
   "metadata": {},
   "outputs": [
    {
     "data": {
      "application/3dmoljs_load.v0": "<div id=\"3dmolviewer_1623442298110404\"  style=\"position: relative; width: 640px; height: 480px\">\n        <p id=\"3dmolwarning_1623442298110404\" style=\"background-color:#ffcccc;color:black\">You appear to be running in JupyterLab (or JavaScript failed to load for some other reason).  You need to install the 3dmol extension: <br>\n        <tt>jupyter labextension install jupyterlab_3dmol</tt></p>\n        </div>\n<script>\n\nvar loadScriptAsync = function(uri){\n  return new Promise((resolve, reject) => {\n    var tag = document.createElement('script');\n    tag.src = uri;\n    tag.async = true;\n    tag.onload = () => {\n      resolve();\n    };\n  var firstScriptTag = document.getElementsByTagName('script')[0];\n  firstScriptTag.parentNode.insertBefore(tag, firstScriptTag);\n});\n};\n\nif(typeof $3Dmolpromise === 'undefined') {\n$3Dmolpromise = null;\n  $3Dmolpromise = loadScriptAsync('https://3dmol.org/build/3Dmol.js');\n}\n\nvar viewer_1623442298110404 = null;\nvar warn = document.getElementById(\"3dmolwarning_1623442298110404\");\nif(warn) {\n    warn.parentNode.removeChild(warn);\n}\n$3Dmolpromise.then(function() {\nviewer_1623442298110404 = $3Dmol.createViewer($(\"#3dmolviewer_1623442298110404\"),{backgroundColor:\"white\"});\nviewer_1623442298110404.zoomTo();\n\tviewer_1623442298110404.addModel(\"@<TRIPOS>MOLECULE\\nRES\\n20 19 1 0 1\\nSMALL\\nNO_CHARGES\\n@<TRIPOS>CRYSIN\\n    7.2000    14.8000    15.0000    90.0000    90.0000    90.0000  1  1\\n@<TRIPOS>ATOM\\n       1 C            0.0000     0.0000     0.0000 C             1 RES     \\n       2 H           -1.1000     0.0000     0.0000 H             1 RES     \\n       3 H            1.1000     0.0000     0.0000 H             1 RES     \\n       4 H           -0.0000     1.4000     0.0000 H             1 RES     \\n       5 C            0.0000    -1.4000     0.0000 C             1 RES     \\n       6 H           -1.1000    -1.4000    -0.0000 H             1 RES     \\n       7 H            1.1000    -1.4000     0.0000 H             1 RES     \\n       8 C            0.0000    -2.8000     0.0000 C             1 RES     \\n       9 H           -1.1000    -2.8000     0.0000 H             1 RES     \\n      10 H            1.1000    -2.8000     0.0000 H             1 RES     \\n      11 C            0.0000    -4.2000     0.0000 C             1 RES     \\n      12 H           -1.1000    -4.2000     0.0000 H             1 RES     \\n      13 H            1.1000    -4.2000     0.0000 H             1 RES     \\n      14 C           -0.0000    -5.6000     0.0000 C             1 RES     \\n      15 H           -1.1000    -5.6000     0.0000 H             1 RES     \\n      16 H            1.1000    -5.6000     0.0000 H             1 RES     \\n      17 C           -0.0000    -7.0000     0.0000 C             1 RES     \\n      18 H           -1.1000    -7.0000     0.0000 H             1 RES     \\n      19 H            1.1000    -7.0000     0.0000 H             1 RES     \\n      20 H           -0.0000    -8.4000    -0.0000 H             1 RES     \\n@<TRIPOS>BOND\\n       1        1        2 1\\n       2        3        1 1\\n       3        4        1 1\\n       4        5        1 1\\n       5        8        5 1\\n       6        6        5 1\\n       7        7        5 1\\n       8       11        8 1\\n       9        9        8 1\\n      10       10        8 1\\n      11       14       11 1\\n      12       12       11 1\\n      13       13       11 1\\n      14       17       14 1\\n      15       15       14 1\\n      16       16       14 1\\n      17       20       17 1\\n      18       18       17 1\\n      19       19       17 1\\n@<TRIPOS>SUBSTRUCTURE\\n       1 RES             1 RESIDUE    0 **** ROOT      0\\n\",\"mol2\");\n\tviewer_1623442298110404.setStyle({\"stick\": {\"radius\": 0.2, \"color\": \"grey\"}, \"sphere\": {\"scale\": 0.3, \"colorscheme\": {}}});\n\tviewer_1623442298110404.zoomTo();\nviewer_1623442298110404.render();\n});\n</script>",
      "text/html": [
       "<div id=\"3dmolviewer_1623442298110404\"  style=\"position: relative; width: 640px; height: 480px\">\n",
       "        <p id=\"3dmolwarning_1623442298110404\" style=\"background-color:#ffcccc;color:black\">You appear to be running in JupyterLab (or JavaScript failed to load for some other reason).  You need to install the 3dmol extension: <br>\n",
       "        <tt>jupyter labextension install jupyterlab_3dmol</tt></p>\n",
       "        </div>\n",
       "<script>\n",
       "\n",
       "var loadScriptAsync = function(uri){\n",
       "  return new Promise((resolve, reject) => {\n",
       "    var tag = document.createElement('script');\n",
       "    tag.src = uri;\n",
       "    tag.async = true;\n",
       "    tag.onload = () => {\n",
       "      resolve();\n",
       "    };\n",
       "  var firstScriptTag = document.getElementsByTagName('script')[0];\n",
       "  firstScriptTag.parentNode.insertBefore(tag, firstScriptTag);\n",
       "});\n",
       "};\n",
       "\n",
       "if(typeof $3Dmolpromise === 'undefined') {\n",
       "$3Dmolpromise = null;\n",
       "  $3Dmolpromise = loadScriptAsync('https://3dmol.org/build/3Dmol.js');\n",
       "}\n",
       "\n",
       "var viewer_1623442298110404 = null;\n",
       "var warn = document.getElementById(\"3dmolwarning_1623442298110404\");\n",
       "if(warn) {\n",
       "    warn.parentNode.removeChild(warn);\n",
       "}\n",
       "$3Dmolpromise.then(function() {\n",
       "viewer_1623442298110404 = $3Dmol.createViewer($(\"#3dmolviewer_1623442298110404\"),{backgroundColor:\"white\"});\n",
       "viewer_1623442298110404.zoomTo();\n",
       "\tviewer_1623442298110404.addModel(\"@<TRIPOS>MOLECULE\\nRES\\n20 19 1 0 1\\nSMALL\\nNO_CHARGES\\n@<TRIPOS>CRYSIN\\n    7.2000    14.8000    15.0000    90.0000    90.0000    90.0000  1  1\\n@<TRIPOS>ATOM\\n       1 C            0.0000     0.0000     0.0000 C             1 RES     \\n       2 H           -1.1000     0.0000     0.0000 H             1 RES     \\n       3 H            1.1000     0.0000     0.0000 H             1 RES     \\n       4 H           -0.0000     1.4000     0.0000 H             1 RES     \\n       5 C            0.0000    -1.4000     0.0000 C             1 RES     \\n       6 H           -1.1000    -1.4000    -0.0000 H             1 RES     \\n       7 H            1.1000    -1.4000     0.0000 H             1 RES     \\n       8 C            0.0000    -2.8000     0.0000 C             1 RES     \\n       9 H           -1.1000    -2.8000     0.0000 H             1 RES     \\n      10 H            1.1000    -2.8000     0.0000 H             1 RES     \\n      11 C            0.0000    -4.2000     0.0000 C             1 RES     \\n      12 H           -1.1000    -4.2000     0.0000 H             1 RES     \\n      13 H            1.1000    -4.2000     0.0000 H             1 RES     \\n      14 C           -0.0000    -5.6000     0.0000 C             1 RES     \\n      15 H           -1.1000    -5.6000     0.0000 H             1 RES     \\n      16 H            1.1000    -5.6000     0.0000 H             1 RES     \\n      17 C           -0.0000    -7.0000     0.0000 C             1 RES     \\n      18 H           -1.1000    -7.0000     0.0000 H             1 RES     \\n      19 H            1.1000    -7.0000     0.0000 H             1 RES     \\n      20 H           -0.0000    -8.4000    -0.0000 H             1 RES     \\n@<TRIPOS>BOND\\n       1        1        2 1\\n       2        3        1 1\\n       3        4        1 1\\n       4        5        1 1\\n       5        8        5 1\\n       6        6        5 1\\n       7        7        5 1\\n       8       11        8 1\\n       9        9        8 1\\n      10       10        8 1\\n      11       14       11 1\\n      12       12       11 1\\n      13       13       11 1\\n      14       17       14 1\\n      15       15       14 1\\n      16       16       14 1\\n      17       20       17 1\\n      18       18       17 1\\n      19       19       17 1\\n@<TRIPOS>SUBSTRUCTURE\\n       1 RES             1 RESIDUE    0 **** ROOT      0\\n\",\"mol2\");\n",
       "\tviewer_1623442298110404.setStyle({\"stick\": {\"radius\": 0.2, \"color\": \"grey\"}, \"sphere\": {\"scale\": 0.3, \"colorscheme\": {}}});\n",
       "\tviewer_1623442298110404.zoomTo();\n",
       "viewer_1623442298110404.render();\n",
       "});\n",
       "</script>"
      ]
     },
     "metadata": {},
     "output_type": "display_data"
    },
    {
     "data": {
      "text/plain": [
       "<py3Dmol.view at 0x7f86fc88bca0>"
      ]
     },
     "execution_count": 4,
     "metadata": {},
     "output_type": "execute_result"
    }
   ],
   "source": [
    "hexane = Alkane(chain_length=6)\n",
    "hexane.visualize()"
   ]
  },
  {
   "cell_type": "markdown",
   "metadata": {},
   "source": [
    "## Creation of an imidazole with an arbitrary side chain length"
   ]
  },
  {
   "cell_type": "markdown",
   "metadata": {
    "collapsed": true
   },
   "source": [
    "The linear alkane class above can be trivially modified to create more complex molecules, e.g. by changing the chemistry of one or both of the capping groups. Here, we will replace one of the hydrogen caps with an imidazole ring. \n",
    "\n",
    "Let us first start by creating an `Imidazole` class, loading in the structure from a MOL2 file, and adding a `Port` to the appropriate location for the tail."
   ]
  },
  {
   "cell_type": "code",
   "execution_count": 5,
   "metadata": {},
   "outputs": [],
   "source": [
    "class Imidazole(mb.Compound):\n",
    "    def __init__(self):\n",
    "        super(Imidazole, self).__init__()\n",
    "        mb.load('utils/cmim.mol2', compound=self)\n",
    "        #define C_tail to be the N atom for which the carbon tail will attach. \n",
    "        #This is the 4th entry in the datafile provided, hence self[3]\n",
    "        C_tail = self[3] \n",
    "        #add a port\n",
    "        self.add(mb.Port(anchor=C_tail, orientation=[0, 1, 0], separation=0.04), 'up')"
   ]
  },
  {
   "cell_type": "markdown",
   "metadata": {},
   "source": [
    "Next we will create a CMIM class that largely mimics the alkane class, but changes one capping hydrogen for an Imidazole. "
   ]
  },
  {
   "cell_type": "code",
   "execution_count": 6,
   "metadata": {},
   "outputs": [],
   "source": [
    "from mbuild.lib.atoms import H\n",
    "from mbuild.lib.moieties import CH2\n",
    "\n",
    "class CMIM(mb.Compound):\n",
    "    def __init__(self, chain_length):\n",
    "        super(CMIM, self).__init__()\n",
    "        \n",
    "        hydrogen = H()\n",
    "        last_unit = CH2()\n",
    "        mb.force_overlap(move_this=hydrogen,\n",
    "                         from_positions=hydrogen['up'],\n",
    "                         to_positions=last_unit['up'])\n",
    "        self.add(last_unit, label='ch2[$]')\n",
    "        self.add(hydrogen, label='up-cap')\n",
    "        for _ in range(chain_length - 1):\n",
    "            current_unit = CH2()\n",
    "            mb.force_overlap(move_this=current_unit,\n",
    "                             from_positions=current_unit['up'],\n",
    "                             to_positions=last_unit['down'])\n",
    "            self.add(current_unit, label='ch2[$]')\n",
    "            last_unit=current_unit\n",
    "        imidazole = Imidazole()\n",
    "        mb.force_overlap(move_this=imidazole,\n",
    "                         from_positions=imidazole['up'],\n",
    "                         to_positions=last_unit['down'])\n",
    "        self.add(imidazole, label='down-cap')"
   ]
  },
  {
   "cell_type": "markdown",
   "metadata": {},
   "source": [
    "Here, we can use this to create 1-Butyl-3-methylimidazolium (bmim), by passing a side chain length of 4."
   ]
  },
  {
   "cell_type": "code",
   "execution_count": 7,
   "metadata": {},
   "outputs": [
    {
     "data": {
      "application/3dmoljs_load.v0": "<div id=\"3dmolviewer_162344229913583\"  style=\"position: relative; width: 640px; height: 480px\">\n        <p id=\"3dmolwarning_162344229913583\" style=\"background-color:#ffcccc;color:black\">You appear to be running in JupyterLab (or JavaScript failed to load for some other reason).  You need to install the 3dmol extension: <br>\n        <tt>jupyter labextension install jupyterlab_3dmol</tt></p>\n        </div>\n<script>\n\nvar loadScriptAsync = function(uri){\n  return new Promise((resolve, reject) => {\n    var tag = document.createElement('script');\n    tag.src = uri;\n    tag.async = true;\n    tag.onload = () => {\n      resolve();\n    };\n  var firstScriptTag = document.getElementsByTagName('script')[0];\n  firstScriptTag.parentNode.insertBefore(tag, firstScriptTag);\n});\n};\n\nif(typeof $3Dmolpromise === 'undefined') {\n$3Dmolpromise = null;\n  $3Dmolpromise = loadScriptAsync('https://3dmol.org/build/3Dmol.js');\n}\n\nvar viewer_162344229913583 = null;\nvar warn = document.getElementById(\"3dmolwarning_162344229913583\");\nif(warn) {\n    warn.parentNode.removeChild(warn);\n}\n$3Dmolpromise.then(function() {\nviewer_162344229913583 = $3Dmol.createViewer($(\"#3dmolviewer_162344229913583\"),{backgroundColor:\"white\"});\nviewer_162344229913583.zoomTo();\n\tviewer_162344229913583.addModel(\"@<TRIPOS>MOLECULE\\nRES\\n25 25 1 0 1\\nSMALL\\nNO_CHARGES\\n@<TRIPOS>CRYSIN\\n    9.5785    16.0350     6.6580    90.0000    90.0000    90.0000  1  1\\n@<TRIPOS>ATOM\\n       1 C            0.0000     0.0000     0.0000 C             1 RES     \\n       2 H           -1.1000     0.0000     0.0000 H             1 RES     \\n       3 H            1.1000     0.0000     0.0000 H             1 RES     \\n       4 H           -0.0000     1.4000     0.0000 H             1 RES     \\n       5 C            0.0000    -1.4000     0.0000 C             1 RES     \\n       6 H           -1.1000    -1.4000    -0.0000 H             1 RES     \\n       7 H            1.1000    -1.4000     0.0000 H             1 RES     \\n       8 C            0.0000    -2.8000     0.0000 C             1 RES     \\n       9 H           -1.1000    -2.8000     0.0000 H             1 RES     \\n      10 H            1.1000    -2.8000     0.0000 H             1 RES     \\n      11 C            0.0000    -4.2000     0.0000 C             1 RES     \\n      12 H           -1.1000    -4.2000     0.0000 H             1 RES     \\n      13 H            1.1000    -4.2000     0.0000 H             1 RES     \\n      14 C           -1.2842    -6.1020     0.1643 C             1 RES     \\n      15 C           -0.8217    -7.4738    -0.2541 C             1 RES     \\n      16 N            0.4931    -7.5395     0.5043 N             1 RES     \\n      17 N           -0.0000    -5.3000     0.0000 N             1 RES     \\n      18 C            1.4174    -8.6458     0.0041 C             1 RES     \\n      19 H            2.3614    -8.6399     0.5889 H             1 RES     \\n      20 H            1.6609    -8.4927    -1.0691 H             1 RES     \\n      21 H            0.9277    -9.6350     0.1270 H             1 RES     \\n      22 C            1.1000    -6.2119     0.3435 C             1 RES     \\n      23 H           -2.2171    -5.7907     0.4770 H             1 RES     \\n      24 H           -1.2681    -8.1668    -0.8750 H             1 RES     \\n      25 H            2.0972    -5.9686     0.4502 H             1 RES     \\n@<TRIPOS>BOND\\n       1        1        2 1\\n       2        3        1 1\\n       3        4        1 1\\n       4        5        1 1\\n       5        8        5 1\\n       6        6        5 1\\n       7        7        5 1\\n       8       11        8 1\\n       9        9        8 1\\n      10       10        8 1\\n      11       17       11 1\\n      12       12       11 1\\n      13       13       11 1\\n      14       14       17 1\\n      15       22       17 1\\n      16       14       15 1\\n      17       16       15 1\\n      18       24       15 1\\n      19       23       14 1\\n      20       18       16 1\\n      21       22       16 1\\n      22       19       18 1\\n      23       20       18 1\\n      24       21       18 1\\n      25       25       22 1\\n@<TRIPOS>SUBSTRUCTURE\\n       1 RES             1 RESIDUE    0 **** ROOT      0\\n\",\"mol2\");\n\tviewer_162344229913583.setStyle({\"stick\": {\"radius\": 0.2, \"color\": \"grey\"}, \"sphere\": {\"scale\": 0.3, \"colorscheme\": {}}});\n\tviewer_162344229913583.zoomTo();\nviewer_162344229913583.render();\n});\n</script>",
      "text/html": [
       "<div id=\"3dmolviewer_162344229913583\"  style=\"position: relative; width: 640px; height: 480px\">\n",
       "        <p id=\"3dmolwarning_162344229913583\" style=\"background-color:#ffcccc;color:black\">You appear to be running in JupyterLab (or JavaScript failed to load for some other reason).  You need to install the 3dmol extension: <br>\n",
       "        <tt>jupyter labextension install jupyterlab_3dmol</tt></p>\n",
       "        </div>\n",
       "<script>\n",
       "\n",
       "var loadScriptAsync = function(uri){\n",
       "  return new Promise((resolve, reject) => {\n",
       "    var tag = document.createElement('script');\n",
       "    tag.src = uri;\n",
       "    tag.async = true;\n",
       "    tag.onload = () => {\n",
       "      resolve();\n",
       "    };\n",
       "  var firstScriptTag = document.getElementsByTagName('script')[0];\n",
       "  firstScriptTag.parentNode.insertBefore(tag, firstScriptTag);\n",
       "});\n",
       "};\n",
       "\n",
       "if(typeof $3Dmolpromise === 'undefined') {\n",
       "$3Dmolpromise = null;\n",
       "  $3Dmolpromise = loadScriptAsync('https://3dmol.org/build/3Dmol.js');\n",
       "}\n",
       "\n",
       "var viewer_162344229913583 = null;\n",
       "var warn = document.getElementById(\"3dmolwarning_162344229913583\");\n",
       "if(warn) {\n",
       "    warn.parentNode.removeChild(warn);\n",
       "}\n",
       "$3Dmolpromise.then(function() {\n",
       "viewer_162344229913583 = $3Dmol.createViewer($(\"#3dmolviewer_162344229913583\"),{backgroundColor:\"white\"});\n",
       "viewer_162344229913583.zoomTo();\n",
       "\tviewer_162344229913583.addModel(\"@<TRIPOS>MOLECULE\\nRES\\n25 25 1 0 1\\nSMALL\\nNO_CHARGES\\n@<TRIPOS>CRYSIN\\n    9.5785    16.0350     6.6580    90.0000    90.0000    90.0000  1  1\\n@<TRIPOS>ATOM\\n       1 C            0.0000     0.0000     0.0000 C             1 RES     \\n       2 H           -1.1000     0.0000     0.0000 H             1 RES     \\n       3 H            1.1000     0.0000     0.0000 H             1 RES     \\n       4 H           -0.0000     1.4000     0.0000 H             1 RES     \\n       5 C            0.0000    -1.4000     0.0000 C             1 RES     \\n       6 H           -1.1000    -1.4000    -0.0000 H             1 RES     \\n       7 H            1.1000    -1.4000     0.0000 H             1 RES     \\n       8 C            0.0000    -2.8000     0.0000 C             1 RES     \\n       9 H           -1.1000    -2.8000     0.0000 H             1 RES     \\n      10 H            1.1000    -2.8000     0.0000 H             1 RES     \\n      11 C            0.0000    -4.2000     0.0000 C             1 RES     \\n      12 H           -1.1000    -4.2000     0.0000 H             1 RES     \\n      13 H            1.1000    -4.2000     0.0000 H             1 RES     \\n      14 C           -1.2842    -6.1020     0.1643 C             1 RES     \\n      15 C           -0.8217    -7.4738    -0.2541 C             1 RES     \\n      16 N            0.4931    -7.5395     0.5043 N             1 RES     \\n      17 N           -0.0000    -5.3000     0.0000 N             1 RES     \\n      18 C            1.4174    -8.6458     0.0041 C             1 RES     \\n      19 H            2.3614    -8.6399     0.5889 H             1 RES     \\n      20 H            1.6609    -8.4927    -1.0691 H             1 RES     \\n      21 H            0.9277    -9.6350     0.1270 H             1 RES     \\n      22 C            1.1000    -6.2119     0.3435 C             1 RES     \\n      23 H           -2.2171    -5.7907     0.4770 H             1 RES     \\n      24 H           -1.2681    -8.1668    -0.8750 H             1 RES     \\n      25 H            2.0972    -5.9686     0.4502 H             1 RES     \\n@<TRIPOS>BOND\\n       1        1        2 1\\n       2        3        1 1\\n       3        4        1 1\\n       4        5        1 1\\n       5        8        5 1\\n       6        6        5 1\\n       7        7        5 1\\n       8       11        8 1\\n       9        9        8 1\\n      10       10        8 1\\n      11       17       11 1\\n      12       12       11 1\\n      13       13       11 1\\n      14       14       17 1\\n      15       22       17 1\\n      16       14       15 1\\n      17       16       15 1\\n      18       24       15 1\\n      19       23       14 1\\n      20       18       16 1\\n      21       22       16 1\\n      22       19       18 1\\n      23       20       18 1\\n      24       21       18 1\\n      25       25       22 1\\n@<TRIPOS>SUBSTRUCTURE\\n       1 RES             1 RESIDUE    0 **** ROOT      0\\n\",\"mol2\");\n",
       "\tviewer_162344229913583.setStyle({\"stick\": {\"radius\": 0.2, \"color\": \"grey\"}, \"sphere\": {\"scale\": 0.3, \"colorscheme\": {}}});\n",
       "\tviewer_162344229913583.zoomTo();\n",
       "viewer_162344229913583.render();\n",
       "});\n",
       "</script>"
      ]
     },
     "metadata": {},
     "output_type": "display_data"
    },
    {
     "data": {
      "text/plain": [
       "<py3Dmol.view at 0x7f86fd3901f0>"
      ]
     },
     "execution_count": 7,
     "metadata": {},
     "output_type": "execute_result"
    }
   ],
   "source": [
    "bmim = CMIM(chain_length=4)\n",
    "bmim.visualize()"
   ]
  },
  {
   "cell_type": "markdown",
   "metadata": {
    "collapsed": true
   },
   "source": [
    "## Recap\n",
    "\n",
    "The goal of this tutorial was to demonstrate how to create `Compound` classes with arguments that can be used to tune the molecular chemistry.\n",
    "\n",
    "The next tutorial will teach you how to create systems of bulk molecules."
   ]
  }
 ],
 "metadata": {
  "kernelspec": {
   "display_name": "Python 3",
   "language": "python",
   "name": "python3"
  },
  "language_info": {
   "codemirror_mode": {
    "name": "ipython",
    "version": 3
   },
   "file_extension": ".py",
   "mimetype": "text/x-python",
   "name": "python",
   "nbconvert_exporter": "python",
   "pygments_lexer": "ipython3",
   "version": "3.8.10"
  }
 },
 "nbformat": 4,
 "nbformat_minor": 2
}
